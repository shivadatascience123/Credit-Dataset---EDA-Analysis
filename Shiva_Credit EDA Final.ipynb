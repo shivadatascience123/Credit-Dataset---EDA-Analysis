{
 "cells": [
  {
   "cell_type": "code",
   "execution_count": 361,
   "id": "2d9f0c45-0e53-4aba-90c1-5ef8ef502ddc",
   "metadata": {},
   "outputs": [],
   "source": [
    "#Credit Dataset EDA Analysis\n",
    "#Submitted by Shiva Shankar Iyer"
   ]
  },
  {
   "cell_type": "markdown",
   "id": "743c092c-0586-41a7-9409-212f080c2fec",
   "metadata": {},
   "source": [
    "1.Importing the necessary libraries"
   ]
  },
  {
   "cell_type": "code",
   "execution_count": 363,
   "id": "5822e629-7a12-4a47-92a6-cf341256c6a9",
   "metadata": {},
   "outputs": [],
   "source": [
    "#import the warnings\n",
    "import warnings\n",
    "warnings.filterwarnings(\"ignore\")"
   ]
  },
  {
   "cell_type": "code",
   "execution_count": 364,
   "id": "e464d38d-6a4d-458b-b9f0-bfc5da84572f",
   "metadata": {},
   "outputs": [],
   "source": [
    "import pandas as pd\n",
    "import numpy as np\n",
    "import matplotlib.pyplot as plt\n",
    "import seaborn as sns\n",
    "%matplotlib inline"
   ]
  },
  {
   "cell_type": "markdown",
   "id": "bbfa85b4-7eaa-4dcf-98be-45bbb7450b2c",
   "metadata": {},
   "source": [
    "2.Importing the datasets into Python"
   ]
  },
  {
   "cell_type": "code",
   "execution_count": 366,
   "id": "caabdfce-72db-48ef-857c-e3efe1317723",
   "metadata": {},
   "outputs": [],
   "source": [
    "inp0 = pd.read_csv(\"application_data.csv\")\n",
    "inp1 = pd.read_csv(\"previous_application.csv\")"
   ]
  },
  {
   "cell_type": "code",
   "execution_count": 367,
   "id": "55f8ba2a-b4fd-48d4-9de6-845f16794df4",
   "metadata": {},
   "outputs": [
    {
     "data": {
      "text/html": [
       "<div>\n",
       "<style scoped>\n",
       "    .dataframe tbody tr th:only-of-type {\n",
       "        vertical-align: middle;\n",
       "    }\n",
       "\n",
       "    .dataframe tbody tr th {\n",
       "        vertical-align: top;\n",
       "    }\n",
       "\n",
       "    .dataframe thead th {\n",
       "        text-align: right;\n",
       "    }\n",
       "</style>\n",
       "<table border=\"1\" class=\"dataframe\">\n",
       "  <thead>\n",
       "    <tr style=\"text-align: right;\">\n",
       "      <th></th>\n",
       "      <th>SK_ID_CURR</th>\n",
       "      <th>TARGET</th>\n",
       "      <th>NAME_CONTRACT_TYPE</th>\n",
       "      <th>CODE_GENDER</th>\n",
       "      <th>FLAG_OWN_CAR</th>\n",
       "      <th>FLAG_OWN_REALTY</th>\n",
       "      <th>CNT_CHILDREN</th>\n",
       "      <th>AMT_INCOME_TOTAL</th>\n",
       "      <th>AMT_CREDIT</th>\n",
       "      <th>AMT_ANNUITY</th>\n",
       "      <th>...</th>\n",
       "      <th>FLAG_DOCUMENT_18</th>\n",
       "      <th>FLAG_DOCUMENT_19</th>\n",
       "      <th>FLAG_DOCUMENT_20</th>\n",
       "      <th>FLAG_DOCUMENT_21</th>\n",
       "      <th>AMT_REQ_CREDIT_BUREAU_HOUR</th>\n",
       "      <th>AMT_REQ_CREDIT_BUREAU_DAY</th>\n",
       "      <th>AMT_REQ_CREDIT_BUREAU_WEEK</th>\n",
       "      <th>AMT_REQ_CREDIT_BUREAU_MON</th>\n",
       "      <th>AMT_REQ_CREDIT_BUREAU_QRT</th>\n",
       "      <th>AMT_REQ_CREDIT_BUREAU_YEAR</th>\n",
       "    </tr>\n",
       "  </thead>\n",
       "  <tbody>\n",
       "    <tr>\n",
       "      <th>0</th>\n",
       "      <td>100002</td>\n",
       "      <td>1</td>\n",
       "      <td>Cash loans</td>\n",
       "      <td>M</td>\n",
       "      <td>N</td>\n",
       "      <td>Y</td>\n",
       "      <td>0</td>\n",
       "      <td>202500.0</td>\n",
       "      <td>406597.5</td>\n",
       "      <td>24700.5</td>\n",
       "      <td>...</td>\n",
       "      <td>0</td>\n",
       "      <td>0</td>\n",
       "      <td>0</td>\n",
       "      <td>0</td>\n",
       "      <td>0.0</td>\n",
       "      <td>0.0</td>\n",
       "      <td>0.0</td>\n",
       "      <td>0.0</td>\n",
       "      <td>0.0</td>\n",
       "      <td>1.0</td>\n",
       "    </tr>\n",
       "    <tr>\n",
       "      <th>1</th>\n",
       "      <td>100003</td>\n",
       "      <td>0</td>\n",
       "      <td>Cash loans</td>\n",
       "      <td>F</td>\n",
       "      <td>N</td>\n",
       "      <td>N</td>\n",
       "      <td>0</td>\n",
       "      <td>270000.0</td>\n",
       "      <td>1293502.5</td>\n",
       "      <td>35698.5</td>\n",
       "      <td>...</td>\n",
       "      <td>0</td>\n",
       "      <td>0</td>\n",
       "      <td>0</td>\n",
       "      <td>0</td>\n",
       "      <td>0.0</td>\n",
       "      <td>0.0</td>\n",
       "      <td>0.0</td>\n",
       "      <td>0.0</td>\n",
       "      <td>0.0</td>\n",
       "      <td>0.0</td>\n",
       "    </tr>\n",
       "    <tr>\n",
       "      <th>2</th>\n",
       "      <td>100004</td>\n",
       "      <td>0</td>\n",
       "      <td>Revolving loans</td>\n",
       "      <td>M</td>\n",
       "      <td>Y</td>\n",
       "      <td>Y</td>\n",
       "      <td>0</td>\n",
       "      <td>67500.0</td>\n",
       "      <td>135000.0</td>\n",
       "      <td>6750.0</td>\n",
       "      <td>...</td>\n",
       "      <td>0</td>\n",
       "      <td>0</td>\n",
       "      <td>0</td>\n",
       "      <td>0</td>\n",
       "      <td>0.0</td>\n",
       "      <td>0.0</td>\n",
       "      <td>0.0</td>\n",
       "      <td>0.0</td>\n",
       "      <td>0.0</td>\n",
       "      <td>0.0</td>\n",
       "    </tr>\n",
       "    <tr>\n",
       "      <th>3</th>\n",
       "      <td>100006</td>\n",
       "      <td>0</td>\n",
       "      <td>Cash loans</td>\n",
       "      <td>F</td>\n",
       "      <td>N</td>\n",
       "      <td>Y</td>\n",
       "      <td>0</td>\n",
       "      <td>135000.0</td>\n",
       "      <td>312682.5</td>\n",
       "      <td>29686.5</td>\n",
       "      <td>...</td>\n",
       "      <td>0</td>\n",
       "      <td>0</td>\n",
       "      <td>0</td>\n",
       "      <td>0</td>\n",
       "      <td>NaN</td>\n",
       "      <td>NaN</td>\n",
       "      <td>NaN</td>\n",
       "      <td>NaN</td>\n",
       "      <td>NaN</td>\n",
       "      <td>NaN</td>\n",
       "    </tr>\n",
       "    <tr>\n",
       "      <th>4</th>\n",
       "      <td>100007</td>\n",
       "      <td>0</td>\n",
       "      <td>Cash loans</td>\n",
       "      <td>M</td>\n",
       "      <td>N</td>\n",
       "      <td>Y</td>\n",
       "      <td>0</td>\n",
       "      <td>121500.0</td>\n",
       "      <td>513000.0</td>\n",
       "      <td>21865.5</td>\n",
       "      <td>...</td>\n",
       "      <td>0</td>\n",
       "      <td>0</td>\n",
       "      <td>0</td>\n",
       "      <td>0</td>\n",
       "      <td>0.0</td>\n",
       "      <td>0.0</td>\n",
       "      <td>0.0</td>\n",
       "      <td>0.0</td>\n",
       "      <td>0.0</td>\n",
       "      <td>0.0</td>\n",
       "    </tr>\n",
       "  </tbody>\n",
       "</table>\n",
       "<p>5 rows × 122 columns</p>\n",
       "</div>"
      ],
      "text/plain": [
       "   SK_ID_CURR  TARGET NAME_CONTRACT_TYPE CODE_GENDER FLAG_OWN_CAR  \\\n",
       "0      100002       1         Cash loans           M            N   \n",
       "1      100003       0         Cash loans           F            N   \n",
       "2      100004       0    Revolving loans           M            Y   \n",
       "3      100006       0         Cash loans           F            N   \n",
       "4      100007       0         Cash loans           M            N   \n",
       "\n",
       "  FLAG_OWN_REALTY  CNT_CHILDREN  AMT_INCOME_TOTAL  AMT_CREDIT  AMT_ANNUITY  \\\n",
       "0               Y             0          202500.0    406597.5      24700.5   \n",
       "1               N             0          270000.0   1293502.5      35698.5   \n",
       "2               Y             0           67500.0    135000.0       6750.0   \n",
       "3               Y             0          135000.0    312682.5      29686.5   \n",
       "4               Y             0          121500.0    513000.0      21865.5   \n",
       "\n",
       "   ...  FLAG_DOCUMENT_18 FLAG_DOCUMENT_19 FLAG_DOCUMENT_20 FLAG_DOCUMENT_21  \\\n",
       "0  ...                 0                0                0                0   \n",
       "1  ...                 0                0                0                0   \n",
       "2  ...                 0                0                0                0   \n",
       "3  ...                 0                0                0                0   \n",
       "4  ...                 0                0                0                0   \n",
       "\n",
       "  AMT_REQ_CREDIT_BUREAU_HOUR AMT_REQ_CREDIT_BUREAU_DAY  \\\n",
       "0                        0.0                       0.0   \n",
       "1                        0.0                       0.0   \n",
       "2                        0.0                       0.0   \n",
       "3                        NaN                       NaN   \n",
       "4                        0.0                       0.0   \n",
       "\n",
       "   AMT_REQ_CREDIT_BUREAU_WEEK  AMT_REQ_CREDIT_BUREAU_MON  \\\n",
       "0                         0.0                        0.0   \n",
       "1                         0.0                        0.0   \n",
       "2                         0.0                        0.0   \n",
       "3                         NaN                        NaN   \n",
       "4                         0.0                        0.0   \n",
       "\n",
       "   AMT_REQ_CREDIT_BUREAU_QRT  AMT_REQ_CREDIT_BUREAU_YEAR  \n",
       "0                        0.0                         1.0  \n",
       "1                        0.0                         0.0  \n",
       "2                        0.0                         0.0  \n",
       "3                        NaN                         NaN  \n",
       "4                        0.0                         0.0  \n",
       "\n",
       "[5 rows x 122 columns]"
      ]
     },
     "execution_count": 367,
     "metadata": {},
     "output_type": "execute_result"
    }
   ],
   "source": [
    "#Reading and cleaning the 'application_data\" file by dropping unnecessary columns.\n",
    "inp0.head()"
   ]
  },
  {
   "cell_type": "code",
   "execution_count": 368,
   "id": "35e0c511-01d2-48c6-88f8-420c0e36b395",
   "metadata": {},
   "outputs": [],
   "source": [
    "#Describe the 'application' dataset"
   ]
  },
  {
   "cell_type": "code",
   "execution_count": 369,
   "id": "cdf02c1c-41de-4e16-b8ee-0a917f466613",
   "metadata": {},
   "outputs": [
    {
     "data": {
      "text/html": [
       "<div>\n",
       "<style scoped>\n",
       "    .dataframe tbody tr th:only-of-type {\n",
       "        vertical-align: middle;\n",
       "    }\n",
       "\n",
       "    .dataframe tbody tr th {\n",
       "        vertical-align: top;\n",
       "    }\n",
       "\n",
       "    .dataframe thead th {\n",
       "        text-align: right;\n",
       "    }\n",
       "</style>\n",
       "<table border=\"1\" class=\"dataframe\">\n",
       "  <thead>\n",
       "    <tr style=\"text-align: right;\">\n",
       "      <th></th>\n",
       "      <th>SK_ID_CURR</th>\n",
       "      <th>TARGET</th>\n",
       "      <th>CNT_CHILDREN</th>\n",
       "      <th>AMT_INCOME_TOTAL</th>\n",
       "      <th>AMT_CREDIT</th>\n",
       "      <th>AMT_ANNUITY</th>\n",
       "      <th>AMT_GOODS_PRICE</th>\n",
       "      <th>REGION_POPULATION_RELATIVE</th>\n",
       "      <th>DAYS_BIRTH</th>\n",
       "      <th>DAYS_EMPLOYED</th>\n",
       "      <th>...</th>\n",
       "      <th>FLAG_DOCUMENT_18</th>\n",
       "      <th>FLAG_DOCUMENT_19</th>\n",
       "      <th>FLAG_DOCUMENT_20</th>\n",
       "      <th>FLAG_DOCUMENT_21</th>\n",
       "      <th>AMT_REQ_CREDIT_BUREAU_HOUR</th>\n",
       "      <th>AMT_REQ_CREDIT_BUREAU_DAY</th>\n",
       "      <th>AMT_REQ_CREDIT_BUREAU_WEEK</th>\n",
       "      <th>AMT_REQ_CREDIT_BUREAU_MON</th>\n",
       "      <th>AMT_REQ_CREDIT_BUREAU_QRT</th>\n",
       "      <th>AMT_REQ_CREDIT_BUREAU_YEAR</th>\n",
       "    </tr>\n",
       "  </thead>\n",
       "  <tbody>\n",
       "    <tr>\n",
       "      <th>count</th>\n",
       "      <td>307511.000000</td>\n",
       "      <td>307511.000000</td>\n",
       "      <td>307511.000000</td>\n",
       "      <td>3.075110e+05</td>\n",
       "      <td>3.075110e+05</td>\n",
       "      <td>307499.000000</td>\n",
       "      <td>3.072330e+05</td>\n",
       "      <td>307511.000000</td>\n",
       "      <td>307511.000000</td>\n",
       "      <td>307511.000000</td>\n",
       "      <td>...</td>\n",
       "      <td>307511.000000</td>\n",
       "      <td>307511.000000</td>\n",
       "      <td>307511.000000</td>\n",
       "      <td>307511.000000</td>\n",
       "      <td>265992.000000</td>\n",
       "      <td>265992.000000</td>\n",
       "      <td>265992.000000</td>\n",
       "      <td>265992.000000</td>\n",
       "      <td>265992.000000</td>\n",
       "      <td>265992.000000</td>\n",
       "    </tr>\n",
       "    <tr>\n",
       "      <th>mean</th>\n",
       "      <td>278180.518577</td>\n",
       "      <td>0.080729</td>\n",
       "      <td>0.417052</td>\n",
       "      <td>1.687979e+05</td>\n",
       "      <td>5.990260e+05</td>\n",
       "      <td>27108.573909</td>\n",
       "      <td>5.383962e+05</td>\n",
       "      <td>0.020868</td>\n",
       "      <td>-16036.995067</td>\n",
       "      <td>63815.045904</td>\n",
       "      <td>...</td>\n",
       "      <td>0.008130</td>\n",
       "      <td>0.000595</td>\n",
       "      <td>0.000507</td>\n",
       "      <td>0.000335</td>\n",
       "      <td>0.006402</td>\n",
       "      <td>0.007000</td>\n",
       "      <td>0.034362</td>\n",
       "      <td>0.267395</td>\n",
       "      <td>0.265474</td>\n",
       "      <td>1.899974</td>\n",
       "    </tr>\n",
       "    <tr>\n",
       "      <th>std</th>\n",
       "      <td>102790.175348</td>\n",
       "      <td>0.272419</td>\n",
       "      <td>0.722121</td>\n",
       "      <td>2.371231e+05</td>\n",
       "      <td>4.024908e+05</td>\n",
       "      <td>14493.737315</td>\n",
       "      <td>3.694465e+05</td>\n",
       "      <td>0.013831</td>\n",
       "      <td>4363.988632</td>\n",
       "      <td>141275.766519</td>\n",
       "      <td>...</td>\n",
       "      <td>0.089798</td>\n",
       "      <td>0.024387</td>\n",
       "      <td>0.022518</td>\n",
       "      <td>0.018299</td>\n",
       "      <td>0.083849</td>\n",
       "      <td>0.110757</td>\n",
       "      <td>0.204685</td>\n",
       "      <td>0.916002</td>\n",
       "      <td>0.794056</td>\n",
       "      <td>1.869295</td>\n",
       "    </tr>\n",
       "    <tr>\n",
       "      <th>min</th>\n",
       "      <td>100002.000000</td>\n",
       "      <td>0.000000</td>\n",
       "      <td>0.000000</td>\n",
       "      <td>2.565000e+04</td>\n",
       "      <td>4.500000e+04</td>\n",
       "      <td>1615.500000</td>\n",
       "      <td>4.050000e+04</td>\n",
       "      <td>0.000290</td>\n",
       "      <td>-25229.000000</td>\n",
       "      <td>-17912.000000</td>\n",
       "      <td>...</td>\n",
       "      <td>0.000000</td>\n",
       "      <td>0.000000</td>\n",
       "      <td>0.000000</td>\n",
       "      <td>0.000000</td>\n",
       "      <td>0.000000</td>\n",
       "      <td>0.000000</td>\n",
       "      <td>0.000000</td>\n",
       "      <td>0.000000</td>\n",
       "      <td>0.000000</td>\n",
       "      <td>0.000000</td>\n",
       "    </tr>\n",
       "    <tr>\n",
       "      <th>25%</th>\n",
       "      <td>189145.500000</td>\n",
       "      <td>0.000000</td>\n",
       "      <td>0.000000</td>\n",
       "      <td>1.125000e+05</td>\n",
       "      <td>2.700000e+05</td>\n",
       "      <td>16524.000000</td>\n",
       "      <td>2.385000e+05</td>\n",
       "      <td>0.010006</td>\n",
       "      <td>-19682.000000</td>\n",
       "      <td>-2760.000000</td>\n",
       "      <td>...</td>\n",
       "      <td>0.000000</td>\n",
       "      <td>0.000000</td>\n",
       "      <td>0.000000</td>\n",
       "      <td>0.000000</td>\n",
       "      <td>0.000000</td>\n",
       "      <td>0.000000</td>\n",
       "      <td>0.000000</td>\n",
       "      <td>0.000000</td>\n",
       "      <td>0.000000</td>\n",
       "      <td>0.000000</td>\n",
       "    </tr>\n",
       "    <tr>\n",
       "      <th>50%</th>\n",
       "      <td>278202.000000</td>\n",
       "      <td>0.000000</td>\n",
       "      <td>0.000000</td>\n",
       "      <td>1.471500e+05</td>\n",
       "      <td>5.135310e+05</td>\n",
       "      <td>24903.000000</td>\n",
       "      <td>4.500000e+05</td>\n",
       "      <td>0.018850</td>\n",
       "      <td>-15750.000000</td>\n",
       "      <td>-1213.000000</td>\n",
       "      <td>...</td>\n",
       "      <td>0.000000</td>\n",
       "      <td>0.000000</td>\n",
       "      <td>0.000000</td>\n",
       "      <td>0.000000</td>\n",
       "      <td>0.000000</td>\n",
       "      <td>0.000000</td>\n",
       "      <td>0.000000</td>\n",
       "      <td>0.000000</td>\n",
       "      <td>0.000000</td>\n",
       "      <td>1.000000</td>\n",
       "    </tr>\n",
       "    <tr>\n",
       "      <th>75%</th>\n",
       "      <td>367142.500000</td>\n",
       "      <td>0.000000</td>\n",
       "      <td>1.000000</td>\n",
       "      <td>2.025000e+05</td>\n",
       "      <td>8.086500e+05</td>\n",
       "      <td>34596.000000</td>\n",
       "      <td>6.795000e+05</td>\n",
       "      <td>0.028663</td>\n",
       "      <td>-12413.000000</td>\n",
       "      <td>-289.000000</td>\n",
       "      <td>...</td>\n",
       "      <td>0.000000</td>\n",
       "      <td>0.000000</td>\n",
       "      <td>0.000000</td>\n",
       "      <td>0.000000</td>\n",
       "      <td>0.000000</td>\n",
       "      <td>0.000000</td>\n",
       "      <td>0.000000</td>\n",
       "      <td>0.000000</td>\n",
       "      <td>0.000000</td>\n",
       "      <td>3.000000</td>\n",
       "    </tr>\n",
       "    <tr>\n",
       "      <th>max</th>\n",
       "      <td>456255.000000</td>\n",
       "      <td>1.000000</td>\n",
       "      <td>19.000000</td>\n",
       "      <td>1.170000e+08</td>\n",
       "      <td>4.050000e+06</td>\n",
       "      <td>258025.500000</td>\n",
       "      <td>4.050000e+06</td>\n",
       "      <td>0.072508</td>\n",
       "      <td>-7489.000000</td>\n",
       "      <td>365243.000000</td>\n",
       "      <td>...</td>\n",
       "      <td>1.000000</td>\n",
       "      <td>1.000000</td>\n",
       "      <td>1.000000</td>\n",
       "      <td>1.000000</td>\n",
       "      <td>4.000000</td>\n",
       "      <td>9.000000</td>\n",
       "      <td>8.000000</td>\n",
       "      <td>27.000000</td>\n",
       "      <td>261.000000</td>\n",
       "      <td>25.000000</td>\n",
       "    </tr>\n",
       "  </tbody>\n",
       "</table>\n",
       "<p>8 rows × 106 columns</p>\n",
       "</div>"
      ],
      "text/plain": [
       "          SK_ID_CURR         TARGET   CNT_CHILDREN  AMT_INCOME_TOTAL  \\\n",
       "count  307511.000000  307511.000000  307511.000000      3.075110e+05   \n",
       "mean   278180.518577       0.080729       0.417052      1.687979e+05   \n",
       "std    102790.175348       0.272419       0.722121      2.371231e+05   \n",
       "min    100002.000000       0.000000       0.000000      2.565000e+04   \n",
       "25%    189145.500000       0.000000       0.000000      1.125000e+05   \n",
       "50%    278202.000000       0.000000       0.000000      1.471500e+05   \n",
       "75%    367142.500000       0.000000       1.000000      2.025000e+05   \n",
       "max    456255.000000       1.000000      19.000000      1.170000e+08   \n",
       "\n",
       "         AMT_CREDIT    AMT_ANNUITY  AMT_GOODS_PRICE  \\\n",
       "count  3.075110e+05  307499.000000     3.072330e+05   \n",
       "mean   5.990260e+05   27108.573909     5.383962e+05   \n",
       "std    4.024908e+05   14493.737315     3.694465e+05   \n",
       "min    4.500000e+04    1615.500000     4.050000e+04   \n",
       "25%    2.700000e+05   16524.000000     2.385000e+05   \n",
       "50%    5.135310e+05   24903.000000     4.500000e+05   \n",
       "75%    8.086500e+05   34596.000000     6.795000e+05   \n",
       "max    4.050000e+06  258025.500000     4.050000e+06   \n",
       "\n",
       "       REGION_POPULATION_RELATIVE     DAYS_BIRTH  DAYS_EMPLOYED  ...  \\\n",
       "count               307511.000000  307511.000000  307511.000000  ...   \n",
       "mean                     0.020868  -16036.995067   63815.045904  ...   \n",
       "std                      0.013831    4363.988632  141275.766519  ...   \n",
       "min                      0.000290  -25229.000000  -17912.000000  ...   \n",
       "25%                      0.010006  -19682.000000   -2760.000000  ...   \n",
       "50%                      0.018850  -15750.000000   -1213.000000  ...   \n",
       "75%                      0.028663  -12413.000000    -289.000000  ...   \n",
       "max                      0.072508   -7489.000000  365243.000000  ...   \n",
       "\n",
       "       FLAG_DOCUMENT_18  FLAG_DOCUMENT_19  FLAG_DOCUMENT_20  FLAG_DOCUMENT_21  \\\n",
       "count     307511.000000     307511.000000     307511.000000     307511.000000   \n",
       "mean           0.008130          0.000595          0.000507          0.000335   \n",
       "std            0.089798          0.024387          0.022518          0.018299   \n",
       "min            0.000000          0.000000          0.000000          0.000000   \n",
       "25%            0.000000          0.000000          0.000000          0.000000   \n",
       "50%            0.000000          0.000000          0.000000          0.000000   \n",
       "75%            0.000000          0.000000          0.000000          0.000000   \n",
       "max            1.000000          1.000000          1.000000          1.000000   \n",
       "\n",
       "       AMT_REQ_CREDIT_BUREAU_HOUR  AMT_REQ_CREDIT_BUREAU_DAY  \\\n",
       "count               265992.000000              265992.000000   \n",
       "mean                     0.006402                   0.007000   \n",
       "std                      0.083849                   0.110757   \n",
       "min                      0.000000                   0.000000   \n",
       "25%                      0.000000                   0.000000   \n",
       "50%                      0.000000                   0.000000   \n",
       "75%                      0.000000                   0.000000   \n",
       "max                      4.000000                   9.000000   \n",
       "\n",
       "       AMT_REQ_CREDIT_BUREAU_WEEK  AMT_REQ_CREDIT_BUREAU_MON  \\\n",
       "count               265992.000000              265992.000000   \n",
       "mean                     0.034362                   0.267395   \n",
       "std                      0.204685                   0.916002   \n",
       "min                      0.000000                   0.000000   \n",
       "25%                      0.000000                   0.000000   \n",
       "50%                      0.000000                   0.000000   \n",
       "75%                      0.000000                   0.000000   \n",
       "max                      8.000000                  27.000000   \n",
       "\n",
       "       AMT_REQ_CREDIT_BUREAU_QRT  AMT_REQ_CREDIT_BUREAU_YEAR  \n",
       "count              265992.000000               265992.000000  \n",
       "mean                    0.265474                    1.899974  \n",
       "std                     0.794056                    1.869295  \n",
       "min                     0.000000                    0.000000  \n",
       "25%                     0.000000                    0.000000  \n",
       "50%                     0.000000                    1.000000  \n",
       "75%                     0.000000                    3.000000  \n",
       "max                   261.000000                   25.000000  \n",
       "\n",
       "[8 rows x 106 columns]"
      ]
     },
     "execution_count": 369,
     "metadata": {},
     "output_type": "execute_result"
    }
   ],
   "source": [
    "inp0.describe()"
   ]
  },
  {
   "cell_type": "code",
   "execution_count": 370,
   "id": "60497948-3e60-4b9d-8a16-96d639aaf82f",
   "metadata": {},
   "outputs": [
    {
     "name": "stdout",
     "output_type": "stream",
     "text": [
      "<class 'pandas.core.frame.DataFrame'>\n",
      "RangeIndex: 307511 entries, 0 to 307510\n",
      "Columns: 122 entries, SK_ID_CURR to AMT_REQ_CREDIT_BUREAU_YEAR\n",
      "dtypes: float64(65), int64(41), object(16)\n",
      "memory usage: 286.2+ MB\n"
     ]
    }
   ],
   "source": [
    "inp0.info()"
   ]
  },
  {
   "cell_type": "markdown",
   "id": "cc1f43aa-8a21-41c1-86f9-a78924ab97b1",
   "metadata": {},
   "source": [
    "Checking 'application' dataset for null values and dropping non-relevant columns"
   ]
  },
  {
   "cell_type": "code",
   "execution_count": 372,
   "id": "60f24d5b-586d-40f2-9233-49d35c8b1b91",
   "metadata": {},
   "outputs": [
    {
     "data": {
      "text/plain": [
       "SK_ID_CURR                        0\n",
       "TARGET                            0\n",
       "NAME_CONTRACT_TYPE                0\n",
       "CODE_GENDER                       0\n",
       "FLAG_OWN_CAR                      0\n",
       "                              ...  \n",
       "AMT_REQ_CREDIT_BUREAU_DAY     41519\n",
       "AMT_REQ_CREDIT_BUREAU_WEEK    41519\n",
       "AMT_REQ_CREDIT_BUREAU_MON     41519\n",
       "AMT_REQ_CREDIT_BUREAU_QRT     41519\n",
       "AMT_REQ_CREDIT_BUREAU_YEAR    41519\n",
       "Length: 122, dtype: int64"
      ]
     },
     "execution_count": 372,
     "metadata": {},
     "output_type": "execute_result"
    }
   ],
   "source": [
    "#Checking for null values\n",
    "inp0.isnull().sum()"
   ]
  },
  {
   "cell_type": "code",
   "execution_count": 373,
   "id": "eb7438b4-868d-47c8-b36e-6c3d3e881f7b",
   "metadata": {},
   "outputs": [
    {
     "data": {
      "text/plain": [
       "(307511, 122)"
      ]
     },
     "execution_count": 373,
     "metadata": {},
     "output_type": "execute_result"
    }
   ],
   "source": [
    "#Checking the %of null values in the above columns\n",
    "inp0.shape"
   ]
  },
  {
   "cell_type": "code",
   "execution_count": 374,
   "id": "4da4b6ad-3ad9-4681-94ff-dd0fb0a03598",
   "metadata": {},
   "outputs": [
    {
     "data": {
      "text/plain": [
       "13.501630835970095"
      ]
     },
     "execution_count": 374,
     "metadata": {},
     "output_type": "execute_result"
    }
   ],
   "source": [
    "float(100.0*41519/307511)"
   ]
  },
  {
   "cell_type": "code",
   "execution_count": 375,
   "id": "085e6a37-181b-4ccc-b0b1-b2f932073b83",
   "metadata": {},
   "outputs": [],
   "source": [
    "#Since these columns have a signifcant % of null values and donot show relevance to our current analysis of credit risk analytics, these columns will be dropped.\n",
    "#We need to understand the portfolio and the risk assessment of the loans, the timeline when the data is fetched will not be of great relevance to our analysis.\n",
    "inp0.drop(\"AMT_REQ_CREDIT_BUREAU_HOUR\",axis=1,inplace=True)\n",
    "inp0.drop(\"AMT_REQ_CREDIT_BUREAU_DAY\",axis=1,inplace=True)\n",
    "inp0.drop(\"AMT_REQ_CREDIT_BUREAU_WEEK\",axis=1,inplace=True)\n",
    "inp0.drop(\"AMT_REQ_CREDIT_BUREAU_MON\",axis=1,inplace=True)\n",
    "inp0.drop(\"AMT_REQ_CREDIT_BUREAU_QRT\",axis=1,inplace=True)\n",
    "inp0.drop(\"AMT_REQ_CREDIT_BUREAU_YEAR\",axis=1,inplace=True)"
   ]
  },
  {
   "cell_type": "code",
   "execution_count": 376,
   "id": "057e9c85-a747-4c01-a71a-1bafa6bde62d",
   "metadata": {},
   "outputs": [
    {
     "data": {
      "text/plain": [
       "(307511, 116)"
      ]
     },
     "execution_count": 376,
     "metadata": {},
     "output_type": "execute_result"
    }
   ],
   "source": [
    "inp0.shape"
   ]
  },
  {
   "cell_type": "code",
   "execution_count": 377,
   "id": "d5b0e412-9213-4294-ab64-cfc395d8480f",
   "metadata": {},
   "outputs": [
    {
     "data": {
      "text/plain": [
       "SK_ID_CURR            0\n",
       "TARGET                0\n",
       "NAME_CONTRACT_TYPE    0\n",
       "CODE_GENDER           0\n",
       "FLAG_OWN_CAR          0\n",
       "                     ..\n",
       "FLAG_DOCUMENT_17      0\n",
       "FLAG_DOCUMENT_18      0\n",
       "FLAG_DOCUMENT_19      0\n",
       "FLAG_DOCUMENT_20      0\n",
       "FLAG_DOCUMENT_21      0\n",
       "Length: 116, dtype: int64"
      ]
     },
     "execution_count": 377,
     "metadata": {},
     "output_type": "execute_result"
    }
   ],
   "source": [
    "inp0.isnull().sum()"
   ]
  },
  {
   "cell_type": "markdown",
   "id": "ba62a2fd-aac1-48d2-9cfd-10a6a6d1200d",
   "metadata": {},
   "source": [
    "So, there are no null/missing values in any of the attributes in the dataset"
   ]
  },
  {
   "cell_type": "markdown",
   "id": "0bca742d-1b02-45e7-92f9-1f59ec8fb165",
   "metadata": {},
   "source": [
    "Describing the previous_application dataset"
   ]
  },
  {
   "cell_type": "code",
   "execution_count": 380,
   "id": "3ea09462-27db-4717-8ab1-2da74833a99a",
   "metadata": {},
   "outputs": [
    {
     "data": {
      "text/html": [
       "<div>\n",
       "<style scoped>\n",
       "    .dataframe tbody tr th:only-of-type {\n",
       "        vertical-align: middle;\n",
       "    }\n",
       "\n",
       "    .dataframe tbody tr th {\n",
       "        vertical-align: top;\n",
       "    }\n",
       "\n",
       "    .dataframe thead th {\n",
       "        text-align: right;\n",
       "    }\n",
       "</style>\n",
       "<table border=\"1\" class=\"dataframe\">\n",
       "  <thead>\n",
       "    <tr style=\"text-align: right;\">\n",
       "      <th></th>\n",
       "      <th>SK_ID_PREV</th>\n",
       "      <th>SK_ID_CURR</th>\n",
       "      <th>AMT_ANNUITY</th>\n",
       "      <th>AMT_APPLICATION</th>\n",
       "      <th>AMT_CREDIT</th>\n",
       "      <th>AMT_DOWN_PAYMENT</th>\n",
       "      <th>AMT_GOODS_PRICE</th>\n",
       "      <th>HOUR_APPR_PROCESS_START</th>\n",
       "      <th>NFLAG_LAST_APPL_IN_DAY</th>\n",
       "      <th>RATE_DOWN_PAYMENT</th>\n",
       "      <th>...</th>\n",
       "      <th>RATE_INTEREST_PRIVILEGED</th>\n",
       "      <th>DAYS_DECISION</th>\n",
       "      <th>SELLERPLACE_AREA</th>\n",
       "      <th>CNT_PAYMENT</th>\n",
       "      <th>DAYS_FIRST_DRAWING</th>\n",
       "      <th>DAYS_FIRST_DUE</th>\n",
       "      <th>DAYS_LAST_DUE_1ST_VERSION</th>\n",
       "      <th>DAYS_LAST_DUE</th>\n",
       "      <th>DAYS_TERMINATION</th>\n",
       "      <th>NFLAG_INSURED_ON_APPROVAL</th>\n",
       "    </tr>\n",
       "  </thead>\n",
       "  <tbody>\n",
       "    <tr>\n",
       "      <th>count</th>\n",
       "      <td>1.670214e+06</td>\n",
       "      <td>1.670214e+06</td>\n",
       "      <td>1.297979e+06</td>\n",
       "      <td>1.670214e+06</td>\n",
       "      <td>1.670213e+06</td>\n",
       "      <td>7.743700e+05</td>\n",
       "      <td>1.284699e+06</td>\n",
       "      <td>1.670214e+06</td>\n",
       "      <td>1.670214e+06</td>\n",
       "      <td>774370.000000</td>\n",
       "      <td>...</td>\n",
       "      <td>5951.000000</td>\n",
       "      <td>1.670214e+06</td>\n",
       "      <td>1.670214e+06</td>\n",
       "      <td>1.297984e+06</td>\n",
       "      <td>997149.000000</td>\n",
       "      <td>997149.000000</td>\n",
       "      <td>997149.000000</td>\n",
       "      <td>997149.000000</td>\n",
       "      <td>997149.000000</td>\n",
       "      <td>997149.000000</td>\n",
       "    </tr>\n",
       "    <tr>\n",
       "      <th>mean</th>\n",
       "      <td>1.923089e+06</td>\n",
       "      <td>2.783572e+05</td>\n",
       "      <td>1.595512e+04</td>\n",
       "      <td>1.752339e+05</td>\n",
       "      <td>1.961140e+05</td>\n",
       "      <td>6.697402e+03</td>\n",
       "      <td>2.278473e+05</td>\n",
       "      <td>1.248418e+01</td>\n",
       "      <td>9.964675e-01</td>\n",
       "      <td>0.079637</td>\n",
       "      <td>...</td>\n",
       "      <td>0.773503</td>\n",
       "      <td>-8.806797e+02</td>\n",
       "      <td>3.139511e+02</td>\n",
       "      <td>1.605408e+01</td>\n",
       "      <td>342209.855039</td>\n",
       "      <td>13826.269337</td>\n",
       "      <td>33767.774054</td>\n",
       "      <td>76582.403064</td>\n",
       "      <td>81992.343838</td>\n",
       "      <td>0.332570</td>\n",
       "    </tr>\n",
       "    <tr>\n",
       "      <th>std</th>\n",
       "      <td>5.325980e+05</td>\n",
       "      <td>1.028148e+05</td>\n",
       "      <td>1.478214e+04</td>\n",
       "      <td>2.927798e+05</td>\n",
       "      <td>3.185746e+05</td>\n",
       "      <td>2.092150e+04</td>\n",
       "      <td>3.153966e+05</td>\n",
       "      <td>3.334028e+00</td>\n",
       "      <td>5.932963e-02</td>\n",
       "      <td>0.107823</td>\n",
       "      <td>...</td>\n",
       "      <td>0.100879</td>\n",
       "      <td>7.790997e+02</td>\n",
       "      <td>7.127443e+03</td>\n",
       "      <td>1.456729e+01</td>\n",
       "      <td>88916.115834</td>\n",
       "      <td>72444.869708</td>\n",
       "      <td>106857.034789</td>\n",
       "      <td>149647.415123</td>\n",
       "      <td>153303.516729</td>\n",
       "      <td>0.471134</td>\n",
       "    </tr>\n",
       "    <tr>\n",
       "      <th>min</th>\n",
       "      <td>1.000001e+06</td>\n",
       "      <td>1.000010e+05</td>\n",
       "      <td>0.000000e+00</td>\n",
       "      <td>0.000000e+00</td>\n",
       "      <td>0.000000e+00</td>\n",
       "      <td>-9.000000e-01</td>\n",
       "      <td>0.000000e+00</td>\n",
       "      <td>0.000000e+00</td>\n",
       "      <td>0.000000e+00</td>\n",
       "      <td>-0.000015</td>\n",
       "      <td>...</td>\n",
       "      <td>0.373150</td>\n",
       "      <td>-2.922000e+03</td>\n",
       "      <td>-1.000000e+00</td>\n",
       "      <td>0.000000e+00</td>\n",
       "      <td>-2922.000000</td>\n",
       "      <td>-2892.000000</td>\n",
       "      <td>-2801.000000</td>\n",
       "      <td>-2889.000000</td>\n",
       "      <td>-2874.000000</td>\n",
       "      <td>0.000000</td>\n",
       "    </tr>\n",
       "    <tr>\n",
       "      <th>25%</th>\n",
       "      <td>1.461857e+06</td>\n",
       "      <td>1.893290e+05</td>\n",
       "      <td>6.321780e+03</td>\n",
       "      <td>1.872000e+04</td>\n",
       "      <td>2.416050e+04</td>\n",
       "      <td>0.000000e+00</td>\n",
       "      <td>5.084100e+04</td>\n",
       "      <td>1.000000e+01</td>\n",
       "      <td>1.000000e+00</td>\n",
       "      <td>0.000000</td>\n",
       "      <td>...</td>\n",
       "      <td>0.715645</td>\n",
       "      <td>-1.300000e+03</td>\n",
       "      <td>-1.000000e+00</td>\n",
       "      <td>6.000000e+00</td>\n",
       "      <td>365243.000000</td>\n",
       "      <td>-1628.000000</td>\n",
       "      <td>-1242.000000</td>\n",
       "      <td>-1314.000000</td>\n",
       "      <td>-1270.000000</td>\n",
       "      <td>0.000000</td>\n",
       "    </tr>\n",
       "    <tr>\n",
       "      <th>50%</th>\n",
       "      <td>1.923110e+06</td>\n",
       "      <td>2.787145e+05</td>\n",
       "      <td>1.125000e+04</td>\n",
       "      <td>7.104600e+04</td>\n",
       "      <td>8.054100e+04</td>\n",
       "      <td>1.638000e+03</td>\n",
       "      <td>1.123200e+05</td>\n",
       "      <td>1.200000e+01</td>\n",
       "      <td>1.000000e+00</td>\n",
       "      <td>0.051605</td>\n",
       "      <td>...</td>\n",
       "      <td>0.835095</td>\n",
       "      <td>-5.810000e+02</td>\n",
       "      <td>3.000000e+00</td>\n",
       "      <td>1.200000e+01</td>\n",
       "      <td>365243.000000</td>\n",
       "      <td>-831.000000</td>\n",
       "      <td>-361.000000</td>\n",
       "      <td>-537.000000</td>\n",
       "      <td>-499.000000</td>\n",
       "      <td>0.000000</td>\n",
       "    </tr>\n",
       "    <tr>\n",
       "      <th>75%</th>\n",
       "      <td>2.384280e+06</td>\n",
       "      <td>3.675140e+05</td>\n",
       "      <td>2.065842e+04</td>\n",
       "      <td>1.803600e+05</td>\n",
       "      <td>2.164185e+05</td>\n",
       "      <td>7.740000e+03</td>\n",
       "      <td>2.340000e+05</td>\n",
       "      <td>1.500000e+01</td>\n",
       "      <td>1.000000e+00</td>\n",
       "      <td>0.108909</td>\n",
       "      <td>...</td>\n",
       "      <td>0.852537</td>\n",
       "      <td>-2.800000e+02</td>\n",
       "      <td>8.200000e+01</td>\n",
       "      <td>2.400000e+01</td>\n",
       "      <td>365243.000000</td>\n",
       "      <td>-411.000000</td>\n",
       "      <td>129.000000</td>\n",
       "      <td>-74.000000</td>\n",
       "      <td>-44.000000</td>\n",
       "      <td>1.000000</td>\n",
       "    </tr>\n",
       "    <tr>\n",
       "      <th>max</th>\n",
       "      <td>2.845382e+06</td>\n",
       "      <td>4.562550e+05</td>\n",
       "      <td>4.180581e+05</td>\n",
       "      <td>6.905160e+06</td>\n",
       "      <td>6.905160e+06</td>\n",
       "      <td>3.060045e+06</td>\n",
       "      <td>6.905160e+06</td>\n",
       "      <td>2.300000e+01</td>\n",
       "      <td>1.000000e+00</td>\n",
       "      <td>1.000000</td>\n",
       "      <td>...</td>\n",
       "      <td>1.000000</td>\n",
       "      <td>-1.000000e+00</td>\n",
       "      <td>4.000000e+06</td>\n",
       "      <td>8.400000e+01</td>\n",
       "      <td>365243.000000</td>\n",
       "      <td>365243.000000</td>\n",
       "      <td>365243.000000</td>\n",
       "      <td>365243.000000</td>\n",
       "      <td>365243.000000</td>\n",
       "      <td>1.000000</td>\n",
       "    </tr>\n",
       "  </tbody>\n",
       "</table>\n",
       "<p>8 rows × 21 columns</p>\n",
       "</div>"
      ],
      "text/plain": [
       "         SK_ID_PREV    SK_ID_CURR   AMT_ANNUITY  AMT_APPLICATION  \\\n",
       "count  1.670214e+06  1.670214e+06  1.297979e+06     1.670214e+06   \n",
       "mean   1.923089e+06  2.783572e+05  1.595512e+04     1.752339e+05   \n",
       "std    5.325980e+05  1.028148e+05  1.478214e+04     2.927798e+05   \n",
       "min    1.000001e+06  1.000010e+05  0.000000e+00     0.000000e+00   \n",
       "25%    1.461857e+06  1.893290e+05  6.321780e+03     1.872000e+04   \n",
       "50%    1.923110e+06  2.787145e+05  1.125000e+04     7.104600e+04   \n",
       "75%    2.384280e+06  3.675140e+05  2.065842e+04     1.803600e+05   \n",
       "max    2.845382e+06  4.562550e+05  4.180581e+05     6.905160e+06   \n",
       "\n",
       "         AMT_CREDIT  AMT_DOWN_PAYMENT  AMT_GOODS_PRICE  \\\n",
       "count  1.670213e+06      7.743700e+05     1.284699e+06   \n",
       "mean   1.961140e+05      6.697402e+03     2.278473e+05   \n",
       "std    3.185746e+05      2.092150e+04     3.153966e+05   \n",
       "min    0.000000e+00     -9.000000e-01     0.000000e+00   \n",
       "25%    2.416050e+04      0.000000e+00     5.084100e+04   \n",
       "50%    8.054100e+04      1.638000e+03     1.123200e+05   \n",
       "75%    2.164185e+05      7.740000e+03     2.340000e+05   \n",
       "max    6.905160e+06      3.060045e+06     6.905160e+06   \n",
       "\n",
       "       HOUR_APPR_PROCESS_START  NFLAG_LAST_APPL_IN_DAY  RATE_DOWN_PAYMENT  \\\n",
       "count             1.670214e+06            1.670214e+06      774370.000000   \n",
       "mean              1.248418e+01            9.964675e-01           0.079637   \n",
       "std               3.334028e+00            5.932963e-02           0.107823   \n",
       "min               0.000000e+00            0.000000e+00          -0.000015   \n",
       "25%               1.000000e+01            1.000000e+00           0.000000   \n",
       "50%               1.200000e+01            1.000000e+00           0.051605   \n",
       "75%               1.500000e+01            1.000000e+00           0.108909   \n",
       "max               2.300000e+01            1.000000e+00           1.000000   \n",
       "\n",
       "       ...  RATE_INTEREST_PRIVILEGED  DAYS_DECISION  SELLERPLACE_AREA  \\\n",
       "count  ...               5951.000000   1.670214e+06      1.670214e+06   \n",
       "mean   ...                  0.773503  -8.806797e+02      3.139511e+02   \n",
       "std    ...                  0.100879   7.790997e+02      7.127443e+03   \n",
       "min    ...                  0.373150  -2.922000e+03     -1.000000e+00   \n",
       "25%    ...                  0.715645  -1.300000e+03     -1.000000e+00   \n",
       "50%    ...                  0.835095  -5.810000e+02      3.000000e+00   \n",
       "75%    ...                  0.852537  -2.800000e+02      8.200000e+01   \n",
       "max    ...                  1.000000  -1.000000e+00      4.000000e+06   \n",
       "\n",
       "        CNT_PAYMENT  DAYS_FIRST_DRAWING  DAYS_FIRST_DUE  \\\n",
       "count  1.297984e+06       997149.000000   997149.000000   \n",
       "mean   1.605408e+01       342209.855039    13826.269337   \n",
       "std    1.456729e+01        88916.115834    72444.869708   \n",
       "min    0.000000e+00        -2922.000000    -2892.000000   \n",
       "25%    6.000000e+00       365243.000000    -1628.000000   \n",
       "50%    1.200000e+01       365243.000000     -831.000000   \n",
       "75%    2.400000e+01       365243.000000     -411.000000   \n",
       "max    8.400000e+01       365243.000000   365243.000000   \n",
       "\n",
       "       DAYS_LAST_DUE_1ST_VERSION  DAYS_LAST_DUE  DAYS_TERMINATION  \\\n",
       "count              997149.000000  997149.000000     997149.000000   \n",
       "mean                33767.774054   76582.403064      81992.343838   \n",
       "std                106857.034789  149647.415123     153303.516729   \n",
       "min                 -2801.000000   -2889.000000      -2874.000000   \n",
       "25%                 -1242.000000   -1314.000000      -1270.000000   \n",
       "50%                  -361.000000    -537.000000       -499.000000   \n",
       "75%                   129.000000     -74.000000        -44.000000   \n",
       "max                365243.000000  365243.000000     365243.000000   \n",
       "\n",
       "       NFLAG_INSURED_ON_APPROVAL  \n",
       "count              997149.000000  \n",
       "mean                    0.332570  \n",
       "std                     0.471134  \n",
       "min                     0.000000  \n",
       "25%                     0.000000  \n",
       "50%                     0.000000  \n",
       "75%                     1.000000  \n",
       "max                     1.000000  \n",
       "\n",
       "[8 rows x 21 columns]"
      ]
     },
     "execution_count": 380,
     "metadata": {},
     "output_type": "execute_result"
    }
   ],
   "source": [
    "inp1.describe()"
   ]
  },
  {
   "cell_type": "code",
   "execution_count": 381,
   "id": "6d7657fd-d0b2-48f5-b6de-416ed1fe6df3",
   "metadata": {},
   "outputs": [
    {
     "name": "stdout",
     "output_type": "stream",
     "text": [
      "<class 'pandas.core.frame.DataFrame'>\n",
      "RangeIndex: 1670214 entries, 0 to 1670213\n",
      "Data columns (total 37 columns):\n",
      " #   Column                       Non-Null Count    Dtype  \n",
      "---  ------                       --------------    -----  \n",
      " 0   SK_ID_PREV                   1670214 non-null  int64  \n",
      " 1   SK_ID_CURR                   1670214 non-null  int64  \n",
      " 2   NAME_CONTRACT_TYPE           1670214 non-null  object \n",
      " 3   AMT_ANNUITY                  1297979 non-null  float64\n",
      " 4   AMT_APPLICATION              1670214 non-null  float64\n",
      " 5   AMT_CREDIT                   1670213 non-null  float64\n",
      " 6   AMT_DOWN_PAYMENT             774370 non-null   float64\n",
      " 7   AMT_GOODS_PRICE              1284699 non-null  float64\n",
      " 8   WEEKDAY_APPR_PROCESS_START   1670214 non-null  object \n",
      " 9   HOUR_APPR_PROCESS_START      1670214 non-null  int64  \n",
      " 10  FLAG_LAST_APPL_PER_CONTRACT  1670214 non-null  object \n",
      " 11  NFLAG_LAST_APPL_IN_DAY       1670214 non-null  int64  \n",
      " 12  RATE_DOWN_PAYMENT            774370 non-null   float64\n",
      " 13  RATE_INTEREST_PRIMARY        5951 non-null     float64\n",
      " 14  RATE_INTEREST_PRIVILEGED     5951 non-null     float64\n",
      " 15  NAME_CASH_LOAN_PURPOSE       1670214 non-null  object \n",
      " 16  NAME_CONTRACT_STATUS         1670214 non-null  object \n",
      " 17  DAYS_DECISION                1670214 non-null  int64  \n",
      " 18  NAME_PAYMENT_TYPE            1670214 non-null  object \n",
      " 19  CODE_REJECT_REASON           1670214 non-null  object \n",
      " 20  NAME_TYPE_SUITE              849809 non-null   object \n",
      " 21  NAME_CLIENT_TYPE             1670214 non-null  object \n",
      " 22  NAME_GOODS_CATEGORY          1670214 non-null  object \n",
      " 23  NAME_PORTFOLIO               1670214 non-null  object \n",
      " 24  NAME_PRODUCT_TYPE            1670214 non-null  object \n",
      " 25  CHANNEL_TYPE                 1670214 non-null  object \n",
      " 26  SELLERPLACE_AREA             1670214 non-null  int64  \n",
      " 27  NAME_SELLER_INDUSTRY         1670214 non-null  object \n",
      " 28  CNT_PAYMENT                  1297984 non-null  float64\n",
      " 29  NAME_YIELD_GROUP             1670214 non-null  object \n",
      " 30  PRODUCT_COMBINATION          1669868 non-null  object \n",
      " 31  DAYS_FIRST_DRAWING           997149 non-null   float64\n",
      " 32  DAYS_FIRST_DUE               997149 non-null   float64\n",
      " 33  DAYS_LAST_DUE_1ST_VERSION    997149 non-null   float64\n",
      " 34  DAYS_LAST_DUE                997149 non-null   float64\n",
      " 35  DAYS_TERMINATION             997149 non-null   float64\n",
      " 36  NFLAG_INSURED_ON_APPROVAL    997149 non-null   float64\n",
      "dtypes: float64(15), int64(6), object(16)\n",
      "memory usage: 471.5+ MB\n"
     ]
    }
   ],
   "source": [
    "inp1.info()"
   ]
  },
  {
   "cell_type": "code",
   "execution_count": 382,
   "id": "43c43d64-5343-42de-857b-55e50f46ec32",
   "metadata": {},
   "outputs": [
    {
     "data": {
      "text/plain": [
       "SK_ID_PREV                           0\n",
       "SK_ID_CURR                           0\n",
       "NAME_CONTRACT_TYPE                   0\n",
       "AMT_ANNUITY                     372235\n",
       "AMT_APPLICATION                      0\n",
       "AMT_CREDIT                           1\n",
       "AMT_DOWN_PAYMENT                895844\n",
       "AMT_GOODS_PRICE                 385515\n",
       "WEEKDAY_APPR_PROCESS_START           0\n",
       "HOUR_APPR_PROCESS_START              0\n",
       "FLAG_LAST_APPL_PER_CONTRACT          0\n",
       "NFLAG_LAST_APPL_IN_DAY               0\n",
       "RATE_DOWN_PAYMENT               895844\n",
       "RATE_INTEREST_PRIMARY          1664263\n",
       "RATE_INTEREST_PRIVILEGED       1664263\n",
       "NAME_CASH_LOAN_PURPOSE               0\n",
       "NAME_CONTRACT_STATUS                 0\n",
       "DAYS_DECISION                        0\n",
       "NAME_PAYMENT_TYPE                    0\n",
       "CODE_REJECT_REASON                   0\n",
       "NAME_TYPE_SUITE                 820405\n",
       "NAME_CLIENT_TYPE                     0\n",
       "NAME_GOODS_CATEGORY                  0\n",
       "NAME_PORTFOLIO                       0\n",
       "NAME_PRODUCT_TYPE                    0\n",
       "CHANNEL_TYPE                         0\n",
       "SELLERPLACE_AREA                     0\n",
       "NAME_SELLER_INDUSTRY                 0\n",
       "CNT_PAYMENT                     372230\n",
       "NAME_YIELD_GROUP                     0\n",
       "PRODUCT_COMBINATION                346\n",
       "DAYS_FIRST_DRAWING              673065\n",
       "DAYS_FIRST_DUE                  673065\n",
       "DAYS_LAST_DUE_1ST_VERSION       673065\n",
       "DAYS_LAST_DUE                   673065\n",
       "DAYS_TERMINATION                673065\n",
       "NFLAG_INSURED_ON_APPROVAL       673065\n",
       "dtype: int64"
      ]
     },
     "execution_count": 382,
     "metadata": {},
     "output_type": "execute_result"
    }
   ],
   "source": [
    "#Finding the null values in the dataset\n",
    "inp1.isnull().sum()"
   ]
  },
  {
   "cell_type": "code",
   "execution_count": 383,
   "id": "3f7c9695-2254-4e21-bf43-ef88f2e6b46f",
   "metadata": {},
   "outputs": [
    {
     "data": {
      "text/plain": [
       "(1670214, 37)"
      ]
     },
     "execution_count": 383,
     "metadata": {},
     "output_type": "execute_result"
    }
   ],
   "source": [
    "inp1.shape"
   ]
  },
  {
   "cell_type": "code",
   "execution_count": 384,
   "id": "1f986a44-ccda-4834-85a5-7e04da64170e",
   "metadata": {},
   "outputs": [
    {
     "data": {
      "text/plain": [
       "584574.8999999999"
      ]
     },
     "execution_count": 384,
     "metadata": {},
     "output_type": "execute_result"
    }
   ],
   "source": [
    "#Removing any columns with null values >=35% of the total values\n",
    "float(0.35*1670214)"
   ]
  },
  {
   "cell_type": "code",
   "execution_count": 385,
   "id": "d989dd3e-605a-4026-8c4e-08d989f75af2",
   "metadata": {},
   "outputs": [
    {
     "name": "stdout",
     "output_type": "stream",
     "text": [
      "Columns which have null values >= 584574.9 : ['AMT_DOWN_PAYMENT', 'RATE_DOWN_PAYMENT', 'RATE_INTEREST_PRIMARY', 'RATE_INTEREST_PRIVILEGED', 'NAME_TYPE_SUITE', 'DAYS_FIRST_DRAWING', 'DAYS_FIRST_DUE', 'DAYS_LAST_DUE_1ST_VERSION', 'DAYS_LAST_DUE', 'DAYS_TERMINATION', 'NFLAG_INSURED_ON_APPROVAL']\n"
     ]
    }
   ],
   "source": [
    "#Running a code to check which columns have null values >=50%\n",
    "upper_limit= 584574.9\n",
    "#Checking columns which have null values >=upper limit\n",
    "columns_having_nulls = [col for col in inp1.columns if inp1[col].isnull().sum()>=upper_limit]\n",
    "print(\"Columns which have null values >=\", upper_limit,\":\",columns_having_nulls)"
   ]
  },
  {
   "cell_type": "markdown",
   "id": "6d58afff-8be0-41e7-96b8-461a88927edc",
   "metadata": {},
   "source": [
    "So, these columns will be dropped as per our set condition."
   ]
  },
  {
   "cell_type": "code",
   "execution_count": 387,
   "id": "94b9ae98-0770-4b95-aa77-82a6aefbda16",
   "metadata": {},
   "outputs": [],
   "source": [
    "#Dropping the columns from the previous_application dataset\n",
    "inp1.drop('AMT_DOWN_PAYMENT',axis=1,inplace=True)\n",
    "inp1.drop('RATE_DOWN_PAYMENT',axis=1,inplace=True)\n",
    "inp1.drop('RATE_INTEREST_PRIMARY',axis=1,inplace=True)\n",
    "inp1.drop('RATE_INTEREST_PRIVILEGED',axis=1,inplace=True)\n",
    "inp1.drop('NAME_TYPE_SUITE',axis=1,inplace=True)\n",
    "inp1.drop('DAYS_FIRST_DRAWING',axis=1,inplace=True)\n",
    "inp1.drop('DAYS_FIRST_DUE',axis=1,inplace=True)\n",
    "inp1.drop('DAYS_LAST_DUE_1ST_VERSION',axis=1,inplace=True)\n",
    "inp1.drop('DAYS_LAST_DUE',axis=1,inplace=True)\n",
    "inp1.drop('DAYS_TERMINATION',axis=1,inplace=True)\n",
    "inp1.drop('NFLAG_INSURED_ON_APPROVAL',axis=1,inplace=True)\n",
    "\n"
   ]
  },
  {
   "cell_type": "code",
   "execution_count": 388,
   "id": "5ef3f7dd-852c-4ebf-afbd-8a118cee1cc7",
   "metadata": {},
   "outputs": [
    {
     "data": {
      "text/plain": [
       "(1670214, 26)"
      ]
     },
     "execution_count": 388,
     "metadata": {},
     "output_type": "execute_result"
    }
   ],
   "source": [
    "#Checking the shape of the dataframe after dropping columns with >=35% null values.\n",
    "inp1.shape"
   ]
  },
  {
   "cell_type": "code",
   "execution_count": 389,
   "id": "34b5e2a9-928f-43ce-88f8-a3b6c3abb42a",
   "metadata": {},
   "outputs": [
    {
     "data": {
      "text/plain": [
       "SK_ID_PREV                          0\n",
       "SK_ID_CURR                          0\n",
       "NAME_CONTRACT_TYPE                  0\n",
       "AMT_ANNUITY                    372235\n",
       "AMT_APPLICATION                     0\n",
       "AMT_CREDIT                          1\n",
       "AMT_GOODS_PRICE                385515\n",
       "WEEKDAY_APPR_PROCESS_START          0\n",
       "HOUR_APPR_PROCESS_START             0\n",
       "FLAG_LAST_APPL_PER_CONTRACT         0\n",
       "NFLAG_LAST_APPL_IN_DAY              0\n",
       "NAME_CASH_LOAN_PURPOSE              0\n",
       "NAME_CONTRACT_STATUS                0\n",
       "DAYS_DECISION                       0\n",
       "NAME_PAYMENT_TYPE                   0\n",
       "CODE_REJECT_REASON                  0\n",
       "NAME_CLIENT_TYPE                    0\n",
       "NAME_GOODS_CATEGORY                 0\n",
       "NAME_PORTFOLIO                      0\n",
       "NAME_PRODUCT_TYPE                   0\n",
       "CHANNEL_TYPE                        0\n",
       "SELLERPLACE_AREA                    0\n",
       "NAME_SELLER_INDUSTRY                0\n",
       "CNT_PAYMENT                    372230\n",
       "NAME_YIELD_GROUP                    0\n",
       "PRODUCT_COMBINATION               346\n",
       "dtype: int64"
      ]
     },
     "execution_count": 389,
     "metadata": {},
     "output_type": "execute_result"
    }
   ],
   "source": [
    "inp1.isnull().sum()"
   ]
  },
  {
   "cell_type": "code",
   "execution_count": 390,
   "id": "726e8ae2-d31e-4986-817e-13ff1b3c04e5",
   "metadata": {},
   "outputs": [],
   "source": [
    "#Imputation of the null values in the 'previous application' dataframe"
   ]
  },
  {
   "cell_type": "markdown",
   "id": "5405fef5-f487-4680-a8fd-e82a994e1afa",
   "metadata": {},
   "source": [
    "#Replace the null values with 'NA'\n",
    "In the remaining columns with null values, we now impute these values with '0'. \n",
    "We avoid using the mean/median, since it can disrupt the final calculations and cause the date to be skewed in a certain direction.\n",
    "Annuity payments include the interest and the principal, which completely depends on the loan amount. Hence, we cannot assign the mean/median of the column to the null values."
   ]
  },
  {
   "cell_type": "markdown",
   "id": "9a95e7c2-2df6-4da5-bf1a-c000406c334b",
   "metadata": {},
   "source": [
    "**UNIVARIATE ANALYSIS**"
   ]
  },
  {
   "cell_type": "markdown",
   "id": "be19b175-1700-4d5b-8381-9ed1662d1602",
   "metadata": {},
   "source": [
    "**AMT_ANNUITY: ANALYSIS**"
   ]
  },
  {
   "cell_type": "code",
   "execution_count": 394,
   "id": "1c8a7c2b-f8b9-4986-900e-f9dcce7ca52f",
   "metadata": {},
   "outputs": [
    {
     "data": {
      "text/plain": [
       "count    1.297979e+06\n",
       "mean     1.595512e+04\n",
       "std      1.478214e+04\n",
       "min      0.000000e+00\n",
       "25%      6.321780e+03\n",
       "50%      1.125000e+04\n",
       "75%      2.065842e+04\n",
       "max      4.180581e+05\n",
       "Name: AMT_ANNUITY, dtype: float64"
      ]
     },
     "execution_count": 394,
     "metadata": {},
     "output_type": "execute_result"
    }
   ],
   "source": [
    "#Describing the AMT_ANNUITY column\n",
    "inp1.AMT_ANNUITY.describe()\n"
   ]
  },
  {
   "cell_type": "markdown",
   "id": "5f4dd7a6-e11f-4302-8fb5-8addcb660ef5",
   "metadata": {},
   "source": [
    "Here, the mean and the median are far apart. So, the column does not follow a normal distribution and the data is highly skewed.\n",
    "This is another reason for not replacing all the null values with the mean/median of the dataset."
   ]
  },
  {
   "cell_type": "code",
   "execution_count": 396,
   "id": "02e6d4d6-a181-4db6-beaf-3d7d99ac0ac1",
   "metadata": {},
   "outputs": [
    {
     "data": {
      "text/plain": [
       "372235"
      ]
     },
     "execution_count": 396,
     "metadata": {},
     "output_type": "execute_result"
    }
   ],
   "source": [
    "#Number of missing values in AMT_ANNUITY\n",
    "inp1.AMT_ANNUITY.isnull().sum()"
   ]
  },
  {
   "cell_type": "code",
   "execution_count": 397,
   "id": "03fa1841-f903-444c-88d7-547bdd98501c",
   "metadata": {},
   "outputs": [
    {
     "data": {
      "text/plain": [
       "22.286665062081866"
      ]
     },
     "execution_count": 397,
     "metadata": {},
     "output_type": "execute_result"
    }
   ],
   "source": [
    "#%age of missing values\n",
    "float(100.0*372235/1670214)"
   ]
  },
  {
   "cell_type": "code",
   "execution_count": 398,
   "id": "7a99b314-e2c4-4b44-85b2-585b00ac1ac8",
   "metadata": {},
   "outputs": [],
   "source": [
    "#Replacing the null values with 0\n",
    "inp1['AMT_ANNUITY'].fillna(0,inplace=True)\n"
   ]
  },
  {
   "cell_type": "code",
   "execution_count": 399,
   "id": "02352cd6-fbfd-49dc-b1d0-a6c8277ef408",
   "metadata": {},
   "outputs": [
    {
     "data": {
      "text/plain": [
       "SK_ID_PREV                          0\n",
       "SK_ID_CURR                          0\n",
       "NAME_CONTRACT_TYPE                  0\n",
       "AMT_ANNUITY                         0\n",
       "AMT_APPLICATION                     0\n",
       "AMT_CREDIT                          1\n",
       "AMT_GOODS_PRICE                385515\n",
       "WEEKDAY_APPR_PROCESS_START          0\n",
       "HOUR_APPR_PROCESS_START             0\n",
       "FLAG_LAST_APPL_PER_CONTRACT         0\n",
       "NFLAG_LAST_APPL_IN_DAY              0\n",
       "NAME_CASH_LOAN_PURPOSE              0\n",
       "NAME_CONTRACT_STATUS                0\n",
       "DAYS_DECISION                       0\n",
       "NAME_PAYMENT_TYPE                   0\n",
       "CODE_REJECT_REASON                  0\n",
       "NAME_CLIENT_TYPE                    0\n",
       "NAME_GOODS_CATEGORY                 0\n",
       "NAME_PORTFOLIO                      0\n",
       "NAME_PRODUCT_TYPE                   0\n",
       "CHANNEL_TYPE                        0\n",
       "SELLERPLACE_AREA                    0\n",
       "NAME_SELLER_INDUSTRY                0\n",
       "CNT_PAYMENT                    372230\n",
       "NAME_YIELD_GROUP                    0\n",
       "PRODUCT_COMBINATION               346\n",
       "dtype: int64"
      ]
     },
     "execution_count": 399,
     "metadata": {},
     "output_type": "execute_result"
    }
   ],
   "source": [
    "inp1.isnull().sum()"
   ]
  },
  {
   "cell_type": "markdown",
   "id": "734688df-c4fc-4321-973d-12ef39f396da",
   "metadata": {},
   "source": [
    "**AMT_GOODS_PRICE: ANALYSIS**"
   ]
  },
  {
   "cell_type": "code",
   "execution_count": 401,
   "id": "afd5c234-413c-414b-a479-dbd7b6db7626",
   "metadata": {},
   "outputs": [
    {
     "data": {
      "text/plain": [
       "count    1.284699e+06\n",
       "mean     2.278473e+05\n",
       "std      3.153966e+05\n",
       "min      0.000000e+00\n",
       "25%      5.084100e+04\n",
       "50%      1.123200e+05\n",
       "75%      2.340000e+05\n",
       "max      6.905160e+06\n",
       "Name: AMT_GOODS_PRICE, dtype: float64"
      ]
     },
     "execution_count": 401,
     "metadata": {},
     "output_type": "execute_result"
    }
   ],
   "source": [
    "#Describing the AMT_GOODS_PRICE column\n",
    "inp1.AMT_GOODS_PRICE.describe()"
   ]
  },
  {
   "cell_type": "code",
   "execution_count": 402,
   "id": "1b159986-4afd-40ae-9345-944bd4a6b66c",
   "metadata": {},
   "outputs": [
    {
     "data": {
      "text/plain": [
       "385515"
      ]
     },
     "execution_count": 402,
     "metadata": {},
     "output_type": "execute_result"
    }
   ],
   "source": [
    "#Number of missing values in AMT_GOODS_PRICE\n",
    "inp1.AMT_GOODS_PRICE.isnull().sum()"
   ]
  },
  {
   "cell_type": "code",
   "execution_count": 403,
   "id": "117a39ec-a07e-4559-b0f9-db86c0b9f0e9",
   "metadata": {},
   "outputs": [
    {
     "data": {
      "text/plain": [
       "23.08177275486854"
      ]
     },
     "execution_count": 403,
     "metadata": {},
     "output_type": "execute_result"
    }
   ],
   "source": [
    "#%age of missing values\n",
    "float(100.0*385515/1670214)"
   ]
  },
  {
   "cell_type": "markdown",
   "id": "2fa662df-d571-4bac-a83c-de6429c8d52c",
   "metadata": {},
   "source": [
    "The mean and median are far apart and the data is highly skewed. Here again, we replace the missing values with '0'"
   ]
  },
  {
   "cell_type": "code",
   "execution_count": 405,
   "id": "445ce9ba-9b22-4974-9cc3-dc80669c8982",
   "metadata": {},
   "outputs": [],
   "source": [
    "#Replacing the null values with 0\n",
    "inp1['AMT_GOODS_PRICE'].fillna(0,inplace=True)"
   ]
  },
  {
   "cell_type": "code",
   "execution_count": 406,
   "id": "f1d8b58e-8843-4b67-a83e-ee5c77acd554",
   "metadata": {},
   "outputs": [
    {
     "data": {
      "text/plain": [
       "SK_ID_PREV                          0\n",
       "SK_ID_CURR                          0\n",
       "NAME_CONTRACT_TYPE                  0\n",
       "AMT_ANNUITY                         0\n",
       "AMT_APPLICATION                     0\n",
       "AMT_CREDIT                          1\n",
       "AMT_GOODS_PRICE                     0\n",
       "WEEKDAY_APPR_PROCESS_START          0\n",
       "HOUR_APPR_PROCESS_START             0\n",
       "FLAG_LAST_APPL_PER_CONTRACT         0\n",
       "NFLAG_LAST_APPL_IN_DAY              0\n",
       "NAME_CASH_LOAN_PURPOSE              0\n",
       "NAME_CONTRACT_STATUS                0\n",
       "DAYS_DECISION                       0\n",
       "NAME_PAYMENT_TYPE                   0\n",
       "CODE_REJECT_REASON                  0\n",
       "NAME_CLIENT_TYPE                    0\n",
       "NAME_GOODS_CATEGORY                 0\n",
       "NAME_PORTFOLIO                      0\n",
       "NAME_PRODUCT_TYPE                   0\n",
       "CHANNEL_TYPE                        0\n",
       "SELLERPLACE_AREA                    0\n",
       "NAME_SELLER_INDUSTRY                0\n",
       "CNT_PAYMENT                    372230\n",
       "NAME_YIELD_GROUP                    0\n",
       "PRODUCT_COMBINATION               346\n",
       "dtype: int64"
      ]
     },
     "execution_count": 406,
     "metadata": {},
     "output_type": "execute_result"
    }
   ],
   "source": [
    "inp1.isnull().sum()"
   ]
  },
  {
   "cell_type": "markdown",
   "id": "e40870a4-8336-49bd-9d0a-ecc57692bcbb",
   "metadata": {},
   "source": [
    "**AMT_CNT_PAYMENT: ANALYSIS**"
   ]
  },
  {
   "cell_type": "code",
   "execution_count": 408,
   "id": "4d405dd4-0770-4a48-9b70-4dd99117048d",
   "metadata": {},
   "outputs": [
    {
     "data": {
      "text/plain": [
       "count    1.297984e+06\n",
       "mean     1.605408e+01\n",
       "std      1.456729e+01\n",
       "min      0.000000e+00\n",
       "25%      6.000000e+00\n",
       "50%      1.200000e+01\n",
       "75%      2.400000e+01\n",
       "max      8.400000e+01\n",
       "Name: CNT_PAYMENT, dtype: float64"
      ]
     },
     "execution_count": 408,
     "metadata": {},
     "output_type": "execute_result"
    }
   ],
   "source": [
    "#Describing the CNT_PAYMENT column\n",
    "inp1.CNT_PAYMENT.describe()"
   ]
  },
  {
   "cell_type": "code",
   "execution_count": 409,
   "id": "e33a30b4-1b50-4da4-8411-72f28105e14c",
   "metadata": {
    "scrolled": true
   },
   "outputs": [
    {
     "data": {
      "text/plain": [
       "372230"
      ]
     },
     "execution_count": 409,
     "metadata": {},
     "output_type": "execute_result"
    }
   ],
   "source": [
    "#Number of missing values in CNT_PAYMENT\n",
    "inp1.CNT_PAYMENT.isnull().sum()"
   ]
  },
  {
   "cell_type": "code",
   "execution_count": 410,
   "id": "36fe6be0-97c5-4081-9713-96224dfc11d3",
   "metadata": {},
   "outputs": [
    {
     "data": {
      "text/plain": [
       "22.286365699245724"
      ]
     },
     "execution_count": 410,
     "metadata": {},
     "output_type": "execute_result"
    }
   ],
   "source": [
    "#%age of missing values\n",
    "float(100.0*372230/1670214)"
   ]
  },
  {
   "cell_type": "markdown",
   "id": "de940f3a-9df9-422e-aa13-b03f6cc62752",
   "metadata": {},
   "source": [
    "The mean and median are far apart and the data is highly skewed. Here again, we replace the missing values with '0'"
   ]
  },
  {
   "cell_type": "code",
   "execution_count": 412,
   "id": "879d5ced-58c6-4234-af22-f76b0225087a",
   "metadata": {},
   "outputs": [],
   "source": [
    "inp1['CNT_PAYMENT'].fillna(0,inplace=True)"
   ]
  },
  {
   "cell_type": "code",
   "execution_count": 413,
   "id": "1d6c3862-60d4-4dc8-a430-f1e0e66094b9",
   "metadata": {},
   "outputs": [
    {
     "data": {
      "text/plain": [
       "SK_ID_PREV                       0\n",
       "SK_ID_CURR                       0\n",
       "NAME_CONTRACT_TYPE               0\n",
       "AMT_ANNUITY                      0\n",
       "AMT_APPLICATION                  0\n",
       "AMT_CREDIT                       1\n",
       "AMT_GOODS_PRICE                  0\n",
       "WEEKDAY_APPR_PROCESS_START       0\n",
       "HOUR_APPR_PROCESS_START          0\n",
       "FLAG_LAST_APPL_PER_CONTRACT      0\n",
       "NFLAG_LAST_APPL_IN_DAY           0\n",
       "NAME_CASH_LOAN_PURPOSE           0\n",
       "NAME_CONTRACT_STATUS             0\n",
       "DAYS_DECISION                    0\n",
       "NAME_PAYMENT_TYPE                0\n",
       "CODE_REJECT_REASON               0\n",
       "NAME_CLIENT_TYPE                 0\n",
       "NAME_GOODS_CATEGORY              0\n",
       "NAME_PORTFOLIO                   0\n",
       "NAME_PRODUCT_TYPE                0\n",
       "CHANNEL_TYPE                     0\n",
       "SELLERPLACE_AREA                 0\n",
       "NAME_SELLER_INDUSTRY             0\n",
       "CNT_PAYMENT                      0\n",
       "NAME_YIELD_GROUP                 0\n",
       "PRODUCT_COMBINATION            346\n",
       "dtype: int64"
      ]
     },
     "execution_count": 413,
     "metadata": {},
     "output_type": "execute_result"
    }
   ],
   "source": [
    "inp1.isnull().sum()"
   ]
  },
  {
   "cell_type": "code",
   "execution_count": 414,
   "id": "2b582c7c-6794-4a4e-960b-2d13277ba991",
   "metadata": {},
   "outputs": [
    {
     "data": {
      "text/html": [
       "<div>\n",
       "<style scoped>\n",
       "    .dataframe tbody tr th:only-of-type {\n",
       "        vertical-align: middle;\n",
       "    }\n",
       "\n",
       "    .dataframe tbody tr th {\n",
       "        vertical-align: top;\n",
       "    }\n",
       "\n",
       "    .dataframe thead th {\n",
       "        text-align: right;\n",
       "    }\n",
       "</style>\n",
       "<table border=\"1\" class=\"dataframe\">\n",
       "  <thead>\n",
       "    <tr style=\"text-align: right;\">\n",
       "      <th></th>\n",
       "      <th>SK_ID_PREV</th>\n",
       "      <th>SK_ID_CURR</th>\n",
       "      <th>NAME_CONTRACT_TYPE</th>\n",
       "      <th>AMT_ANNUITY</th>\n",
       "      <th>AMT_APPLICATION</th>\n",
       "      <th>AMT_CREDIT</th>\n",
       "      <th>AMT_GOODS_PRICE</th>\n",
       "      <th>WEEKDAY_APPR_PROCESS_START</th>\n",
       "      <th>HOUR_APPR_PROCESS_START</th>\n",
       "      <th>FLAG_LAST_APPL_PER_CONTRACT</th>\n",
       "      <th>...</th>\n",
       "      <th>NAME_CLIENT_TYPE</th>\n",
       "      <th>NAME_GOODS_CATEGORY</th>\n",
       "      <th>NAME_PORTFOLIO</th>\n",
       "      <th>NAME_PRODUCT_TYPE</th>\n",
       "      <th>CHANNEL_TYPE</th>\n",
       "      <th>SELLERPLACE_AREA</th>\n",
       "      <th>NAME_SELLER_INDUSTRY</th>\n",
       "      <th>CNT_PAYMENT</th>\n",
       "      <th>NAME_YIELD_GROUP</th>\n",
       "      <th>PRODUCT_COMBINATION</th>\n",
       "    </tr>\n",
       "  </thead>\n",
       "  <tbody>\n",
       "    <tr>\n",
       "      <th>0</th>\n",
       "      <td>2030495</td>\n",
       "      <td>271877</td>\n",
       "      <td>Consumer loans</td>\n",
       "      <td>1730.430</td>\n",
       "      <td>17145.0</td>\n",
       "      <td>17145.0</td>\n",
       "      <td>17145.0</td>\n",
       "      <td>SATURDAY</td>\n",
       "      <td>15</td>\n",
       "      <td>Y</td>\n",
       "      <td>...</td>\n",
       "      <td>Repeater</td>\n",
       "      <td>Mobile</td>\n",
       "      <td>POS</td>\n",
       "      <td>XNA</td>\n",
       "      <td>Country-wide</td>\n",
       "      <td>35</td>\n",
       "      <td>Connectivity</td>\n",
       "      <td>12.0</td>\n",
       "      <td>middle</td>\n",
       "      <td>POS mobile with interest</td>\n",
       "    </tr>\n",
       "    <tr>\n",
       "      <th>1</th>\n",
       "      <td>2802425</td>\n",
       "      <td>108129</td>\n",
       "      <td>Cash loans</td>\n",
       "      <td>25188.615</td>\n",
       "      <td>607500.0</td>\n",
       "      <td>679671.0</td>\n",
       "      <td>607500.0</td>\n",
       "      <td>THURSDAY</td>\n",
       "      <td>11</td>\n",
       "      <td>Y</td>\n",
       "      <td>...</td>\n",
       "      <td>Repeater</td>\n",
       "      <td>XNA</td>\n",
       "      <td>Cash</td>\n",
       "      <td>x-sell</td>\n",
       "      <td>Contact center</td>\n",
       "      <td>-1</td>\n",
       "      <td>XNA</td>\n",
       "      <td>36.0</td>\n",
       "      <td>low_action</td>\n",
       "      <td>Cash X-Sell: low</td>\n",
       "    </tr>\n",
       "    <tr>\n",
       "      <th>2</th>\n",
       "      <td>2523466</td>\n",
       "      <td>122040</td>\n",
       "      <td>Cash loans</td>\n",
       "      <td>15060.735</td>\n",
       "      <td>112500.0</td>\n",
       "      <td>136444.5</td>\n",
       "      <td>112500.0</td>\n",
       "      <td>TUESDAY</td>\n",
       "      <td>11</td>\n",
       "      <td>Y</td>\n",
       "      <td>...</td>\n",
       "      <td>Repeater</td>\n",
       "      <td>XNA</td>\n",
       "      <td>Cash</td>\n",
       "      <td>x-sell</td>\n",
       "      <td>Credit and cash offices</td>\n",
       "      <td>-1</td>\n",
       "      <td>XNA</td>\n",
       "      <td>12.0</td>\n",
       "      <td>high</td>\n",
       "      <td>Cash X-Sell: high</td>\n",
       "    </tr>\n",
       "    <tr>\n",
       "      <th>3</th>\n",
       "      <td>2819243</td>\n",
       "      <td>176158</td>\n",
       "      <td>Cash loans</td>\n",
       "      <td>47041.335</td>\n",
       "      <td>450000.0</td>\n",
       "      <td>470790.0</td>\n",
       "      <td>450000.0</td>\n",
       "      <td>MONDAY</td>\n",
       "      <td>7</td>\n",
       "      <td>Y</td>\n",
       "      <td>...</td>\n",
       "      <td>Repeater</td>\n",
       "      <td>XNA</td>\n",
       "      <td>Cash</td>\n",
       "      <td>x-sell</td>\n",
       "      <td>Credit and cash offices</td>\n",
       "      <td>-1</td>\n",
       "      <td>XNA</td>\n",
       "      <td>12.0</td>\n",
       "      <td>middle</td>\n",
       "      <td>Cash X-Sell: middle</td>\n",
       "    </tr>\n",
       "    <tr>\n",
       "      <th>4</th>\n",
       "      <td>1784265</td>\n",
       "      <td>202054</td>\n",
       "      <td>Cash loans</td>\n",
       "      <td>31924.395</td>\n",
       "      <td>337500.0</td>\n",
       "      <td>404055.0</td>\n",
       "      <td>337500.0</td>\n",
       "      <td>THURSDAY</td>\n",
       "      <td>9</td>\n",
       "      <td>Y</td>\n",
       "      <td>...</td>\n",
       "      <td>Repeater</td>\n",
       "      <td>XNA</td>\n",
       "      <td>Cash</td>\n",
       "      <td>walk-in</td>\n",
       "      <td>Credit and cash offices</td>\n",
       "      <td>-1</td>\n",
       "      <td>XNA</td>\n",
       "      <td>24.0</td>\n",
       "      <td>high</td>\n",
       "      <td>Cash Street: high</td>\n",
       "    </tr>\n",
       "  </tbody>\n",
       "</table>\n",
       "<p>5 rows × 26 columns</p>\n",
       "</div>"
      ],
      "text/plain": [
       "   SK_ID_PREV  SK_ID_CURR NAME_CONTRACT_TYPE  AMT_ANNUITY  AMT_APPLICATION  \\\n",
       "0     2030495      271877     Consumer loans     1730.430          17145.0   \n",
       "1     2802425      108129         Cash loans    25188.615         607500.0   \n",
       "2     2523466      122040         Cash loans    15060.735         112500.0   \n",
       "3     2819243      176158         Cash loans    47041.335         450000.0   \n",
       "4     1784265      202054         Cash loans    31924.395         337500.0   \n",
       "\n",
       "   AMT_CREDIT  AMT_GOODS_PRICE WEEKDAY_APPR_PROCESS_START  \\\n",
       "0     17145.0          17145.0                   SATURDAY   \n",
       "1    679671.0         607500.0                   THURSDAY   \n",
       "2    136444.5         112500.0                    TUESDAY   \n",
       "3    470790.0         450000.0                     MONDAY   \n",
       "4    404055.0         337500.0                   THURSDAY   \n",
       "\n",
       "   HOUR_APPR_PROCESS_START FLAG_LAST_APPL_PER_CONTRACT  ...  NAME_CLIENT_TYPE  \\\n",
       "0                       15                           Y  ...          Repeater   \n",
       "1                       11                           Y  ...          Repeater   \n",
       "2                       11                           Y  ...          Repeater   \n",
       "3                        7                           Y  ...          Repeater   \n",
       "4                        9                           Y  ...          Repeater   \n",
       "\n",
       "  NAME_GOODS_CATEGORY NAME_PORTFOLIO  NAME_PRODUCT_TYPE  \\\n",
       "0              Mobile            POS                XNA   \n",
       "1                 XNA           Cash             x-sell   \n",
       "2                 XNA           Cash             x-sell   \n",
       "3                 XNA           Cash             x-sell   \n",
       "4                 XNA           Cash            walk-in   \n",
       "\n",
       "              CHANNEL_TYPE SELLERPLACE_AREA NAME_SELLER_INDUSTRY CNT_PAYMENT  \\\n",
       "0             Country-wide               35         Connectivity        12.0   \n",
       "1           Contact center               -1                  XNA        36.0   \n",
       "2  Credit and cash offices               -1                  XNA        12.0   \n",
       "3  Credit and cash offices               -1                  XNA        12.0   \n",
       "4  Credit and cash offices               -1                  XNA        24.0   \n",
       "\n",
       "  NAME_YIELD_GROUP       PRODUCT_COMBINATION  \n",
       "0           middle  POS mobile with interest  \n",
       "1       low_action          Cash X-Sell: low  \n",
       "2             high         Cash X-Sell: high  \n",
       "3           middle       Cash X-Sell: middle  \n",
       "4             high         Cash Street: high  \n",
       "\n",
       "[5 rows x 26 columns]"
      ]
     },
     "execution_count": 414,
     "metadata": {},
     "output_type": "execute_result"
    }
   ],
   "source": [
    "inp1.head()"
   ]
  },
  {
   "cell_type": "markdown",
   "id": "00c9bd58-c0f4-469b-9060-c4664f5b8ec7",
   "metadata": {},
   "source": [
    "**PRODUCT_COMBINATION: ANALYSIS**"
   ]
  },
  {
   "cell_type": "code",
   "execution_count": 416,
   "id": "15a89b95-3b86-42db-92bf-e65e64ce88ea",
   "metadata": {},
   "outputs": [
    {
     "data": {
      "text/plain": [
       "count     1669868\n",
       "unique         17\n",
       "top          Cash\n",
       "freq       285990\n",
       "Name: PRODUCT_COMBINATION, dtype: object"
      ]
     },
     "execution_count": 416,
     "metadata": {},
     "output_type": "execute_result"
    }
   ],
   "source": [
    "#Describing the PRODUCT_COMBINATION column\n",
    "inp1.PRODUCT_COMBINATION.describe()"
   ]
  },
  {
   "cell_type": "code",
   "execution_count": 417,
   "id": "16b0aeee-f0e3-488e-b98f-40a2076ad809",
   "metadata": {},
   "outputs": [
    {
     "data": {
      "text/plain": [
       "346"
      ]
     },
     "execution_count": 417,
     "metadata": {},
     "output_type": "execute_result"
    }
   ],
   "source": [
    "#Number of missing values in CNT_PAYMENT\n",
    "inp1.PRODUCT_COMBINATION.isnull().sum()"
   ]
  },
  {
   "cell_type": "code",
   "execution_count": 418,
   "id": "635bf488-363b-4ee5-bf06-7664ca1a44ef",
   "metadata": {},
   "outputs": [
    {
     "data": {
      "text/plain": [
       "0.02071590826085759"
      ]
     },
     "execution_count": 418,
     "metadata": {},
     "output_type": "execute_result"
    }
   ],
   "source": [
    "#%age of missing values\n",
    "float(100.0*346/1670214)"
   ]
  },
  {
   "cell_type": "markdown",
   "id": "25fa44a7-79ac-4e38-9fe4-a259fdf71712",
   "metadata": {},
   "source": [
    "We replace the missing values with the mode of the column - 'Cash'"
   ]
  },
  {
   "cell_type": "code",
   "execution_count": 420,
   "id": "549417f2-d7eb-4605-b01a-18f225a65a78",
   "metadata": {},
   "outputs": [],
   "source": [
    "inp1['PRODUCT_COMBINATION'].fillna('Cash',inplace=True)\n"
   ]
  },
  {
   "cell_type": "code",
   "execution_count": 421,
   "id": "48b8c3ab-4b40-4e45-a563-030e70231275",
   "metadata": {},
   "outputs": [
    {
     "data": {
      "text/plain": [
       "SK_ID_PREV                     0\n",
       "SK_ID_CURR                     0\n",
       "NAME_CONTRACT_TYPE             0\n",
       "AMT_ANNUITY                    0\n",
       "AMT_APPLICATION                0\n",
       "AMT_CREDIT                     1\n",
       "AMT_GOODS_PRICE                0\n",
       "WEEKDAY_APPR_PROCESS_START     0\n",
       "HOUR_APPR_PROCESS_START        0\n",
       "FLAG_LAST_APPL_PER_CONTRACT    0\n",
       "NFLAG_LAST_APPL_IN_DAY         0\n",
       "NAME_CASH_LOAN_PURPOSE         0\n",
       "NAME_CONTRACT_STATUS           0\n",
       "DAYS_DECISION                  0\n",
       "NAME_PAYMENT_TYPE              0\n",
       "CODE_REJECT_REASON             0\n",
       "NAME_CLIENT_TYPE               0\n",
       "NAME_GOODS_CATEGORY            0\n",
       "NAME_PORTFOLIO                 0\n",
       "NAME_PRODUCT_TYPE              0\n",
       "CHANNEL_TYPE                   0\n",
       "SELLERPLACE_AREA               0\n",
       "NAME_SELLER_INDUSTRY           0\n",
       "CNT_PAYMENT                    0\n",
       "NAME_YIELD_GROUP               0\n",
       "PRODUCT_COMBINATION            0\n",
       "dtype: int64"
      ]
     },
     "execution_count": 421,
     "metadata": {},
     "output_type": "execute_result"
    }
   ],
   "source": [
    "inp1.isnull().sum()"
   ]
  },
  {
   "cell_type": "code",
   "execution_count": 422,
   "id": "d82c433a-8af0-47dc-ab22-5b603627b37e",
   "metadata": {},
   "outputs": [],
   "source": [
    "#Replace the missing values(XNA) in gender with "
   ]
  },
  {
   "cell_type": "markdown",
   "id": "9e5bb750-9666-48e6-b356-a46be716ffeb",
   "metadata": {},
   "source": [
    "**Finding Outliers in the Dataset**"
   ]
  },
  {
   "cell_type": "code",
   "execution_count": 424,
   "id": "239d0b4d-43fe-4dc6-898f-5e303985d05d",
   "metadata": {},
   "outputs": [
    {
     "data": {
      "text/html": [
       "<div>\n",
       "<style scoped>\n",
       "    .dataframe tbody tr th:only-of-type {\n",
       "        vertical-align: middle;\n",
       "    }\n",
       "\n",
       "    .dataframe tbody tr th {\n",
       "        vertical-align: top;\n",
       "    }\n",
       "\n",
       "    .dataframe thead th {\n",
       "        text-align: right;\n",
       "    }\n",
       "</style>\n",
       "<table border=\"1\" class=\"dataframe\">\n",
       "  <thead>\n",
       "    <tr style=\"text-align: right;\">\n",
       "      <th></th>\n",
       "      <th>SK_ID_CURR</th>\n",
       "      <th>TARGET</th>\n",
       "      <th>NAME_CONTRACT_TYPE</th>\n",
       "      <th>CODE_GENDER</th>\n",
       "      <th>FLAG_OWN_CAR</th>\n",
       "      <th>FLAG_OWN_REALTY</th>\n",
       "      <th>CNT_CHILDREN</th>\n",
       "      <th>AMT_INCOME_TOTAL</th>\n",
       "      <th>AMT_CREDIT</th>\n",
       "      <th>AMT_ANNUITY</th>\n",
       "      <th>...</th>\n",
       "      <th>FLAG_DOCUMENT_12</th>\n",
       "      <th>FLAG_DOCUMENT_13</th>\n",
       "      <th>FLAG_DOCUMENT_14</th>\n",
       "      <th>FLAG_DOCUMENT_15</th>\n",
       "      <th>FLAG_DOCUMENT_16</th>\n",
       "      <th>FLAG_DOCUMENT_17</th>\n",
       "      <th>FLAG_DOCUMENT_18</th>\n",
       "      <th>FLAG_DOCUMENT_19</th>\n",
       "      <th>FLAG_DOCUMENT_20</th>\n",
       "      <th>FLAG_DOCUMENT_21</th>\n",
       "    </tr>\n",
       "  </thead>\n",
       "  <tbody>\n",
       "    <tr>\n",
       "      <th>0</th>\n",
       "      <td>100002</td>\n",
       "      <td>1</td>\n",
       "      <td>Cash loans</td>\n",
       "      <td>M</td>\n",
       "      <td>N</td>\n",
       "      <td>Y</td>\n",
       "      <td>0</td>\n",
       "      <td>202500.0</td>\n",
       "      <td>406597.5</td>\n",
       "      <td>24700.5</td>\n",
       "      <td>...</td>\n",
       "      <td>0</td>\n",
       "      <td>0</td>\n",
       "      <td>0</td>\n",
       "      <td>0</td>\n",
       "      <td>0</td>\n",
       "      <td>0</td>\n",
       "      <td>0</td>\n",
       "      <td>0</td>\n",
       "      <td>0</td>\n",
       "      <td>0</td>\n",
       "    </tr>\n",
       "    <tr>\n",
       "      <th>1</th>\n",
       "      <td>100003</td>\n",
       "      <td>0</td>\n",
       "      <td>Cash loans</td>\n",
       "      <td>F</td>\n",
       "      <td>N</td>\n",
       "      <td>N</td>\n",
       "      <td>0</td>\n",
       "      <td>270000.0</td>\n",
       "      <td>1293502.5</td>\n",
       "      <td>35698.5</td>\n",
       "      <td>...</td>\n",
       "      <td>0</td>\n",
       "      <td>0</td>\n",
       "      <td>0</td>\n",
       "      <td>0</td>\n",
       "      <td>0</td>\n",
       "      <td>0</td>\n",
       "      <td>0</td>\n",
       "      <td>0</td>\n",
       "      <td>0</td>\n",
       "      <td>0</td>\n",
       "    </tr>\n",
       "    <tr>\n",
       "      <th>2</th>\n",
       "      <td>100004</td>\n",
       "      <td>0</td>\n",
       "      <td>Revolving loans</td>\n",
       "      <td>M</td>\n",
       "      <td>Y</td>\n",
       "      <td>Y</td>\n",
       "      <td>0</td>\n",
       "      <td>67500.0</td>\n",
       "      <td>135000.0</td>\n",
       "      <td>6750.0</td>\n",
       "      <td>...</td>\n",
       "      <td>0</td>\n",
       "      <td>0</td>\n",
       "      <td>0</td>\n",
       "      <td>0</td>\n",
       "      <td>0</td>\n",
       "      <td>0</td>\n",
       "      <td>0</td>\n",
       "      <td>0</td>\n",
       "      <td>0</td>\n",
       "      <td>0</td>\n",
       "    </tr>\n",
       "    <tr>\n",
       "      <th>3</th>\n",
       "      <td>100006</td>\n",
       "      <td>0</td>\n",
       "      <td>Cash loans</td>\n",
       "      <td>F</td>\n",
       "      <td>N</td>\n",
       "      <td>Y</td>\n",
       "      <td>0</td>\n",
       "      <td>135000.0</td>\n",
       "      <td>312682.5</td>\n",
       "      <td>29686.5</td>\n",
       "      <td>...</td>\n",
       "      <td>0</td>\n",
       "      <td>0</td>\n",
       "      <td>0</td>\n",
       "      <td>0</td>\n",
       "      <td>0</td>\n",
       "      <td>0</td>\n",
       "      <td>0</td>\n",
       "      <td>0</td>\n",
       "      <td>0</td>\n",
       "      <td>0</td>\n",
       "    </tr>\n",
       "    <tr>\n",
       "      <th>4</th>\n",
       "      <td>100007</td>\n",
       "      <td>0</td>\n",
       "      <td>Cash loans</td>\n",
       "      <td>M</td>\n",
       "      <td>N</td>\n",
       "      <td>Y</td>\n",
       "      <td>0</td>\n",
       "      <td>121500.0</td>\n",
       "      <td>513000.0</td>\n",
       "      <td>21865.5</td>\n",
       "      <td>...</td>\n",
       "      <td>0</td>\n",
       "      <td>0</td>\n",
       "      <td>0</td>\n",
       "      <td>0</td>\n",
       "      <td>0</td>\n",
       "      <td>0</td>\n",
       "      <td>0</td>\n",
       "      <td>0</td>\n",
       "      <td>0</td>\n",
       "      <td>0</td>\n",
       "    </tr>\n",
       "  </tbody>\n",
       "</table>\n",
       "<p>5 rows × 116 columns</p>\n",
       "</div>"
      ],
      "text/plain": [
       "   SK_ID_CURR  TARGET NAME_CONTRACT_TYPE CODE_GENDER FLAG_OWN_CAR  \\\n",
       "0      100002       1         Cash loans           M            N   \n",
       "1      100003       0         Cash loans           F            N   \n",
       "2      100004       0    Revolving loans           M            Y   \n",
       "3      100006       0         Cash loans           F            N   \n",
       "4      100007       0         Cash loans           M            N   \n",
       "\n",
       "  FLAG_OWN_REALTY  CNT_CHILDREN  AMT_INCOME_TOTAL  AMT_CREDIT  AMT_ANNUITY  \\\n",
       "0               Y             0          202500.0    406597.5      24700.5   \n",
       "1               N             0          270000.0   1293502.5      35698.5   \n",
       "2               Y             0           67500.0    135000.0       6750.0   \n",
       "3               Y             0          135000.0    312682.5      29686.5   \n",
       "4               Y             0          121500.0    513000.0      21865.5   \n",
       "\n",
       "   ...  FLAG_DOCUMENT_12 FLAG_DOCUMENT_13 FLAG_DOCUMENT_14 FLAG_DOCUMENT_15  \\\n",
       "0  ...                 0                0                0                0   \n",
       "1  ...                 0                0                0                0   \n",
       "2  ...                 0                0                0                0   \n",
       "3  ...                 0                0                0                0   \n",
       "4  ...                 0                0                0                0   \n",
       "\n",
       "  FLAG_DOCUMENT_16 FLAG_DOCUMENT_17  FLAG_DOCUMENT_18  FLAG_DOCUMENT_19  \\\n",
       "0                0                0                 0                 0   \n",
       "1                0                0                 0                 0   \n",
       "2                0                0                 0                 0   \n",
       "3                0                0                 0                 0   \n",
       "4                0                0                 0                 0   \n",
       "\n",
       "   FLAG_DOCUMENT_20  FLAG_DOCUMENT_21  \n",
       "0                 0                 0  \n",
       "1                 0                 0  \n",
       "2                 0                 0  \n",
       "3                 0                 0  \n",
       "4                 0                 0  \n",
       "\n",
       "[5 rows x 116 columns]"
      ]
     },
     "execution_count": 424,
     "metadata": {},
     "output_type": "execute_result"
    }
   ],
   "source": [
    "inp0.head()"
   ]
  },
  {
   "cell_type": "code",
   "execution_count": 425,
   "id": "3adc6cb5-a484-40f4-aac1-28ab920a0c48",
   "metadata": {},
   "outputs": [
    {
     "data": {
      "text/html": [
       "<div>\n",
       "<style scoped>\n",
       "    .dataframe tbody tr th:only-of-type {\n",
       "        vertical-align: middle;\n",
       "    }\n",
       "\n",
       "    .dataframe tbody tr th {\n",
       "        vertical-align: top;\n",
       "    }\n",
       "\n",
       "    .dataframe thead th {\n",
       "        text-align: right;\n",
       "    }\n",
       "</style>\n",
       "<table border=\"1\" class=\"dataframe\">\n",
       "  <thead>\n",
       "    <tr style=\"text-align: right;\">\n",
       "      <th></th>\n",
       "      <th>SK_ID_CURR</th>\n",
       "      <th>TARGET</th>\n",
       "      <th>NAME_CONTRACT_TYPE</th>\n",
       "      <th>CODE_GENDER</th>\n",
       "      <th>FLAG_OWN_CAR</th>\n",
       "      <th>FLAG_OWN_REALTY</th>\n",
       "      <th>CNT_CHILDREN</th>\n",
       "      <th>AMT_INCOME_TOTAL</th>\n",
       "      <th>AMT_CREDIT</th>\n",
       "      <th>AMT_ANNUITY</th>\n",
       "      <th>...</th>\n",
       "      <th>FLAG_DOCUMENT_13</th>\n",
       "      <th>FLAG_DOCUMENT_14</th>\n",
       "      <th>FLAG_DOCUMENT_15</th>\n",
       "      <th>FLAG_DOCUMENT_16</th>\n",
       "      <th>FLAG_DOCUMENT_17</th>\n",
       "      <th>FLAG_DOCUMENT_18</th>\n",
       "      <th>FLAG_DOCUMENT_19</th>\n",
       "      <th>FLAG_DOCUMENT_20</th>\n",
       "      <th>FLAG_DOCUMENT_21</th>\n",
       "      <th>AGE_IN_YEARS</th>\n",
       "    </tr>\n",
       "  </thead>\n",
       "  <tbody>\n",
       "    <tr>\n",
       "      <th>0</th>\n",
       "      <td>100002</td>\n",
       "      <td>1</td>\n",
       "      <td>Cash loans</td>\n",
       "      <td>M</td>\n",
       "      <td>N</td>\n",
       "      <td>Y</td>\n",
       "      <td>0</td>\n",
       "      <td>202500.0</td>\n",
       "      <td>406597.5</td>\n",
       "      <td>24700.5</td>\n",
       "      <td>...</td>\n",
       "      <td>0</td>\n",
       "      <td>0</td>\n",
       "      <td>0</td>\n",
       "      <td>0</td>\n",
       "      <td>0</td>\n",
       "      <td>0</td>\n",
       "      <td>0</td>\n",
       "      <td>0</td>\n",
       "      <td>0</td>\n",
       "      <td>25.920548</td>\n",
       "    </tr>\n",
       "    <tr>\n",
       "      <th>1</th>\n",
       "      <td>100003</td>\n",
       "      <td>0</td>\n",
       "      <td>Cash loans</td>\n",
       "      <td>F</td>\n",
       "      <td>N</td>\n",
       "      <td>N</td>\n",
       "      <td>0</td>\n",
       "      <td>270000.0</td>\n",
       "      <td>1293502.5</td>\n",
       "      <td>35698.5</td>\n",
       "      <td>...</td>\n",
       "      <td>0</td>\n",
       "      <td>0</td>\n",
       "      <td>0</td>\n",
       "      <td>0</td>\n",
       "      <td>0</td>\n",
       "      <td>0</td>\n",
       "      <td>0</td>\n",
       "      <td>0</td>\n",
       "      <td>0</td>\n",
       "      <td>45.931507</td>\n",
       "    </tr>\n",
       "    <tr>\n",
       "      <th>2</th>\n",
       "      <td>100004</td>\n",
       "      <td>0</td>\n",
       "      <td>Revolving loans</td>\n",
       "      <td>M</td>\n",
       "      <td>Y</td>\n",
       "      <td>Y</td>\n",
       "      <td>0</td>\n",
       "      <td>67500.0</td>\n",
       "      <td>135000.0</td>\n",
       "      <td>6750.0</td>\n",
       "      <td>...</td>\n",
       "      <td>0</td>\n",
       "      <td>0</td>\n",
       "      <td>0</td>\n",
       "      <td>0</td>\n",
       "      <td>0</td>\n",
       "      <td>0</td>\n",
       "      <td>0</td>\n",
       "      <td>0</td>\n",
       "      <td>0</td>\n",
       "      <td>52.180822</td>\n",
       "    </tr>\n",
       "    <tr>\n",
       "      <th>3</th>\n",
       "      <td>100006</td>\n",
       "      <td>0</td>\n",
       "      <td>Cash loans</td>\n",
       "      <td>F</td>\n",
       "      <td>N</td>\n",
       "      <td>Y</td>\n",
       "      <td>0</td>\n",
       "      <td>135000.0</td>\n",
       "      <td>312682.5</td>\n",
       "      <td>29686.5</td>\n",
       "      <td>...</td>\n",
       "      <td>0</td>\n",
       "      <td>0</td>\n",
       "      <td>0</td>\n",
       "      <td>0</td>\n",
       "      <td>0</td>\n",
       "      <td>0</td>\n",
       "      <td>0</td>\n",
       "      <td>0</td>\n",
       "      <td>0</td>\n",
       "      <td>52.068493</td>\n",
       "    </tr>\n",
       "    <tr>\n",
       "      <th>4</th>\n",
       "      <td>100007</td>\n",
       "      <td>0</td>\n",
       "      <td>Cash loans</td>\n",
       "      <td>M</td>\n",
       "      <td>N</td>\n",
       "      <td>Y</td>\n",
       "      <td>0</td>\n",
       "      <td>121500.0</td>\n",
       "      <td>513000.0</td>\n",
       "      <td>21865.5</td>\n",
       "      <td>...</td>\n",
       "      <td>0</td>\n",
       "      <td>0</td>\n",
       "      <td>0</td>\n",
       "      <td>0</td>\n",
       "      <td>0</td>\n",
       "      <td>0</td>\n",
       "      <td>0</td>\n",
       "      <td>0</td>\n",
       "      <td>0</td>\n",
       "      <td>54.608219</td>\n",
       "    </tr>\n",
       "  </tbody>\n",
       "</table>\n",
       "<p>5 rows × 117 columns</p>\n",
       "</div>"
      ],
      "text/plain": [
       "   SK_ID_CURR  TARGET NAME_CONTRACT_TYPE CODE_GENDER FLAG_OWN_CAR  \\\n",
       "0      100002       1         Cash loans           M            N   \n",
       "1      100003       0         Cash loans           F            N   \n",
       "2      100004       0    Revolving loans           M            Y   \n",
       "3      100006       0         Cash loans           F            N   \n",
       "4      100007       0         Cash loans           M            N   \n",
       "\n",
       "  FLAG_OWN_REALTY  CNT_CHILDREN  AMT_INCOME_TOTAL  AMT_CREDIT  AMT_ANNUITY  \\\n",
       "0               Y             0          202500.0    406597.5      24700.5   \n",
       "1               N             0          270000.0   1293502.5      35698.5   \n",
       "2               Y             0           67500.0    135000.0       6750.0   \n",
       "3               Y             0          135000.0    312682.5      29686.5   \n",
       "4               Y             0          121500.0    513000.0      21865.5   \n",
       "\n",
       "   ...  FLAG_DOCUMENT_13 FLAG_DOCUMENT_14 FLAG_DOCUMENT_15 FLAG_DOCUMENT_16  \\\n",
       "0  ...                 0                0                0                0   \n",
       "1  ...                 0                0                0                0   \n",
       "2  ...                 0                0                0                0   \n",
       "3  ...                 0                0                0                0   \n",
       "4  ...                 0                0                0                0   \n",
       "\n",
       "  FLAG_DOCUMENT_17 FLAG_DOCUMENT_18  FLAG_DOCUMENT_19  FLAG_DOCUMENT_20  \\\n",
       "0                0                0                 0                 0   \n",
       "1                0                0                 0                 0   \n",
       "2                0                0                 0                 0   \n",
       "3                0                0                 0                 0   \n",
       "4                0                0                 0                 0   \n",
       "\n",
       "   FLAG_DOCUMENT_21  AGE_IN_YEARS  \n",
       "0                 0     25.920548  \n",
       "1                 0     45.931507  \n",
       "2                 0     52.180822  \n",
       "3                 0     52.068493  \n",
       "4                 0     54.608219  \n",
       "\n",
       "[5 rows x 117 columns]"
      ]
     },
     "execution_count": 425,
     "metadata": {},
     "output_type": "execute_result"
    }
   ],
   "source": [
    "#Converting the client's age in days to years\n",
    "inp0['AGE_IN_YEARS'] = abs(inp0['DAYS_BIRTH'])/365\n",
    "inp0.head()"
   ]
  },
  {
   "cell_type": "code",
   "execution_count": 426,
   "id": "617777ec-5967-47be-a88f-9f86bcb6c180",
   "metadata": {},
   "outputs": [
    {
     "data": {
      "text/html": [
       "<div>\n",
       "<style scoped>\n",
       "    .dataframe tbody tr th:only-of-type {\n",
       "        vertical-align: middle;\n",
       "    }\n",
       "\n",
       "    .dataframe tbody tr th {\n",
       "        vertical-align: top;\n",
       "    }\n",
       "\n",
       "    .dataframe thead th {\n",
       "        text-align: right;\n",
       "    }\n",
       "</style>\n",
       "<table border=\"1\" class=\"dataframe\">\n",
       "  <thead>\n",
       "    <tr style=\"text-align: right;\">\n",
       "      <th></th>\n",
       "      <th>SK_ID_CURR</th>\n",
       "      <th>TARGET</th>\n",
       "      <th>NAME_CONTRACT_TYPE</th>\n",
       "      <th>CODE_GENDER</th>\n",
       "      <th>FLAG_OWN_CAR</th>\n",
       "      <th>FLAG_OWN_REALTY</th>\n",
       "      <th>CNT_CHILDREN</th>\n",
       "      <th>AMT_INCOME_TOTAL</th>\n",
       "      <th>AMT_CREDIT</th>\n",
       "      <th>AMT_ANNUITY</th>\n",
       "      <th>...</th>\n",
       "      <th>FLAG_DOCUMENT_13</th>\n",
       "      <th>FLAG_DOCUMENT_14</th>\n",
       "      <th>FLAG_DOCUMENT_15</th>\n",
       "      <th>FLAG_DOCUMENT_16</th>\n",
       "      <th>FLAG_DOCUMENT_17</th>\n",
       "      <th>FLAG_DOCUMENT_18</th>\n",
       "      <th>FLAG_DOCUMENT_19</th>\n",
       "      <th>FLAG_DOCUMENT_20</th>\n",
       "      <th>FLAG_DOCUMENT_21</th>\n",
       "      <th>AGE_IN_YEARS</th>\n",
       "    </tr>\n",
       "  </thead>\n",
       "  <tbody>\n",
       "    <tr>\n",
       "      <th>0</th>\n",
       "      <td>100002</td>\n",
       "      <td>1</td>\n",
       "      <td>Cash loans</td>\n",
       "      <td>M</td>\n",
       "      <td>N</td>\n",
       "      <td>Y</td>\n",
       "      <td>0</td>\n",
       "      <td>202500.0</td>\n",
       "      <td>406597.5</td>\n",
       "      <td>24700.5</td>\n",
       "      <td>...</td>\n",
       "      <td>0</td>\n",
       "      <td>0</td>\n",
       "      <td>0</td>\n",
       "      <td>0</td>\n",
       "      <td>0</td>\n",
       "      <td>0</td>\n",
       "      <td>0</td>\n",
       "      <td>0</td>\n",
       "      <td>0</td>\n",
       "      <td>25.920548</td>\n",
       "    </tr>\n",
       "    <tr>\n",
       "      <th>1</th>\n",
       "      <td>100003</td>\n",
       "      <td>0</td>\n",
       "      <td>Cash loans</td>\n",
       "      <td>F</td>\n",
       "      <td>N</td>\n",
       "      <td>N</td>\n",
       "      <td>0</td>\n",
       "      <td>270000.0</td>\n",
       "      <td>1293502.5</td>\n",
       "      <td>35698.5</td>\n",
       "      <td>...</td>\n",
       "      <td>0</td>\n",
       "      <td>0</td>\n",
       "      <td>0</td>\n",
       "      <td>0</td>\n",
       "      <td>0</td>\n",
       "      <td>0</td>\n",
       "      <td>0</td>\n",
       "      <td>0</td>\n",
       "      <td>0</td>\n",
       "      <td>45.931507</td>\n",
       "    </tr>\n",
       "    <tr>\n",
       "      <th>2</th>\n",
       "      <td>100004</td>\n",
       "      <td>0</td>\n",
       "      <td>Revolving loans</td>\n",
       "      <td>M</td>\n",
       "      <td>Y</td>\n",
       "      <td>Y</td>\n",
       "      <td>0</td>\n",
       "      <td>67500.0</td>\n",
       "      <td>135000.0</td>\n",
       "      <td>6750.0</td>\n",
       "      <td>...</td>\n",
       "      <td>0</td>\n",
       "      <td>0</td>\n",
       "      <td>0</td>\n",
       "      <td>0</td>\n",
       "      <td>0</td>\n",
       "      <td>0</td>\n",
       "      <td>0</td>\n",
       "      <td>0</td>\n",
       "      <td>0</td>\n",
       "      <td>52.180822</td>\n",
       "    </tr>\n",
       "    <tr>\n",
       "      <th>3</th>\n",
       "      <td>100006</td>\n",
       "      <td>0</td>\n",
       "      <td>Cash loans</td>\n",
       "      <td>F</td>\n",
       "      <td>N</td>\n",
       "      <td>Y</td>\n",
       "      <td>0</td>\n",
       "      <td>135000.0</td>\n",
       "      <td>312682.5</td>\n",
       "      <td>29686.5</td>\n",
       "      <td>...</td>\n",
       "      <td>0</td>\n",
       "      <td>0</td>\n",
       "      <td>0</td>\n",
       "      <td>0</td>\n",
       "      <td>0</td>\n",
       "      <td>0</td>\n",
       "      <td>0</td>\n",
       "      <td>0</td>\n",
       "      <td>0</td>\n",
       "      <td>52.068493</td>\n",
       "    </tr>\n",
       "    <tr>\n",
       "      <th>4</th>\n",
       "      <td>100007</td>\n",
       "      <td>0</td>\n",
       "      <td>Cash loans</td>\n",
       "      <td>M</td>\n",
       "      <td>N</td>\n",
       "      <td>Y</td>\n",
       "      <td>0</td>\n",
       "      <td>121500.0</td>\n",
       "      <td>513000.0</td>\n",
       "      <td>21865.5</td>\n",
       "      <td>...</td>\n",
       "      <td>0</td>\n",
       "      <td>0</td>\n",
       "      <td>0</td>\n",
       "      <td>0</td>\n",
       "      <td>0</td>\n",
       "      <td>0</td>\n",
       "      <td>0</td>\n",
       "      <td>0</td>\n",
       "      <td>0</td>\n",
       "      <td>54.608219</td>\n",
       "    </tr>\n",
       "  </tbody>\n",
       "</table>\n",
       "<p>5 rows × 116 columns</p>\n",
       "</div>"
      ],
      "text/plain": [
       "   SK_ID_CURR  TARGET NAME_CONTRACT_TYPE CODE_GENDER FLAG_OWN_CAR  \\\n",
       "0      100002       1         Cash loans           M            N   \n",
       "1      100003       0         Cash loans           F            N   \n",
       "2      100004       0    Revolving loans           M            Y   \n",
       "3      100006       0         Cash loans           F            N   \n",
       "4      100007       0         Cash loans           M            N   \n",
       "\n",
       "  FLAG_OWN_REALTY  CNT_CHILDREN  AMT_INCOME_TOTAL  AMT_CREDIT  AMT_ANNUITY  \\\n",
       "0               Y             0          202500.0    406597.5      24700.5   \n",
       "1               N             0          270000.0   1293502.5      35698.5   \n",
       "2               Y             0           67500.0    135000.0       6750.0   \n",
       "3               Y             0          135000.0    312682.5      29686.5   \n",
       "4               Y             0          121500.0    513000.0      21865.5   \n",
       "\n",
       "   ...  FLAG_DOCUMENT_13 FLAG_DOCUMENT_14 FLAG_DOCUMENT_15 FLAG_DOCUMENT_16  \\\n",
       "0  ...                 0                0                0                0   \n",
       "1  ...                 0                0                0                0   \n",
       "2  ...                 0                0                0                0   \n",
       "3  ...                 0                0                0                0   \n",
       "4  ...                 0                0                0                0   \n",
       "\n",
       "  FLAG_DOCUMENT_17 FLAG_DOCUMENT_18  FLAG_DOCUMENT_19  FLAG_DOCUMENT_20  \\\n",
       "0                0                0                 0                 0   \n",
       "1                0                0                 0                 0   \n",
       "2                0                0                 0                 0   \n",
       "3                0                0                 0                 0   \n",
       "4                0                0                 0                 0   \n",
       "\n",
       "   FLAG_DOCUMENT_21  AGE_IN_YEARS  \n",
       "0                 0     25.920548  \n",
       "1                 0     45.931507  \n",
       "2                 0     52.180822  \n",
       "3                 0     52.068493  \n",
       "4                 0     54.608219  \n",
       "\n",
       "[5 rows x 116 columns]"
      ]
     },
     "execution_count": 426,
     "metadata": {},
     "output_type": "execute_result"
    }
   ],
   "source": [
    "#Drop the DAYS_BIRTH column\n",
    "inp0.drop('DAYS_BIRTH',axis=1,inplace=True)\n",
    "inp0.head()"
   ]
  },
  {
   "cell_type": "code",
   "execution_count": 427,
   "id": "9f9c42bb-f98f-41b7-bef2-ee4a63506ac2",
   "metadata": {},
   "outputs": [
    {
     "data": {
      "text/plain": [
       "count    3.075110e+05\n",
       "mean     1.687979e+05\n",
       "std      2.371231e+05\n",
       "min      2.565000e+04\n",
       "25%      1.125000e+05\n",
       "50%      1.471500e+05\n",
       "75%      2.025000e+05\n",
       "max      1.170000e+08\n",
       "Name: AMT_INCOME_TOTAL, dtype: float64"
      ]
     },
     "execution_count": 427,
     "metadata": {},
     "output_type": "execute_result"
    }
   ],
   "source": [
    "#Describe the Income variable\n",
    "inp0.AMT_INCOME_TOTAL.describe()"
   ]
  },
  {
   "cell_type": "code",
   "execution_count": 428,
   "id": "524fe282-533f-494a-9041-20149131011a",
   "metadata": {},
   "outputs": [
    {
     "data": {
      "image/png": "[encoded data removed]",
      "text/plain": [
       "<Figure size 300x400 with 1 Axes>"
      ]
     },
     "metadata": {},
     "output_type": "display_data"
    }
   ],
   "source": [
    "#Plotting a boxplot for the income variable\n",
    "plt.figure(figsize=(3,4))\n",
    "sns.boxplot(inp0.AMT_INCOME_TOTAL)\n",
    "plt.show()\n",
    "#This is not giving a very useful representation of the outliers. We will not try to plot a scatterplot to understand the data better."
   ]
  },
  {
   "cell_type": "code",
   "execution_count": 429,
   "id": "a99ff704-f4e2-40ba-9322-8f719542d9d9",
   "metadata": {},
   "outputs": [
    {
     "data": {
      "image/png": "[encoded data removed]",
      "text/plain": [
       "<Figure size 1000x500 with 1 Axes>"
      ]
     },
     "metadata": {},
     "output_type": "display_data"
    }
   ],
   "source": [
    "plt.figure(figsize=(10,5))\n",
    "sns.scatterplot(data=inp0,x='AGE_IN_YEARS',y='AMT_INCOME_TOTAL')\n",
    "plt.title('Scatterplot of Age vs Income')\n",
    "plt.xlabel('Age')\n",
    "plt.ylabel('Income')\n",
    "plt.show()"
   ]
  },
  {
   "cell_type": "markdown",
   "id": "acff31c4-16fc-4a07-a124-1e0e5dcae394",
   "metadata": {},
   "source": [
    "Clearly,many customers of this bank earn <=1,00,000 as their salary across age groups. The only identifiable outliers are between the ages of 30-40 and a few between 50-60. \n",
    "Since, these customers gain more experience in their occupation post 30 years and therefore can command a higher salary."
   ]
  },
  {
   "cell_type": "markdown",
   "id": "b2238fcf-fad9-410b-bdb6-9277021ea098",
   "metadata": {},
   "source": [
    "**Analyzing the gender variable**"
   ]
  },
  {
   "cell_type": "code",
   "execution_count": 432,
   "id": "218b22b8-c91a-4826-8329-4b2a042919dc",
   "metadata": {},
   "outputs": [
    {
     "data": {
      "text/plain": [
       "count     307511\n",
       "unique         3\n",
       "top            F\n",
       "freq      202448\n",
       "Name: CODE_GENDER, dtype: object"
      ]
     },
     "execution_count": 432,
     "metadata": {},
     "output_type": "execute_result"
    }
   ],
   "source": [
    "inp0.CODE_GENDER.describe()"
   ]
  },
  {
   "cell_type": "code",
   "execution_count": 433,
   "id": "9836c005-cefc-49a3-93c0-7cd853febf8f",
   "metadata": {},
   "outputs": [
    {
     "data": {
      "text/plain": [
       "(307507, 116)"
      ]
     },
     "execution_count": 433,
     "metadata": {},
     "output_type": "execute_result"
    }
   ],
   "source": [
    "#For gender not available(XNA), we will drop these rows.\n",
    "inp0 = inp0[inp0['CODE_GENDER']!='XNA']\n",
    "inp0.shape\n"
   ]
  },
  {
   "cell_type": "code",
   "execution_count": 434,
   "id": "c7a21418-adc6-48bd-b3d5-6195d43f5aaa",
   "metadata": {},
   "outputs": [
    {
     "data": {
      "text/plain": [
       "0"
      ]
     },
     "execution_count": 434,
     "metadata": {},
     "output_type": "execute_result"
    }
   ],
   "source": [
    "#Checking for null values in gender\n",
    "inp0.CODE_GENDER.isnull().sum()"
   ]
  },
  {
   "cell_type": "code",
   "execution_count": 435,
   "id": "61cd425f-a38d-4614-a3c6-3a90c28f1ccc",
   "metadata": {},
   "outputs": [
    {
     "data": {
      "text/plain": [
       "CODE_GENDER\n",
       "F    0.658352\n",
       "M    0.341648\n",
       "Name: proportion, dtype: float64"
      ]
     },
     "execution_count": 435,
     "metadata": {},
     "output_type": "execute_result"
    }
   ],
   "source": [
    "inp0.CODE_GENDER.value_counts(normalize=True)"
   ]
  },
  {
   "cell_type": "code",
   "execution_count": 436,
   "id": "dd8e07a1-9e36-47fd-aa2b-bc4985837845",
   "metadata": {
    "scrolled": true
   },
   "outputs": [
    {
     "data": {
      "image/png": "[encoded data removed]",
      "text/plain": [
       "<Figure size 640x480 with 1 Axes>"
      ]
     },
     "metadata": {},
     "output_type": "display_data"
    }
   ],
   "source": [
    "#Understand the gender ratio in the application dataframe\n",
    "inp0.CODE_GENDER.value_counts(normalize= True).plot.pie()\n",
    "plt.show()"
   ]
  },
  {
   "cell_type": "markdown",
   "id": "c41a4ddc-1f4b-4639-a26e-a8f9a2dfc71f",
   "metadata": {},
   "source": [
    "66% of the customers who apply for a loan are female as compared to 34% of the male customers."
   ]
  },
  {
   "cell_type": "code",
   "execution_count": 438,
   "id": "49ec9e7c-ca25-4123-90cf-3a87e40d0a5b",
   "metadata": {
    "scrolled": true
   },
   "outputs": [
    {
     "data": {
      "image/png": "[encoded data removed]",
      "text/plain": [
       "<Figure size 1000x500 with 1 Axes>"
      ]
     },
     "metadata": {},
     "output_type": "display_data"
    }
   ],
   "source": [
    "#We want to understand the demographic of our customer base: by plotting a scatterplot between income and gender.\n",
    "plt.figure(figsize=(10,5))\n",
    "sns.scatterplot(data=inp0,x='CODE_GENDER',y='AMT_INCOME_TOTAL')\n",
    "plt.title('Scatterplot of Gender vs Income')\n",
    "plt.xlabel('Gender')\n",
    "plt.ylabel('Income of the customer')\n",
    "plt.show()\n"
   ]
  },
  {
   "cell_type": "code",
   "execution_count": 439,
   "id": "87d224e0-267e-4aa8-974c-8cfcdce142be",
   "metadata": {},
   "outputs": [
    {
     "data": {
      "image/png": "[encoded data removed]",
      "text/plain": [
       "<Figure size 640x480 with 1 Axes>"
      ]
     },
     "metadata": {},
     "output_type": "display_data"
    }
   ],
   "source": [
    "sns.boxplot(data=inp0,x=\"CODE_GENDER\", y=\"AMT_INCOME_TOTAL\")\n",
    "#plt.ylim(0.0,0.2) #Setting the limits of the y axis\n",
    "plt.show()"
   ]
  },
  {
   "cell_type": "markdown",
   "id": "b0f78770-f2ec-4025-a961-7c6e732e4f75",
   "metadata": {},
   "source": [
    "**Analyzing the TARGET variable: Loan default rates**\n",
    "1- Client with payment difficulties\n",
    "0 - rest of cases"
   ]
  },
  {
   "cell_type": "code",
   "execution_count": 441,
   "id": "bf8f7f28-d382-473f-8d5a-39daacbf8926",
   "metadata": {},
   "outputs": [
    {
     "data": {
      "text/plain": [
       "count    307507.00000\n",
       "mean          0.08073\n",
       "std           0.27242\n",
       "min           0.00000\n",
       "25%           0.00000\n",
       "50%           0.00000\n",
       "75%           0.00000\n",
       "max           1.00000\n",
       "Name: TARGET, dtype: float64"
      ]
     },
     "execution_count": 441,
     "metadata": {},
     "output_type": "execute_result"
    }
   ],
   "source": [
    "inp0.TARGET.describe()"
   ]
  },
  {
   "cell_type": "code",
   "execution_count": 442,
   "id": "36e1e59a-5130-44c9-8bcd-98014c65cf7b",
   "metadata": {},
   "outputs": [
    {
     "data": {
      "text/plain": [
       "0"
      ]
     },
     "execution_count": 442,
     "metadata": {},
     "output_type": "execute_result"
    }
   ],
   "source": [
    "inp0.TARGET.isnull().sum()"
   ]
  },
  {
   "cell_type": "code",
   "execution_count": 443,
   "id": "3da7b8af-22d8-444c-9bf6-8c38cbda0b16",
   "metadata": {},
   "outputs": [
    {
     "data": {
      "text/plain": [
       "TARGET\n",
       "0    0.91927\n",
       "1    0.08073\n",
       "Name: proportion, dtype: float64"
      ]
     },
     "execution_count": 443,
     "metadata": {},
     "output_type": "execute_result"
    }
   ],
   "source": [
    "inp0.TARGET.value_counts(normalize=True)"
   ]
  },
  {
   "cell_type": "code",
   "execution_count": 444,
   "id": "77d46c92-d9ef-4554-8478-79f380077546",
   "metadata": {},
   "outputs": [
    {
     "data": {
      "image/png": "[encoded data removed]",
      "text/plain": [
       "<Figure size 640x480 with 1 Axes>"
      ]
     },
     "metadata": {},
     "output_type": "display_data"
    }
   ],
   "source": [
    "#Understand the income distribution in the application dataframe\n",
    "inp0.TARGET.value_counts(normalize= True).plot.barh()\n",
    "plt.show()\n"
   ]
  },
  {
   "cell_type": "markdown",
   "id": "c9c5698d-5123-423b-bb0b-5f4eaf4b2d8f",
   "metadata": {},
   "source": [
    "8% of the customers have payment difficulties."
   ]
  },
  {
   "cell_type": "markdown",
   "id": "e7eb27ea-5dc2-4b41-8040-d3232d141996",
   "metadata": {},
   "source": [
    "**Bivariate Analysis**\n"
   ]
  },
  {
   "cell_type": "code",
   "execution_count": 447,
   "id": "24f2379c-7c6c-4961-9463-caf5386081da",
   "metadata": {},
   "outputs": [
    {
     "data": {
      "text/plain": [
       "CODE_GENDER\n",
       "F    135000.0\n",
       "M    180000.0\n",
       "Name: AMT_INCOME_TOTAL, dtype: float64"
      ]
     },
     "execution_count": 447,
     "metadata": {},
     "output_type": "execute_result"
    }
   ],
   "source": [
    "#Calculating the mean of salary with gender\n",
    "inp0.groupby('CODE_GENDER')['AMT_INCOME_TOTAL'].median()"
   ]
  },
  {
   "cell_type": "code",
   "execution_count": 448,
   "id": "825f6dcc-9988-4ec5-8946-be3c328eb813",
   "metadata": {},
   "outputs": [
    {
     "data": {
      "image/png": "[encoded data removed]",
      "text/plain": [
       "<Figure size 640x480 with 1 Axes>"
      ]
     },
     "metadata": {},
     "output_type": "display_data"
    }
   ],
   "source": [
    "inp0.groupby('CODE_GENDER')['AMT_INCOME_TOTAL'].median().plot.barh()\n",
    "plt.show()"
   ]
  },
  {
   "cell_type": "markdown",
   "id": "9c8cb6ca-fbe6-4699-b18d-8e6892bac0be",
   "metadata": {},
   "source": [
    "Although the number of female loan applicants are higher, the average salary of the male customer is significantly higher.\n",
    "This can be a basic indicator of providing a loan to a male candidate, due to a higher probability of repaying back the loan."
   ]
  },
  {
   "cell_type": "code",
   "execution_count": 450,
   "id": "3a8d447e-b69a-452d-9f83-aa6756e8d78c",
   "metadata": {},
   "outputs": [
    {
     "data": {
      "text/plain": [
       "NAME_EDUCATION_TYPE\n",
       "Academic degree                  211500.0\n",
       "Higher education                 180000.0\n",
       "Incomplete higher                157500.0\n",
       "Lower secondary                  112500.0\n",
       "Secondary / secondary special    135000.0\n",
       "Name: AMT_INCOME_TOTAL, dtype: float64"
      ]
     },
     "execution_count": 450,
     "metadata": {},
     "output_type": "execute_result"
    }
   ],
   "source": [
    "#Education vs the income levels\n",
    "inp0.groupby('NAME_EDUCATION_TYPE')['AMT_INCOME_TOTAL'].median()"
   ]
  },
  {
   "cell_type": "code",
   "execution_count": 451,
   "id": "6d24e2e5-e23b-416e-adc9-bc8cf7e954e9",
   "metadata": {},
   "outputs": [
    {
     "data": {
      "image/png": "[encoded data removed]",
      "text/plain": [
       "<Figure size 640x480 with 1 Axes>"
      ]
     },
     "metadata": {},
     "output_type": "display_data"
    }
   ],
   "source": [
    "inp0.groupby('NAME_EDUCATION_TYPE')['AMT_INCOME_TOTAL'].median().plot.bar()\n",
    "plt.show()"
   ]
  },
  {
   "cell_type": "markdown",
   "id": "c961bdbc-aa0a-4a93-8d8a-8c66d4f74358",
   "metadata": {},
   "source": [
    "Higher the education level, higher the income of the customer."
   ]
  },
  {
   "cell_type": "code",
   "execution_count": 453,
   "id": "fb83c5ca-3f7c-4c60-9622-9569fcdc1db0",
   "metadata": {},
   "outputs": [
    {
     "data": {
      "text/plain": [
       "NAME_INCOME_TYPE\n",
       "Businessman             652500.000000\n",
       "Commercial associate    202954.705296\n",
       "Maternity leave         140400.000000\n",
       "Pensioner               136401.292273\n",
       "State servant           179737.969506\n",
       "Student                 170500.000000\n",
       "Unemployed              110536.363636\n",
       "Working                 163169.826300\n",
       "Name: AMT_INCOME_TOTAL, dtype: float64"
      ]
     },
     "execution_count": 453,
     "metadata": {},
     "output_type": "execute_result"
    }
   ],
   "source": [
    "#Occupation vs the income levels\n",
    "inp0.groupby('NAME_INCOME_TYPE')['AMT_INCOME_TOTAL'].mean()"
   ]
  },
  {
   "cell_type": "code",
   "execution_count": 454,
   "id": "4187695c-0734-4d6a-aa19-209b7b85c90c",
   "metadata": {},
   "outputs": [
    {
     "data": {
      "image/png": "[encoded data removed]",
      "text/plain": [
       "<Figure size 640x480 with 1 Axes>"
      ]
     },
     "metadata": {},
     "output_type": "display_data"
    }
   ],
   "source": [
    "inp0.groupby('NAME_INCOME_TYPE')['AMT_INCOME_TOTAL'].mean().plot.barh()\n",
    "plt.show()"
   ]
  },
  {
   "cell_type": "markdown",
   "id": "946ba0a5-2c31-4ac6-9a49-620b9f33c8e7",
   "metadata": {},
   "source": [
    "Clearly, businessman and commercial associates have the highest income and can therefore be targeted for providing loans,\n",
    "as the likelihood of them paying back the loan is higher(or the likelihood of them defaulating is lower).\n",
    "Again, although the income is higher for businessmen - there is a risk of business losses as well. The bank must tread cautiously while lending to this category."
   ]
  },
  {
   "cell_type": "code",
   "execution_count": 456,
   "id": "28408c29-436c-45fb-8e3b-56ab8c77cd99",
   "metadata": {},
   "outputs": [
    {
     "data": {
      "text/plain": [
       "CODE_GENDER\n",
       "F    0.069993\n",
       "M    0.101419\n",
       "Name: TARGET, dtype: float64"
      ]
     },
     "execution_count": 456,
     "metadata": {},
     "output_type": "execute_result"
    }
   ],
   "source": [
    "#Finding out whether male/female are likely to default more\n",
    "inp0.groupby('CODE_GENDER')['TARGET'].mean()"
   ]
  },
  {
   "cell_type": "code",
   "execution_count": 457,
   "id": "97f3b419-d187-40f2-8660-13d9530ddb2d",
   "metadata": {
    "scrolled": true
   },
   "outputs": [
    {
     "data": {
      "text/plain": [
       "<Axes: xlabel='CODE_GENDER'>"
      ]
     },
     "execution_count": 457,
     "metadata": {},
     "output_type": "execute_result"
    },
    {
     "data": {
      "image/png": "[encoded data removed]",
      "text/plain": [
       "<Figure size 640x480 with 1 Axes>"
      ]
     },
     "metadata": {},
     "output_type": "display_data"
    }
   ],
   "source": [
    "inp0.groupby('CODE_GENDER')['TARGET'].mean().plot.bar()"
   ]
  },
  {
   "cell_type": "markdown",
   "id": "a4916993-6e24-40ff-a5b2-dca69bc98ad4",
   "metadata": {},
   "source": [
    "Here, it can be clearly seen that although women take more loans, men are more likely to be late/default on their annuity payments."
   ]
  },
  {
   "cell_type": "code",
   "execution_count": 459,
   "id": "0f9c9ef9-1163-45d3-a7ad-08ec5038c13a",
   "metadata": {},
   "outputs": [
    {
     "data": {
      "text/plain": [
       "OCCUPATION_TYPE\n",
       "Accountants              0.048303\n",
       "Cleaning staff           0.096067\n",
       "Cooking staff            0.104440\n",
       "Core staff               0.063042\n",
       "Drivers                  0.113261\n",
       "HR staff                 0.063943\n",
       "High skill tech staff    0.061599\n",
       "IT staff                 0.064639\n",
       "Laborers                 0.105788\n",
       "Low-skill Laborers       0.171606\n",
       "Managers                 0.062140\n",
       "Medicine staff           0.067002\n",
       "Private service staff    0.065988\n",
       "Realty agents            0.078562\n",
       "Sales staff              0.096318\n",
       "Secretaries              0.070498\n",
       "Security staff           0.107424\n",
       "Waiters/barmen staff     0.112760\n",
       "Name: TARGET, dtype: float64"
      ]
     },
     "execution_count": 459,
     "metadata": {},
     "output_type": "execute_result"
    }
   ],
   "source": [
    "#Occupation Type vs the Target variable\n",
    "inp0.groupby('OCCUPATION_TYPE')['TARGET'].mean()"
   ]
  },
  {
   "cell_type": "code",
   "execution_count": 460,
   "id": "eb72da99-5577-4ef5-90c9-b07f9cca2563",
   "metadata": {},
   "outputs": [
    {
     "data": {
      "image/png": "[encoded data removed]",
      "text/plain": [
       "<Figure size 640x480 with 1 Axes>"
      ]
     },
     "metadata": {},
     "output_type": "display_data"
    }
   ],
   "source": [
    "inp0.groupby('OCCUPATION_TYPE')['TARGET'].mean().plot.barh()\n",
    "plt.show()"
   ]
  },
  {
   "cell_type": "markdown",
   "id": "9230eb26-54a8-4a98-a6b7-a6f8018a2d93",
   "metadata": {},
   "source": [
    "From the graph, it can be seen that low-skilled laborers ahve the highest default rate, followed by waiter/barmen staff. The lower default rates are among the skilled workers: such as accountants,High tech skill staff and managers.\n",
    "This could be due to a higher income level for skilled workers and therefore higher ability to pay their loans on time."
   ]
  },
  {
   "cell_type": "markdown",
   "id": "042c2c91-0621-431e-83e5-febf5e00fb95",
   "metadata": {},
   "source": [
    "**What type of loans are approved by the company?**"
   ]
  },
  {
   "cell_type": "code",
   "execution_count": 463,
   "id": "fb3151ca-72bf-40af-9142-7bfac4e99f6c",
   "metadata": {},
   "outputs": [
    {
     "data": {
      "text/plain": [
       "NAME_CONTRACT_STATUS\n",
       "Approved        0.620747\n",
       "Canceled        0.189388\n",
       "Refused         0.174036\n",
       "Unused offer    0.015828\n",
       "Name: proportion, dtype: float64"
      ]
     },
     "execution_count": 463,
     "metadata": {},
     "output_type": "execute_result"
    }
   ],
   "source": [
    "inp1.NAME_CONTRACT_STATUS.value_counts(normalize=True)"
   ]
  },
  {
   "cell_type": "markdown",
   "id": "01eb6725-c0aa-411d-8a95-23000e0e6955",
   "metadata": {},
   "source": [
    "So, 62% of the loans are typically approved by the company while the rest 38% are cancelled, refused or the loan offer is unused."
   ]
  },
  {
   "cell_type": "code",
   "execution_count": 465,
   "id": "a49cb4bf-dd2a-43de-939e-d6985b222911",
   "metadata": {},
   "outputs": [
    {
     "data": {
      "text/html": [
       "<div>\n",
       "<style scoped>\n",
       "    .dataframe tbody tr th:only-of-type {\n",
       "        vertical-align: middle;\n",
       "    }\n",
       "\n",
       "    .dataframe tbody tr th {\n",
       "        vertical-align: top;\n",
       "    }\n",
       "\n",
       "    .dataframe thead th {\n",
       "        text-align: right;\n",
       "    }\n",
       "</style>\n",
       "<table border=\"1\" class=\"dataframe\">\n",
       "  <thead>\n",
       "    <tr style=\"text-align: right;\">\n",
       "      <th></th>\n",
       "      <th>SK_ID_PREV</th>\n",
       "      <th>SK_ID_CURR</th>\n",
       "      <th>NAME_CONTRACT_TYPE</th>\n",
       "      <th>AMT_ANNUITY</th>\n",
       "      <th>AMT_APPLICATION</th>\n",
       "      <th>AMT_CREDIT</th>\n",
       "      <th>AMT_GOODS_PRICE</th>\n",
       "      <th>WEEKDAY_APPR_PROCESS_START</th>\n",
       "      <th>HOUR_APPR_PROCESS_START</th>\n",
       "      <th>FLAG_LAST_APPL_PER_CONTRACT</th>\n",
       "      <th>...</th>\n",
       "      <th>NAME_CLIENT_TYPE</th>\n",
       "      <th>NAME_GOODS_CATEGORY</th>\n",
       "      <th>NAME_PORTFOLIO</th>\n",
       "      <th>NAME_PRODUCT_TYPE</th>\n",
       "      <th>CHANNEL_TYPE</th>\n",
       "      <th>SELLERPLACE_AREA</th>\n",
       "      <th>NAME_SELLER_INDUSTRY</th>\n",
       "      <th>CNT_PAYMENT</th>\n",
       "      <th>NAME_YIELD_GROUP</th>\n",
       "      <th>PRODUCT_COMBINATION</th>\n",
       "    </tr>\n",
       "  </thead>\n",
       "  <tbody>\n",
       "    <tr>\n",
       "      <th>0</th>\n",
       "      <td>2030495</td>\n",
       "      <td>271877</td>\n",
       "      <td>Consumer loans</td>\n",
       "      <td>1730.430</td>\n",
       "      <td>17145.0</td>\n",
       "      <td>17145.0</td>\n",
       "      <td>17145.0</td>\n",
       "      <td>SATURDAY</td>\n",
       "      <td>15</td>\n",
       "      <td>Y</td>\n",
       "      <td>...</td>\n",
       "      <td>Repeater</td>\n",
       "      <td>Mobile</td>\n",
       "      <td>POS</td>\n",
       "      <td>XNA</td>\n",
       "      <td>Country-wide</td>\n",
       "      <td>35</td>\n",
       "      <td>Connectivity</td>\n",
       "      <td>12.0</td>\n",
       "      <td>middle</td>\n",
       "      <td>POS mobile with interest</td>\n",
       "    </tr>\n",
       "    <tr>\n",
       "      <th>1</th>\n",
       "      <td>2802425</td>\n",
       "      <td>108129</td>\n",
       "      <td>Cash loans</td>\n",
       "      <td>25188.615</td>\n",
       "      <td>607500.0</td>\n",
       "      <td>679671.0</td>\n",
       "      <td>607500.0</td>\n",
       "      <td>THURSDAY</td>\n",
       "      <td>11</td>\n",
       "      <td>Y</td>\n",
       "      <td>...</td>\n",
       "      <td>Repeater</td>\n",
       "      <td>XNA</td>\n",
       "      <td>Cash</td>\n",
       "      <td>x-sell</td>\n",
       "      <td>Contact center</td>\n",
       "      <td>-1</td>\n",
       "      <td>XNA</td>\n",
       "      <td>36.0</td>\n",
       "      <td>low_action</td>\n",
       "      <td>Cash X-Sell: low</td>\n",
       "    </tr>\n",
       "    <tr>\n",
       "      <th>2</th>\n",
       "      <td>2523466</td>\n",
       "      <td>122040</td>\n",
       "      <td>Cash loans</td>\n",
       "      <td>15060.735</td>\n",
       "      <td>112500.0</td>\n",
       "      <td>136444.5</td>\n",
       "      <td>112500.0</td>\n",
       "      <td>TUESDAY</td>\n",
       "      <td>11</td>\n",
       "      <td>Y</td>\n",
       "      <td>...</td>\n",
       "      <td>Repeater</td>\n",
       "      <td>XNA</td>\n",
       "      <td>Cash</td>\n",
       "      <td>x-sell</td>\n",
       "      <td>Credit and cash offices</td>\n",
       "      <td>-1</td>\n",
       "      <td>XNA</td>\n",
       "      <td>12.0</td>\n",
       "      <td>high</td>\n",
       "      <td>Cash X-Sell: high</td>\n",
       "    </tr>\n",
       "    <tr>\n",
       "      <th>3</th>\n",
       "      <td>2819243</td>\n",
       "      <td>176158</td>\n",
       "      <td>Cash loans</td>\n",
       "      <td>47041.335</td>\n",
       "      <td>450000.0</td>\n",
       "      <td>470790.0</td>\n",
       "      <td>450000.0</td>\n",
       "      <td>MONDAY</td>\n",
       "      <td>7</td>\n",
       "      <td>Y</td>\n",
       "      <td>...</td>\n",
       "      <td>Repeater</td>\n",
       "      <td>XNA</td>\n",
       "      <td>Cash</td>\n",
       "      <td>x-sell</td>\n",
       "      <td>Credit and cash offices</td>\n",
       "      <td>-1</td>\n",
       "      <td>XNA</td>\n",
       "      <td>12.0</td>\n",
       "      <td>middle</td>\n",
       "      <td>Cash X-Sell: middle</td>\n",
       "    </tr>\n",
       "    <tr>\n",
       "      <th>5</th>\n",
       "      <td>1383531</td>\n",
       "      <td>199383</td>\n",
       "      <td>Cash loans</td>\n",
       "      <td>23703.930</td>\n",
       "      <td>315000.0</td>\n",
       "      <td>340573.5</td>\n",
       "      <td>315000.0</td>\n",
       "      <td>SATURDAY</td>\n",
       "      <td>8</td>\n",
       "      <td>Y</td>\n",
       "      <td>...</td>\n",
       "      <td>Repeater</td>\n",
       "      <td>XNA</td>\n",
       "      <td>Cash</td>\n",
       "      <td>x-sell</td>\n",
       "      <td>Credit and cash offices</td>\n",
       "      <td>-1</td>\n",
       "      <td>XNA</td>\n",
       "      <td>18.0</td>\n",
       "      <td>low_normal</td>\n",
       "      <td>Cash X-Sell: low</td>\n",
       "    </tr>\n",
       "    <tr>\n",
       "      <th>...</th>\n",
       "      <td>...</td>\n",
       "      <td>...</td>\n",
       "      <td>...</td>\n",
       "      <td>...</td>\n",
       "      <td>...</td>\n",
       "      <td>...</td>\n",
       "      <td>...</td>\n",
       "      <td>...</td>\n",
       "      <td>...</td>\n",
       "      <td>...</td>\n",
       "      <td>...</td>\n",
       "      <td>...</td>\n",
       "      <td>...</td>\n",
       "      <td>...</td>\n",
       "      <td>...</td>\n",
       "      <td>...</td>\n",
       "      <td>...</td>\n",
       "      <td>...</td>\n",
       "      <td>...</td>\n",
       "      <td>...</td>\n",
       "      <td>...</td>\n",
       "    </tr>\n",
       "    <tr>\n",
       "      <th>1670209</th>\n",
       "      <td>2300464</td>\n",
       "      <td>352015</td>\n",
       "      <td>Consumer loans</td>\n",
       "      <td>14704.290</td>\n",
       "      <td>267295.5</td>\n",
       "      <td>311400.0</td>\n",
       "      <td>267295.5</td>\n",
       "      <td>WEDNESDAY</td>\n",
       "      <td>12</td>\n",
       "      <td>Y</td>\n",
       "      <td>...</td>\n",
       "      <td>Refreshed</td>\n",
       "      <td>Furniture</td>\n",
       "      <td>POS</td>\n",
       "      <td>XNA</td>\n",
       "      <td>Stone</td>\n",
       "      <td>43</td>\n",
       "      <td>Furniture</td>\n",
       "      <td>30.0</td>\n",
       "      <td>low_normal</td>\n",
       "      <td>POS industry with interest</td>\n",
       "    </tr>\n",
       "    <tr>\n",
       "      <th>1670210</th>\n",
       "      <td>2357031</td>\n",
       "      <td>334635</td>\n",
       "      <td>Consumer loans</td>\n",
       "      <td>6622.020</td>\n",
       "      <td>87750.0</td>\n",
       "      <td>64291.5</td>\n",
       "      <td>87750.0</td>\n",
       "      <td>TUESDAY</td>\n",
       "      <td>15</td>\n",
       "      <td>Y</td>\n",
       "      <td>...</td>\n",
       "      <td>New</td>\n",
       "      <td>Furniture</td>\n",
       "      <td>POS</td>\n",
       "      <td>XNA</td>\n",
       "      <td>Stone</td>\n",
       "      <td>43</td>\n",
       "      <td>Furniture</td>\n",
       "      <td>12.0</td>\n",
       "      <td>middle</td>\n",
       "      <td>POS industry with interest</td>\n",
       "    </tr>\n",
       "    <tr>\n",
       "      <th>1670211</th>\n",
       "      <td>2659632</td>\n",
       "      <td>249544</td>\n",
       "      <td>Consumer loans</td>\n",
       "      <td>11520.855</td>\n",
       "      <td>105237.0</td>\n",
       "      <td>102523.5</td>\n",
       "      <td>105237.0</td>\n",
       "      <td>MONDAY</td>\n",
       "      <td>12</td>\n",
       "      <td>Y</td>\n",
       "      <td>...</td>\n",
       "      <td>Repeater</td>\n",
       "      <td>Consumer Electronics</td>\n",
       "      <td>POS</td>\n",
       "      <td>XNA</td>\n",
       "      <td>Country-wide</td>\n",
       "      <td>1370</td>\n",
       "      <td>Consumer electronics</td>\n",
       "      <td>10.0</td>\n",
       "      <td>low_normal</td>\n",
       "      <td>POS household with interest</td>\n",
       "    </tr>\n",
       "    <tr>\n",
       "      <th>1670212</th>\n",
       "      <td>2785582</td>\n",
       "      <td>400317</td>\n",
       "      <td>Cash loans</td>\n",
       "      <td>18821.520</td>\n",
       "      <td>180000.0</td>\n",
       "      <td>191880.0</td>\n",
       "      <td>180000.0</td>\n",
       "      <td>WEDNESDAY</td>\n",
       "      <td>9</td>\n",
       "      <td>Y</td>\n",
       "      <td>...</td>\n",
       "      <td>Repeater</td>\n",
       "      <td>XNA</td>\n",
       "      <td>Cash</td>\n",
       "      <td>x-sell</td>\n",
       "      <td>AP+ (Cash loan)</td>\n",
       "      <td>-1</td>\n",
       "      <td>XNA</td>\n",
       "      <td>12.0</td>\n",
       "      <td>low_normal</td>\n",
       "      <td>Cash X-Sell: low</td>\n",
       "    </tr>\n",
       "    <tr>\n",
       "      <th>1670213</th>\n",
       "      <td>2418762</td>\n",
       "      <td>261212</td>\n",
       "      <td>Cash loans</td>\n",
       "      <td>16431.300</td>\n",
       "      <td>360000.0</td>\n",
       "      <td>360000.0</td>\n",
       "      <td>360000.0</td>\n",
       "      <td>SUNDAY</td>\n",
       "      <td>10</td>\n",
       "      <td>Y</td>\n",
       "      <td>...</td>\n",
       "      <td>Repeater</td>\n",
       "      <td>XNA</td>\n",
       "      <td>Cash</td>\n",
       "      <td>x-sell</td>\n",
       "      <td>AP+ (Cash loan)</td>\n",
       "      <td>-1</td>\n",
       "      <td>XNA</td>\n",
       "      <td>48.0</td>\n",
       "      <td>middle</td>\n",
       "      <td>Cash X-Sell: middle</td>\n",
       "    </tr>\n",
       "  </tbody>\n",
       "</table>\n",
       "<p>1036781 rows × 26 columns</p>\n",
       "</div>"
      ],
      "text/plain": [
       "         SK_ID_PREV  SK_ID_CURR NAME_CONTRACT_TYPE  AMT_ANNUITY  \\\n",
       "0           2030495      271877     Consumer loans     1730.430   \n",
       "1           2802425      108129         Cash loans    25188.615   \n",
       "2           2523466      122040         Cash loans    15060.735   \n",
       "3           2819243      176158         Cash loans    47041.335   \n",
       "5           1383531      199383         Cash loans    23703.930   \n",
       "...             ...         ...                ...          ...   \n",
       "1670209     2300464      352015     Consumer loans    14704.290   \n",
       "1670210     2357031      334635     Consumer loans     6622.020   \n",
       "1670211     2659632      249544     Consumer loans    11520.855   \n",
       "1670212     2785582      400317         Cash loans    18821.520   \n",
       "1670213     2418762      261212         Cash loans    16431.300   \n",
       "\n",
       "         AMT_APPLICATION  AMT_CREDIT  AMT_GOODS_PRICE  \\\n",
       "0                17145.0     17145.0          17145.0   \n",
       "1               607500.0    679671.0         607500.0   \n",
       "2               112500.0    136444.5         112500.0   \n",
       "3               450000.0    470790.0         450000.0   \n",
       "5               315000.0    340573.5         315000.0   \n",
       "...                  ...         ...              ...   \n",
       "1670209         267295.5    311400.0         267295.5   \n",
       "1670210          87750.0     64291.5          87750.0   \n",
       "1670211         105237.0    102523.5         105237.0   \n",
       "1670212         180000.0    191880.0         180000.0   \n",
       "1670213         360000.0    360000.0         360000.0   \n",
       "\n",
       "        WEEKDAY_APPR_PROCESS_START  HOUR_APPR_PROCESS_START  \\\n",
       "0                         SATURDAY                       15   \n",
       "1                         THURSDAY                       11   \n",
       "2                          TUESDAY                       11   \n",
       "3                           MONDAY                        7   \n",
       "5                         SATURDAY                        8   \n",
       "...                            ...                      ...   \n",
       "1670209                  WEDNESDAY                       12   \n",
       "1670210                    TUESDAY                       15   \n",
       "1670211                     MONDAY                       12   \n",
       "1670212                  WEDNESDAY                        9   \n",
       "1670213                     SUNDAY                       10   \n",
       "\n",
       "        FLAG_LAST_APPL_PER_CONTRACT  ...  NAME_CLIENT_TYPE  \\\n",
       "0                                 Y  ...          Repeater   \n",
       "1                                 Y  ...          Repeater   \n",
       "2                                 Y  ...          Repeater   \n",
       "3                                 Y  ...          Repeater   \n",
       "5                                 Y  ...          Repeater   \n",
       "...                             ...  ...               ...   \n",
       "1670209                           Y  ...         Refreshed   \n",
       "1670210                           Y  ...               New   \n",
       "1670211                           Y  ...          Repeater   \n",
       "1670212                           Y  ...          Repeater   \n",
       "1670213                           Y  ...          Repeater   \n",
       "\n",
       "          NAME_GOODS_CATEGORY NAME_PORTFOLIO  NAME_PRODUCT_TYPE  \\\n",
       "0                      Mobile            POS                XNA   \n",
       "1                         XNA           Cash             x-sell   \n",
       "2                         XNA           Cash             x-sell   \n",
       "3                         XNA           Cash             x-sell   \n",
       "5                         XNA           Cash             x-sell   \n",
       "...                       ...            ...                ...   \n",
       "1670209             Furniture            POS                XNA   \n",
       "1670210             Furniture            POS                XNA   \n",
       "1670211  Consumer Electronics            POS                XNA   \n",
       "1670212                   XNA           Cash             x-sell   \n",
       "1670213                   XNA           Cash             x-sell   \n",
       "\n",
       "                    CHANNEL_TYPE SELLERPLACE_AREA  NAME_SELLER_INDUSTRY  \\\n",
       "0                   Country-wide               35          Connectivity   \n",
       "1                 Contact center               -1                   XNA   \n",
       "2        Credit and cash offices               -1                   XNA   \n",
       "3        Credit and cash offices               -1                   XNA   \n",
       "5        Credit and cash offices               -1                   XNA   \n",
       "...                          ...              ...                   ...   \n",
       "1670209                    Stone               43             Furniture   \n",
       "1670210                    Stone               43             Furniture   \n",
       "1670211             Country-wide             1370  Consumer electronics   \n",
       "1670212          AP+ (Cash loan)               -1                   XNA   \n",
       "1670213          AP+ (Cash loan)               -1                   XNA   \n",
       "\n",
       "        CNT_PAYMENT NAME_YIELD_GROUP          PRODUCT_COMBINATION  \n",
       "0              12.0           middle     POS mobile with interest  \n",
       "1              36.0       low_action             Cash X-Sell: low  \n",
       "2              12.0             high            Cash X-Sell: high  \n",
       "3              12.0           middle          Cash X-Sell: middle  \n",
       "5              18.0       low_normal             Cash X-Sell: low  \n",
       "...             ...              ...                          ...  \n",
       "1670209        30.0       low_normal   POS industry with interest  \n",
       "1670210        12.0           middle   POS industry with interest  \n",
       "1670211        10.0       low_normal  POS household with interest  \n",
       "1670212        12.0       low_normal             Cash X-Sell: low  \n",
       "1670213        48.0           middle          Cash X-Sell: middle  \n",
       "\n",
       "[1036781 rows x 26 columns]"
      ]
     },
     "execution_count": 465,
     "metadata": {},
     "output_type": "execute_result"
    }
   ],
   "source": [
    "approved_loans = inp1[inp1['NAME_CONTRACT_STATUS']=='Approved']\n",
    "approved_loans"
   ]
  },
  {
   "cell_type": "code",
   "execution_count": 466,
   "id": "87043be1-4b5d-4360-bfab-8ace39742c61",
   "metadata": {},
   "outputs": [
    {
     "data": {
      "image/png": "[encoded data removed]",
      "text/plain": [
       "<Figure size 640x480 with 1 Axes>"
      ]
     },
     "metadata": {},
     "output_type": "display_data"
    }
   ],
   "source": [
    "approved_loans.NAME_CONTRACT_TYPE.value_counts(normalize=True).plot.barh()\n",
    "plt.show()"
   ]
  },
  {
   "cell_type": "code",
   "execution_count": 467,
   "id": "d8f0a7ec-965d-46b8-a2a0-1e47c9730959",
   "metadata": {},
   "outputs": [
    {
     "data": {
      "image/png": "[encoded data removed]",
      "text/plain": [
       "<Figure size 640x480 with 1 Axes>"
      ]
     },
     "metadata": {},
     "output_type": "display_data"
    }
   ],
   "source": [
    "#Loan amount requested vs loan amount approved\n",
    "approved_loans.groupby('NAME_CONTRACT_TYPE')['AMT_CREDIT'].mean().plot.bar()\n",
    "plt.show()"
   ]
  },
  {
   "cell_type": "markdown",
   "id": "399d1956-e823-4ef8-941d-7db3c3c020f7",
   "metadata": {},
   "source": [
    "**Amount applied Vs Amount Credited by the Company**"
   ]
  },
  {
   "cell_type": "code",
   "execution_count": 469,
   "id": "9cd09c54-0663-4839-af80-dc6e05c3f7eb",
   "metadata": {},
   "outputs": [],
   "source": [
    "A = inp1.AMT_APPLICATION.median()"
   ]
  },
  {
   "cell_type": "code",
   "execution_count": 470,
   "id": "826dc2a9-3c0a-4a11-b497-27b6501bd58f",
   "metadata": {},
   "outputs": [],
   "source": [
    "B = inp1.AMT_CREDIT.median()"
   ]
  },
  {
   "cell_type": "code",
   "execution_count": 471,
   "id": "0a2344aa-491a-46fc-8892-bcb05b4f47d0",
   "metadata": {},
   "outputs": [
    {
     "data": {
      "text/plain": [
       "9495.0"
      ]
     },
     "execution_count": 471,
     "metadata": {},
     "output_type": "execute_result"
    }
   ],
   "source": [
    "#Difference in median amounts of applied value and finally disbursed\n",
    "Diff = B-A\n",
    "Diff\n",
    "#So, the bank is willing to take on more risk and is lenient in disbursing loans."
   ]
  },
  {
   "cell_type": "code",
   "execution_count": 472,
   "id": "2d991e06-23c5-44cf-8f8c-5d9252a87ad8",
   "metadata": {},
   "outputs": [
    {
     "data": {
      "image/png": "[encoded data removed]",
      "text/plain": [
       "<Figure size 1000x500 with 1 Axes>"
      ]
     },
     "metadata": {},
     "output_type": "display_data"
    }
   ],
   "source": [
    "plt.figure(figsize=(10,5))\n",
    "sns.scatterplot(data=inp1,x='AMT_APPLICATION',y='AMT_CREDIT')\n",
    "plt.title(\"Amount applied by customer Vs Amount credited by company\")\n",
    "plt.xlabel(\"Amount Applied\")\n",
    "plt.ylabel(\"Amount credited\")\n",
    "plt.show()"
   ]
  },
  {
   "cell_type": "markdown",
   "id": "768663b8-9a1e-4333-9538-21df12760c52",
   "metadata": {},
   "source": [
    "From the scatterplot, it can be seen that the company provides the loan amount as applied by the candidates in the range of 0-300000, beyond which the applied amount and the credit amount start to vary. The company is comfortable providing consumers loans at smaller ticket sizes."
   ]
  },
  {
   "cell_type": "markdown",
   "id": "69f3173f-3ea4-4420-b2d3-d68b517a031d",
   "metadata": {},
   "source": [
    "**Reasons for refusal of loans**"
   ]
  },
  {
   "cell_type": "code",
   "execution_count": 475,
   "id": "40b49136-60f3-49cc-8a8c-a2ff906876cf",
   "metadata": {
    "scrolled": true
   },
   "outputs": [
    {
     "data": {
      "text/html": [
       "<div>\n",
       "<style scoped>\n",
       "    .dataframe tbody tr th:only-of-type {\n",
       "        vertical-align: middle;\n",
       "    }\n",
       "\n",
       "    .dataframe tbody tr th {\n",
       "        vertical-align: top;\n",
       "    }\n",
       "\n",
       "    .dataframe thead th {\n",
       "        text-align: right;\n",
       "    }\n",
       "</style>\n",
       "<table border=\"1\" class=\"dataframe\">\n",
       "  <thead>\n",
       "    <tr style=\"text-align: right;\">\n",
       "      <th></th>\n",
       "      <th>SK_ID_PREV</th>\n",
       "      <th>SK_ID_CURR</th>\n",
       "      <th>NAME_CONTRACT_TYPE</th>\n",
       "      <th>AMT_ANNUITY</th>\n",
       "      <th>AMT_APPLICATION</th>\n",
       "      <th>AMT_CREDIT</th>\n",
       "      <th>AMT_GOODS_PRICE</th>\n",
       "      <th>WEEKDAY_APPR_PROCESS_START</th>\n",
       "      <th>HOUR_APPR_PROCESS_START</th>\n",
       "      <th>FLAG_LAST_APPL_PER_CONTRACT</th>\n",
       "      <th>...</th>\n",
       "      <th>NAME_CLIENT_TYPE</th>\n",
       "      <th>NAME_GOODS_CATEGORY</th>\n",
       "      <th>NAME_PORTFOLIO</th>\n",
       "      <th>NAME_PRODUCT_TYPE</th>\n",
       "      <th>CHANNEL_TYPE</th>\n",
       "      <th>SELLERPLACE_AREA</th>\n",
       "      <th>NAME_SELLER_INDUSTRY</th>\n",
       "      <th>CNT_PAYMENT</th>\n",
       "      <th>NAME_YIELD_GROUP</th>\n",
       "      <th>PRODUCT_COMBINATION</th>\n",
       "    </tr>\n",
       "  </thead>\n",
       "  <tbody>\n",
       "    <tr>\n",
       "      <th>4</th>\n",
       "      <td>1784265</td>\n",
       "      <td>202054</td>\n",
       "      <td>Cash loans</td>\n",
       "      <td>31924.395</td>\n",
       "      <td>337500.0</td>\n",
       "      <td>404055.0</td>\n",
       "      <td>337500.0</td>\n",
       "      <td>THURSDAY</td>\n",
       "      <td>9</td>\n",
       "      <td>Y</td>\n",
       "      <td>...</td>\n",
       "      <td>Repeater</td>\n",
       "      <td>XNA</td>\n",
       "      <td>Cash</td>\n",
       "      <td>walk-in</td>\n",
       "      <td>Credit and cash offices</td>\n",
       "      <td>-1</td>\n",
       "      <td>XNA</td>\n",
       "      <td>24.0</td>\n",
       "      <td>high</td>\n",
       "      <td>Cash Street: high</td>\n",
       "    </tr>\n",
       "    <tr>\n",
       "      <th>19</th>\n",
       "      <td>1173070</td>\n",
       "      <td>199178</td>\n",
       "      <td>Cash loans</td>\n",
       "      <td>4666.500</td>\n",
       "      <td>45000.0</td>\n",
       "      <td>49455.0</td>\n",
       "      <td>45000.0</td>\n",
       "      <td>SATURDAY</td>\n",
       "      <td>16</td>\n",
       "      <td>Y</td>\n",
       "      <td>...</td>\n",
       "      <td>Repeater</td>\n",
       "      <td>XNA</td>\n",
       "      <td>Cash</td>\n",
       "      <td>walk-in</td>\n",
       "      <td>AP+ (Cash loan)</td>\n",
       "      <td>6</td>\n",
       "      <td>XNA</td>\n",
       "      <td>18.0</td>\n",
       "      <td>high</td>\n",
       "      <td>Cash Street: high</td>\n",
       "    </tr>\n",
       "    <tr>\n",
       "      <th>20</th>\n",
       "      <td>1506815</td>\n",
       "      <td>166490</td>\n",
       "      <td>Cash loans</td>\n",
       "      <td>25454.025</td>\n",
       "      <td>450000.0</td>\n",
       "      <td>491580.0</td>\n",
       "      <td>450000.0</td>\n",
       "      <td>MONDAY</td>\n",
       "      <td>6</td>\n",
       "      <td>Y</td>\n",
       "      <td>...</td>\n",
       "      <td>Repeater</td>\n",
       "      <td>XNA</td>\n",
       "      <td>Cash</td>\n",
       "      <td>x-sell</td>\n",
       "      <td>Credit and cash offices</td>\n",
       "      <td>-1</td>\n",
       "      <td>XNA</td>\n",
       "      <td>24.0</td>\n",
       "      <td>low_normal</td>\n",
       "      <td>Cash X-Sell: low</td>\n",
       "    </tr>\n",
       "    <tr>\n",
       "      <th>22</th>\n",
       "      <td>1172842</td>\n",
       "      <td>302212</td>\n",
       "      <td>Cash loans</td>\n",
       "      <td>0.000</td>\n",
       "      <td>0.0</td>\n",
       "      <td>0.0</td>\n",
       "      <td>0.0</td>\n",
       "      <td>TUESDAY</td>\n",
       "      <td>9</td>\n",
       "      <td>Y</td>\n",
       "      <td>...</td>\n",
       "      <td>Repeater</td>\n",
       "      <td>XNA</td>\n",
       "      <td>XNA</td>\n",
       "      <td>XNA</td>\n",
       "      <td>Credit and cash offices</td>\n",
       "      <td>-1</td>\n",
       "      <td>XNA</td>\n",
       "      <td>0.0</td>\n",
       "      <td>XNA</td>\n",
       "      <td>Cash</td>\n",
       "    </tr>\n",
       "    <tr>\n",
       "      <th>23</th>\n",
       "      <td>1172937</td>\n",
       "      <td>302212</td>\n",
       "      <td>Cash loans</td>\n",
       "      <td>39475.305</td>\n",
       "      <td>1129500.0</td>\n",
       "      <td>1277104.5</td>\n",
       "      <td>1129500.0</td>\n",
       "      <td>THURSDAY</td>\n",
       "      <td>5</td>\n",
       "      <td>Y</td>\n",
       "      <td>...</td>\n",
       "      <td>Repeater</td>\n",
       "      <td>XNA</td>\n",
       "      <td>Cash</td>\n",
       "      <td>x-sell</td>\n",
       "      <td>Credit and cash offices</td>\n",
       "      <td>-1</td>\n",
       "      <td>XNA</td>\n",
       "      <td>54.0</td>\n",
       "      <td>low_normal</td>\n",
       "      <td>Cash X-Sell: low</td>\n",
       "    </tr>\n",
       "    <tr>\n",
       "      <th>...</th>\n",
       "      <td>...</td>\n",
       "      <td>...</td>\n",
       "      <td>...</td>\n",
       "      <td>...</td>\n",
       "      <td>...</td>\n",
       "      <td>...</td>\n",
       "      <td>...</td>\n",
       "      <td>...</td>\n",
       "      <td>...</td>\n",
       "      <td>...</td>\n",
       "      <td>...</td>\n",
       "      <td>...</td>\n",
       "      <td>...</td>\n",
       "      <td>...</td>\n",
       "      <td>...</td>\n",
       "      <td>...</td>\n",
       "      <td>...</td>\n",
       "      <td>...</td>\n",
       "      <td>...</td>\n",
       "      <td>...</td>\n",
       "      <td>...</td>\n",
       "    </tr>\n",
       "    <tr>\n",
       "      <th>1670197</th>\n",
       "      <td>1854636</td>\n",
       "      <td>184353</td>\n",
       "      <td>Consumer loans</td>\n",
       "      <td>15708.150</td>\n",
       "      <td>153220.5</td>\n",
       "      <td>153220.5</td>\n",
       "      <td>153220.5</td>\n",
       "      <td>SATURDAY</td>\n",
       "      <td>12</td>\n",
       "      <td>Y</td>\n",
       "      <td>...</td>\n",
       "      <td>Repeater</td>\n",
       "      <td>Construction Materials</td>\n",
       "      <td>POS</td>\n",
       "      <td>XNA</td>\n",
       "      <td>Regional / Local</td>\n",
       "      <td>673</td>\n",
       "      <td>Construction</td>\n",
       "      <td>12.0</td>\n",
       "      <td>middle</td>\n",
       "      <td>POS industry with interest</td>\n",
       "    </tr>\n",
       "    <tr>\n",
       "      <th>1670203</th>\n",
       "      <td>2844282</td>\n",
       "      <td>383898</td>\n",
       "      <td>Consumer loans</td>\n",
       "      <td>0.000</td>\n",
       "      <td>14791.5</td>\n",
       "      <td>14791.5</td>\n",
       "      <td>14791.5</td>\n",
       "      <td>TUESDAY</td>\n",
       "      <td>13</td>\n",
       "      <td>Y</td>\n",
       "      <td>...</td>\n",
       "      <td>New</td>\n",
       "      <td>Mobile</td>\n",
       "      <td>XNA</td>\n",
       "      <td>XNA</td>\n",
       "      <td>Stone</td>\n",
       "      <td>106</td>\n",
       "      <td>Connectivity</td>\n",
       "      <td>0.0</td>\n",
       "      <td>XNA</td>\n",
       "      <td>POS mobile with interest</td>\n",
       "    </tr>\n",
       "    <tr>\n",
       "      <th>1670204</th>\n",
       "      <td>1407146</td>\n",
       "      <td>198989</td>\n",
       "      <td>Cash loans</td>\n",
       "      <td>36598.095</td>\n",
       "      <td>450000.0</td>\n",
       "      <td>570073.5</td>\n",
       "      <td>450000.0</td>\n",
       "      <td>THURSDAY</td>\n",
       "      <td>12</td>\n",
       "      <td>Y</td>\n",
       "      <td>...</td>\n",
       "      <td>Repeater</td>\n",
       "      <td>XNA</td>\n",
       "      <td>Cash</td>\n",
       "      <td>x-sell</td>\n",
       "      <td>Credit and cash offices</td>\n",
       "      <td>100</td>\n",
       "      <td>XNA</td>\n",
       "      <td>24.0</td>\n",
       "      <td>middle</td>\n",
       "      <td>Cash X-Sell: middle</td>\n",
       "    </tr>\n",
       "    <tr>\n",
       "      <th>1670205</th>\n",
       "      <td>2815130</td>\n",
       "      <td>338803</td>\n",
       "      <td>Cash loans</td>\n",
       "      <td>14584.050</td>\n",
       "      <td>135000.0</td>\n",
       "      <td>182956.5</td>\n",
       "      <td>135000.0</td>\n",
       "      <td>SATURDAY</td>\n",
       "      <td>10</td>\n",
       "      <td>Y</td>\n",
       "      <td>...</td>\n",
       "      <td>Repeater</td>\n",
       "      <td>XNA</td>\n",
       "      <td>Cash</td>\n",
       "      <td>walk-in</td>\n",
       "      <td>Credit and cash offices</td>\n",
       "      <td>100</td>\n",
       "      <td>XNA</td>\n",
       "      <td>24.0</td>\n",
       "      <td>high</td>\n",
       "      <td>Cash Street: high</td>\n",
       "    </tr>\n",
       "    <tr>\n",
       "      <th>1670207</th>\n",
       "      <td>1662353</td>\n",
       "      <td>443544</td>\n",
       "      <td>Cash loans</td>\n",
       "      <td>12607.875</td>\n",
       "      <td>112500.0</td>\n",
       "      <td>112500.0</td>\n",
       "      <td>112500.0</td>\n",
       "      <td>MONDAY</td>\n",
       "      <td>10</td>\n",
       "      <td>Y</td>\n",
       "      <td>...</td>\n",
       "      <td>Repeater</td>\n",
       "      <td>XNA</td>\n",
       "      <td>Cash</td>\n",
       "      <td>walk-in</td>\n",
       "      <td>Credit and cash offices</td>\n",
       "      <td>100</td>\n",
       "      <td>XNA</td>\n",
       "      <td>12.0</td>\n",
       "      <td>high</td>\n",
       "      <td>Cash Street: high</td>\n",
       "    </tr>\n",
       "  </tbody>\n",
       "</table>\n",
       "<p>290678 rows × 26 columns</p>\n",
       "</div>"
      ],
      "text/plain": [
       "         SK_ID_PREV  SK_ID_CURR NAME_CONTRACT_TYPE  AMT_ANNUITY  \\\n",
       "4           1784265      202054         Cash loans    31924.395   \n",
       "19          1173070      199178         Cash loans     4666.500   \n",
       "20          1506815      166490         Cash loans    25454.025   \n",
       "22          1172842      302212         Cash loans        0.000   \n",
       "23          1172937      302212         Cash loans    39475.305   \n",
       "...             ...         ...                ...          ...   \n",
       "1670197     1854636      184353     Consumer loans    15708.150   \n",
       "1670203     2844282      383898     Consumer loans        0.000   \n",
       "1670204     1407146      198989         Cash loans    36598.095   \n",
       "1670205     2815130      338803         Cash loans    14584.050   \n",
       "1670207     1662353      443544         Cash loans    12607.875   \n",
       "\n",
       "         AMT_APPLICATION  AMT_CREDIT  AMT_GOODS_PRICE  \\\n",
       "4               337500.0    404055.0         337500.0   \n",
       "19               45000.0     49455.0          45000.0   \n",
       "20              450000.0    491580.0         450000.0   \n",
       "22                   0.0         0.0              0.0   \n",
       "23             1129500.0   1277104.5        1129500.0   \n",
       "...                  ...         ...              ...   \n",
       "1670197         153220.5    153220.5         153220.5   \n",
       "1670203          14791.5     14791.5          14791.5   \n",
       "1670204         450000.0    570073.5         450000.0   \n",
       "1670205         135000.0    182956.5         135000.0   \n",
       "1670207         112500.0    112500.0         112500.0   \n",
       "\n",
       "        WEEKDAY_APPR_PROCESS_START  HOUR_APPR_PROCESS_START  \\\n",
       "4                         THURSDAY                        9   \n",
       "19                        SATURDAY                       16   \n",
       "20                          MONDAY                        6   \n",
       "22                         TUESDAY                        9   \n",
       "23                        THURSDAY                        5   \n",
       "...                            ...                      ...   \n",
       "1670197                   SATURDAY                       12   \n",
       "1670203                    TUESDAY                       13   \n",
       "1670204                   THURSDAY                       12   \n",
       "1670205                   SATURDAY                       10   \n",
       "1670207                     MONDAY                       10   \n",
       "\n",
       "        FLAG_LAST_APPL_PER_CONTRACT  ...  NAME_CLIENT_TYPE  \\\n",
       "4                                 Y  ...          Repeater   \n",
       "19                                Y  ...          Repeater   \n",
       "20                                Y  ...          Repeater   \n",
       "22                                Y  ...          Repeater   \n",
       "23                                Y  ...          Repeater   \n",
       "...                             ...  ...               ...   \n",
       "1670197                           Y  ...          Repeater   \n",
       "1670203                           Y  ...               New   \n",
       "1670204                           Y  ...          Repeater   \n",
       "1670205                           Y  ...          Repeater   \n",
       "1670207                           Y  ...          Repeater   \n",
       "\n",
       "            NAME_GOODS_CATEGORY NAME_PORTFOLIO  NAME_PRODUCT_TYPE  \\\n",
       "4                           XNA           Cash            walk-in   \n",
       "19                          XNA           Cash            walk-in   \n",
       "20                          XNA           Cash             x-sell   \n",
       "22                          XNA            XNA                XNA   \n",
       "23                          XNA           Cash             x-sell   \n",
       "...                         ...            ...                ...   \n",
       "1670197  Construction Materials            POS                XNA   \n",
       "1670203                  Mobile            XNA                XNA   \n",
       "1670204                     XNA           Cash             x-sell   \n",
       "1670205                     XNA           Cash            walk-in   \n",
       "1670207                     XNA           Cash            walk-in   \n",
       "\n",
       "                    CHANNEL_TYPE SELLERPLACE_AREA NAME_SELLER_INDUSTRY  \\\n",
       "4        Credit and cash offices               -1                  XNA   \n",
       "19               AP+ (Cash loan)                6                  XNA   \n",
       "20       Credit and cash offices               -1                  XNA   \n",
       "22       Credit and cash offices               -1                  XNA   \n",
       "23       Credit and cash offices               -1                  XNA   \n",
       "...                          ...              ...                  ...   \n",
       "1670197         Regional / Local              673         Construction   \n",
       "1670203                    Stone              106         Connectivity   \n",
       "1670204  Credit and cash offices              100                  XNA   \n",
       "1670205  Credit and cash offices              100                  XNA   \n",
       "1670207  Credit and cash offices              100                  XNA   \n",
       "\n",
       "        CNT_PAYMENT NAME_YIELD_GROUP         PRODUCT_COMBINATION  \n",
       "4              24.0             high           Cash Street: high  \n",
       "19             18.0             high           Cash Street: high  \n",
       "20             24.0       low_normal            Cash X-Sell: low  \n",
       "22              0.0              XNA                        Cash  \n",
       "23             54.0       low_normal            Cash X-Sell: low  \n",
       "...             ...              ...                         ...  \n",
       "1670197        12.0           middle  POS industry with interest  \n",
       "1670203         0.0              XNA    POS mobile with interest  \n",
       "1670204        24.0           middle         Cash X-Sell: middle  \n",
       "1670205        24.0             high           Cash Street: high  \n",
       "1670207        12.0             high           Cash Street: high  \n",
       "\n",
       "[290678 rows x 26 columns]"
      ]
     },
     "execution_count": 475,
     "metadata": {},
     "output_type": "execute_result"
    }
   ],
   "source": [
    "refused_loans = inp1[inp1['NAME_CONTRACT_STATUS']=='Refused']\n",
    "refused_loans"
   ]
  },
  {
   "cell_type": "code",
   "execution_count": 476,
   "id": "218a1c47-b03e-4d15-9530-edd1e9d16d3b",
   "metadata": {},
   "outputs": [
    {
     "data": {
      "text/plain": [
       "CODE_REJECT_REASON\n",
       "HC        0.602835\n",
       "LIMIT     0.191552\n",
       "SCO       0.128895\n",
       "SCOFR     0.044073\n",
       "XNA       0.018013\n",
       "VERIF     0.012161\n",
       "SYSTEM    0.002467\n",
       "XAP       0.000003\n",
       "Name: proportion, dtype: float64"
      ]
     },
     "execution_count": 476,
     "metadata": {},
     "output_type": "execute_result"
    }
   ],
   "source": [
    "refused_loans.CODE_REJECT_REASON.value_counts(normalize=True)\n"
   ]
  },
  {
   "cell_type": "code",
   "execution_count": 477,
   "id": "fc9df90d-9d07-4b6f-ad28-11ac2e11d356",
   "metadata": {},
   "outputs": [
    {
     "data": {
      "image/png": "[encoded data removed]",
      "text/plain": [
       "<Figure size 640x480 with 1 Axes>"
      ]
     },
     "metadata": {},
     "output_type": "display_data"
    }
   ],
   "source": [
    "#Plotting the reasons for refusal graphically\n",
    "refused_loans.CODE_REJECT_REASON.value_counts(normalize=True).plot.barh()\n",
    "plt.show()"
   ]
  },
  {
   "cell_type": "markdown",
   "id": "b0d016a0-4318-4ffa-be88-e428627bd5e3",
   "metadata": {},
   "source": [
    "HC(Home Credit) ~60% is the maximum reason why these loan applications are rejected. \n",
    "It is possible that the ticket size of such loans are higher and the applicants donot have the requisite credit score or income to pay back such a massive loan amount."
   ]
  },
  {
   "cell_type": "markdown",
   "id": "253ad8ff-b2db-4839-8868-c989f7e89d0d",
   "metadata": {},
   "source": [
    "**Creating buckets of the income categories for easier classification**\n"
   ]
  },
  {
   "cell_type": "code",
   "execution_count": 480,
   "id": "5e365b74-c8d9-484e-8f23-2056654774dd",
   "metadata": {},
   "outputs": [
    {
     "data": {
      "text/plain": [
       "0    300000-400000\n",
       "1    300000-400000\n",
       "2          <100000\n",
       "3    100000-200000\n",
       "Name: AMT_INCOME_TOTAL, dtype: category\n",
       "Categories (4, object): ['<100000' < '100000-200000' < '300000-400000' < '>400000']"
      ]
     },
     "execution_count": 480,
     "metadata": {},
     "output_type": "execute_result"
    }
   ],
   "source": [
    "pd.cut(inp0.AMT_INCOME_TOTAL[:4],[0,100000,200000,300000,9000000],labels=[\"<100000\",\"100000-200000\",\"300000-400000\",\">400000\"])"
   ]
  },
  {
   "cell_type": "code",
   "execution_count": 481,
   "id": "c3e5b6e1-44a7-460c-bf00-2b617f794f47",
   "metadata": {},
   "outputs": [
    {
     "data": {
      "text/plain": [
       "0         202500.0\n",
       "1         270000.0\n",
       "2          67500.0\n",
       "3         135000.0\n",
       "4         121500.0\n",
       "            ...   \n",
       "307506    157500.0\n",
       "307507     72000.0\n",
       "307508    153000.0\n",
       "307509    171000.0\n",
       "307510    157500.0\n",
       "Name: AMT_INCOME_TOTAL, Length: 307507, dtype: float64"
      ]
     },
     "execution_count": 481,
     "metadata": {},
     "output_type": "execute_result"
    }
   ],
   "source": [
    "inp0.AMT_INCOME_TOTAL"
   ]
  },
  {
   "cell_type": "code",
   "execution_count": 482,
   "id": "d68d7133-4dca-4028-a052-4bc30bcb277a",
   "metadata": {},
   "outputs": [],
   "source": [
    "inp0['Income_groups'] = pd.cut(inp0.AMT_INCOME_TOTAL,[0,100000,200000,300000,9000000],labels=[\"<100000\",\"100000-200000\",\"300000-400000\",\">400000\"])"
   ]
  },
  {
   "cell_type": "code",
   "execution_count": 483,
   "id": "f9a3f38b-e881-48bb-a4f3-9028c1dbea11",
   "metadata": {
    "scrolled": true
   },
   "outputs": [
    {
     "data": {
      "text/plain": [
       "Income_groups\n",
       "100000-200000    0.506972\n",
       "300000-400000    0.211945\n",
       "<100000          0.207145\n",
       ">400000          0.073937\n",
       "Name: proportion, dtype: float64"
      ]
     },
     "execution_count": 483,
     "metadata": {},
     "output_type": "execute_result"
    }
   ],
   "source": [
    "inp0.Income_groups.value_counts(normalize=True)"
   ]
  },
  {
   "cell_type": "code",
   "execution_count": 484,
   "id": "5e3cc615-e4b4-4209-9e03-0986f642b4fa",
   "metadata": {},
   "outputs": [
    {
     "data": {
      "text/plain": [
       "<Axes: ylabel='Income_groups'>"
      ]
     },
     "execution_count": 484,
     "metadata": {},
     "output_type": "execute_result"
    },
    {
     "data": {
      "image/png": "[encoded data removed]",
      "text/plain": [
       "<Figure size 640x480 with 1 Axes>"
      ]
     },
     "metadata": {},
     "output_type": "display_data"
    }
   ],
   "source": [
    "inp0.Income_groups.value_counts(normalize=True).plot.barh()"
   ]
  },
  {
   "cell_type": "markdown",
   "id": "bcf11626-3813-4681-bc1f-a60ef5817ae9",
   "metadata": {},
   "source": [
    "The maximum proportion of candidates(~50%) for the loan lie in the income range of Rs.100000-200000 per month. Since these candidates earn well and are willing to take on credit, the bank can lend to them since the **assumption is** that probability of them defaulting will be low.\n",
    "From our previous analysis, it more likely that these high income candidates are State Servants and Commercial Associates(SALARIED PERSONS)\n"
   ]
  },
  {
   "cell_type": "code",
   "execution_count": 486,
   "id": "02265fef-1fff-49ce-a994-67ab8929824b",
   "metadata": {},
   "outputs": [
    {
     "data": {
      "image/png": "[encoded data removed]",
      "text/plain": [
       "<Figure size 640x480 with 1 Axes>"
      ]
     },
     "metadata": {},
     "output_type": "display_data"
    }
   ],
   "source": [
    "inp0.groupby('Income_groups')['TARGET'].mean().plot.barh()\n",
    "plt.show()"
   ]
  },
  {
   "cell_type": "markdown",
   "id": "d9715535-b59e-4c93-99d3-020d836f7d64",
   "metadata": {},
   "source": [
    "Clearly, our previous assumption is wrong about the Salaried persons category, as their default rates are on the higher side.\n",
    "Although they have a high income, they donot necessarily pay their annuities on time. \n",
    "So, the bank has to check their credit score beforehand before lending and charge an interest rate according to the risk taken."
   ]
  },
  {
   "cell_type": "markdown",
   "id": "551d92fd-fb21-4b3e-9918-db0ab818d6a9",
   "metadata": {},
   "source": [
    "**Creating bins of the age groups for easier classification**\n"
   ]
  },
  {
   "cell_type": "code",
   "execution_count": 489,
   "id": "eb2287fa-8925-4572-a41e-877dae6ec8dd",
   "metadata": {},
   "outputs": [
    {
     "data": {
      "text/plain": [
       "count    307507.000000\n",
       "mean         43.937061\n",
       "std          11.956116\n",
       "min          20.517808\n",
       "25%          34.008219\n",
       "50%          43.150685\n",
       "75%          53.923288\n",
       "max          69.120548\n",
       "Name: AGE_IN_YEARS, dtype: float64"
      ]
     },
     "execution_count": 489,
     "metadata": {},
     "output_type": "execute_result"
    }
   ],
   "source": [
    "inp0.AGE_IN_YEARS.describe()"
   ]
  },
  {
   "cell_type": "code",
   "execution_count": 490,
   "id": "372fda24-d9de-4b35-8464-f73b6731d86e",
   "metadata": {
    "scrolled": true
   },
   "outputs": [
    {
     "data": {
      "text/plain": [
       "0      <30\n",
       "1    40-50\n",
       "2      50+\n",
       "3      50+\n",
       "Name: AGE_IN_YEARS, dtype: category\n",
       "Categories (4, object): ['<30' < '30-40' < '40-50' < '50+']"
      ]
     },
     "execution_count": 490,
     "metadata": {},
     "output_type": "execute_result"
    }
   ],
   "source": [
    "pd.cut(inp0.AGE_IN_YEARS[:4],[0,30,40,50,60],labels=[\"<30\",\"30-40\",\"40-50\",\"50+\"])\n"
   ]
  },
  {
   "cell_type": "code",
   "execution_count": 491,
   "id": "2b4592f1-3b22-436a-aba0-e2a64c2963b5",
   "metadata": {},
   "outputs": [
    {
     "data": {
      "text/html": [
       "<div>\n",
       "<style scoped>\n",
       "    .dataframe tbody tr th:only-of-type {\n",
       "        vertical-align: middle;\n",
       "    }\n",
       "\n",
       "    .dataframe tbody tr th {\n",
       "        vertical-align: top;\n",
       "    }\n",
       "\n",
       "    .dataframe thead th {\n",
       "        text-align: right;\n",
       "    }\n",
       "</style>\n",
       "<table border=\"1\" class=\"dataframe\">\n",
       "  <thead>\n",
       "    <tr style=\"text-align: right;\">\n",
       "      <th></th>\n",
       "      <th>SK_ID_CURR</th>\n",
       "      <th>TARGET</th>\n",
       "      <th>NAME_CONTRACT_TYPE</th>\n",
       "      <th>CODE_GENDER</th>\n",
       "      <th>FLAG_OWN_CAR</th>\n",
       "      <th>FLAG_OWN_REALTY</th>\n",
       "      <th>CNT_CHILDREN</th>\n",
       "      <th>AMT_INCOME_TOTAL</th>\n",
       "      <th>AMT_CREDIT</th>\n",
       "      <th>AMT_ANNUITY</th>\n",
       "      <th>...</th>\n",
       "      <th>FLAG_DOCUMENT_15</th>\n",
       "      <th>FLAG_DOCUMENT_16</th>\n",
       "      <th>FLAG_DOCUMENT_17</th>\n",
       "      <th>FLAG_DOCUMENT_18</th>\n",
       "      <th>FLAG_DOCUMENT_19</th>\n",
       "      <th>FLAG_DOCUMENT_20</th>\n",
       "      <th>FLAG_DOCUMENT_21</th>\n",
       "      <th>AGE_IN_YEARS</th>\n",
       "      <th>Income_groups</th>\n",
       "      <th>Age_groups</th>\n",
       "    </tr>\n",
       "  </thead>\n",
       "  <tbody>\n",
       "    <tr>\n",
       "      <th>0</th>\n",
       "      <td>100002</td>\n",
       "      <td>1</td>\n",
       "      <td>Cash loans</td>\n",
       "      <td>M</td>\n",
       "      <td>N</td>\n",
       "      <td>Y</td>\n",
       "      <td>0</td>\n",
       "      <td>202500.0</td>\n",
       "      <td>406597.5</td>\n",
       "      <td>24700.5</td>\n",
       "      <td>...</td>\n",
       "      <td>0</td>\n",
       "      <td>0</td>\n",
       "      <td>0</td>\n",
       "      <td>0</td>\n",
       "      <td>0</td>\n",
       "      <td>0</td>\n",
       "      <td>0</td>\n",
       "      <td>25.920548</td>\n",
       "      <td>300000-400000</td>\n",
       "      <td>&lt;30</td>\n",
       "    </tr>\n",
       "    <tr>\n",
       "      <th>1</th>\n",
       "      <td>100003</td>\n",
       "      <td>0</td>\n",
       "      <td>Cash loans</td>\n",
       "      <td>F</td>\n",
       "      <td>N</td>\n",
       "      <td>N</td>\n",
       "      <td>0</td>\n",
       "      <td>270000.0</td>\n",
       "      <td>1293502.5</td>\n",
       "      <td>35698.5</td>\n",
       "      <td>...</td>\n",
       "      <td>0</td>\n",
       "      <td>0</td>\n",
       "      <td>0</td>\n",
       "      <td>0</td>\n",
       "      <td>0</td>\n",
       "      <td>0</td>\n",
       "      <td>0</td>\n",
       "      <td>45.931507</td>\n",
       "      <td>300000-400000</td>\n",
       "      <td>40-50</td>\n",
       "    </tr>\n",
       "    <tr>\n",
       "      <th>2</th>\n",
       "      <td>100004</td>\n",
       "      <td>0</td>\n",
       "      <td>Revolving loans</td>\n",
       "      <td>M</td>\n",
       "      <td>Y</td>\n",
       "      <td>Y</td>\n",
       "      <td>0</td>\n",
       "      <td>67500.0</td>\n",
       "      <td>135000.0</td>\n",
       "      <td>6750.0</td>\n",
       "      <td>...</td>\n",
       "      <td>0</td>\n",
       "      <td>0</td>\n",
       "      <td>0</td>\n",
       "      <td>0</td>\n",
       "      <td>0</td>\n",
       "      <td>0</td>\n",
       "      <td>0</td>\n",
       "      <td>52.180822</td>\n",
       "      <td>&lt;100000</td>\n",
       "      <td>50+</td>\n",
       "    </tr>\n",
       "    <tr>\n",
       "      <th>3</th>\n",
       "      <td>100006</td>\n",
       "      <td>0</td>\n",
       "      <td>Cash loans</td>\n",
       "      <td>F</td>\n",
       "      <td>N</td>\n",
       "      <td>Y</td>\n",
       "      <td>0</td>\n",
       "      <td>135000.0</td>\n",
       "      <td>312682.5</td>\n",
       "      <td>29686.5</td>\n",
       "      <td>...</td>\n",
       "      <td>0</td>\n",
       "      <td>0</td>\n",
       "      <td>0</td>\n",
       "      <td>0</td>\n",
       "      <td>0</td>\n",
       "      <td>0</td>\n",
       "      <td>0</td>\n",
       "      <td>52.068493</td>\n",
       "      <td>100000-200000</td>\n",
       "      <td>50+</td>\n",
       "    </tr>\n",
       "    <tr>\n",
       "      <th>4</th>\n",
       "      <td>100007</td>\n",
       "      <td>0</td>\n",
       "      <td>Cash loans</td>\n",
       "      <td>M</td>\n",
       "      <td>N</td>\n",
       "      <td>Y</td>\n",
       "      <td>0</td>\n",
       "      <td>121500.0</td>\n",
       "      <td>513000.0</td>\n",
       "      <td>21865.5</td>\n",
       "      <td>...</td>\n",
       "      <td>0</td>\n",
       "      <td>0</td>\n",
       "      <td>0</td>\n",
       "      <td>0</td>\n",
       "      <td>0</td>\n",
       "      <td>0</td>\n",
       "      <td>0</td>\n",
       "      <td>54.608219</td>\n",
       "      <td>100000-200000</td>\n",
       "      <td>50+</td>\n",
       "    </tr>\n",
       "  </tbody>\n",
       "</table>\n",
       "<p>5 rows × 118 columns</p>\n",
       "</div>"
      ],
      "text/plain": [
       "   SK_ID_CURR  TARGET NAME_CONTRACT_TYPE CODE_GENDER FLAG_OWN_CAR  \\\n",
       "0      100002       1         Cash loans           M            N   \n",
       "1      100003       0         Cash loans           F            N   \n",
       "2      100004       0    Revolving loans           M            Y   \n",
       "3      100006       0         Cash loans           F            N   \n",
       "4      100007       0         Cash loans           M            N   \n",
       "\n",
       "  FLAG_OWN_REALTY  CNT_CHILDREN  AMT_INCOME_TOTAL  AMT_CREDIT  AMT_ANNUITY  \\\n",
       "0               Y             0          202500.0    406597.5      24700.5   \n",
       "1               N             0          270000.0   1293502.5      35698.5   \n",
       "2               Y             0           67500.0    135000.0       6750.0   \n",
       "3               Y             0          135000.0    312682.5      29686.5   \n",
       "4               Y             0          121500.0    513000.0      21865.5   \n",
       "\n",
       "   ...  FLAG_DOCUMENT_15 FLAG_DOCUMENT_16 FLAG_DOCUMENT_17 FLAG_DOCUMENT_18  \\\n",
       "0  ...                 0                0                0                0   \n",
       "1  ...                 0                0                0                0   \n",
       "2  ...                 0                0                0                0   \n",
       "3  ...                 0                0                0                0   \n",
       "4  ...                 0                0                0                0   \n",
       "\n",
       "  FLAG_DOCUMENT_19 FLAG_DOCUMENT_20  FLAG_DOCUMENT_21  AGE_IN_YEARS  \\\n",
       "0                0                0                 0     25.920548   \n",
       "1                0                0                 0     45.931507   \n",
       "2                0                0                 0     52.180822   \n",
       "3                0                0                 0     52.068493   \n",
       "4                0                0                 0     54.608219   \n",
       "\n",
       "   Income_groups  Age_groups  \n",
       "0  300000-400000         <30  \n",
       "1  300000-400000       40-50  \n",
       "2        <100000         50+  \n",
       "3  100000-200000         50+  \n",
       "4  100000-200000         50+  \n",
       "\n",
       "[5 rows x 118 columns]"
      ]
     },
     "execution_count": 491,
     "metadata": {},
     "output_type": "execute_result"
    }
   ],
   "source": [
    "inp0['Age_groups'] = pd.cut(inp0.AGE_IN_YEARS,[0,30,40,50,60],labels=[\"<30\",\"30-40\",\"40-50\",\"50+\"])\n",
    "inp0.head()"
   ]
  },
  {
   "cell_type": "code",
   "execution_count": 492,
   "id": "edf6fe8a-359c-437c-b891-10c2815b2573",
   "metadata": {},
   "outputs": [
    {
     "data": {
      "image/png": "[encoded data removed]",
      "text/plain": [
       "<Figure size 640x480 with 1 Axes>"
      ]
     },
     "metadata": {},
     "output_type": "display_data"
    }
   ],
   "source": [
    "inp0.Age_groups.value_counts(normalize=True).plot.barh()\n",
    "plt.show()"
   ]
  },
  {
   "cell_type": "markdown",
   "id": "e8d3a33a-478c-45cd-b213-cc3f815d317a",
   "metadata": {},
   "source": [
    "From the chart, the maximum number of persons availing the loan facilities are in the age of 30-40 years, followed by the age group of 40-50 years."
   ]
  },
  {
   "cell_type": "code",
   "execution_count": 494,
   "id": "1144ef94-2149-44f7-bf86-3e91328871ac",
   "metadata": {},
   "outputs": [
    {
     "data": {
      "image/png": "[encoded data removed]",
      "text/plain": [
       "<Figure size 640x480 with 1 Axes>"
      ]
     },
     "metadata": {},
     "output_type": "display_data"
    }
   ],
   "source": [
    "inp0.groupby('Age_groups')['TARGET'].mean().plot.barh()\n",
    "plt.show()"
   ]
  },
  {
   "cell_type": "markdown",
   "id": "8bc7ee58-b326-4a19-84ad-6beffad0626b",
   "metadata": {},
   "source": [
    "The age groups of <30 years seem to be having a higher default rates as compared to other age groups. \n",
    "Hence, the bank can lend to this particular bracket but charge them a higher interest rate in order to offset the risk taken by the bank in providing credit to them."
   ]
  },
  {
   "cell_type": "code",
   "execution_count": 496,
   "id": "e475fcfa-16ab-445a-a74f-be24ad257670",
   "metadata": {},
   "outputs": [
    {
     "data": {
      "text/plain": [
       "WEEKDAY_APPR_PROCESS_START\n",
       "TUESDAY      0.175281\n",
       "WEDNESDAY    0.168887\n",
       "MONDAY       0.164920\n",
       "THURSDAY     0.164517\n",
       "FRIDAY       0.163691\n",
       "SATURDAY     0.110085\n",
       "SUNDAY       0.052620\n",
       "Name: proportion, dtype: float64"
      ]
     },
     "execution_count": 496,
     "metadata": {},
     "output_type": "execute_result"
    }
   ],
   "source": [
    "#Which days of the week did the clients apply for the loan?\n",
    "inp0.WEEKDAY_APPR_PROCESS_START.value_counts(normalize=True)\n"
   ]
  },
  {
   "cell_type": "code",
   "execution_count": 497,
   "id": "b3b04599-c0cb-4e61-98ea-c28edf560fc3",
   "metadata": {},
   "outputs": [
    {
     "data": {
      "image/png": "[encoded data removed]",
      "text/plain": [
       "<Figure size 640x480 with 1 Axes>"
      ]
     },
     "metadata": {},
     "output_type": "display_data"
    }
   ],
   "source": [
    "inp0.WEEKDAY_APPR_PROCESS_START.value_counts(normalize=True).plot.bar()\n",
    "plt.show()"
   ]
  },
  {
   "cell_type": "markdown",
   "id": "e829ff90-fc23-43cd-85cf-50cda84183f8",
   "metadata": {},
   "source": [
    "Weekdays show the highest traffic for starting the loan application, topped by Tuesday and followed by Wednesday and Monday.\n",
    "Weekends show less traffic, probably due to the customers being away on holiday or spending time with family."
   ]
  },
  {
   "cell_type": "markdown",
   "id": "d5949c1f-f73b-4fde-b1b1-e134382236e4",
   "metadata": {},
   "source": [
    "**Ratio of data imbalance:**\n"
   ]
  },
  {
   "cell_type": "markdown",
   "id": "f850ca58-356a-4de8-b519-c89c3432c127",
   "metadata": {},
   "source": [
    "Yes, the data set is highly imbalanced due to unequal distribution of target values across the labels in the dataset. The data imbalance is seen while analyzing the scatterplots of 'Age vs Income' & 'Gender Vs Income', where the data is highly skewed in one direction."
   ]
  },
  {
   "cell_type": "code",
   "execution_count": 501,
   "id": "e6717517-28b7-4e74-a463-c2c47af5818c",
   "metadata": {},
   "outputs": [
    {
     "data": {
      "text/plain": [
       "TARGET\n",
       "0    282682\n",
       "1     24825\n",
       "Name: count, dtype: int64"
      ]
     },
     "execution_count": 501,
     "metadata": {},
     "output_type": "execute_result"
    }
   ],
   "source": [
    "#Calculation of ratio of data imbalance:\n",
    "inp0.TARGET.value_counts()"
   ]
  },
  {
   "cell_type": "code",
   "execution_count": 502,
   "id": "c4b805f5-c68e-4c92-8ed2-4c8f465b347d",
   "metadata": {},
   "outputs": [
    {
     "name": "stdout",
     "output_type": "stream",
     "text": [
      "The ratio of data imbalance is 0.09\n"
     ]
    }
   ],
   "source": [
    "ratio_data_imbalance = round(float(24825/282682),2)\n",
    "\n",
    "print(\"The ratio of data imbalance is\", ratio_data_imbalance)"
   ]
  },
  {
   "cell_type": "markdown",
   "id": "42437906-2421-46b5-a7c5-e6e3c306eb23",
   "metadata": {},
   "source": [
    "**Multivariate Analysis**\n"
   ]
  },
  {
   "cell_type": "markdown",
   "id": "922342ca-36c1-4add-848d-557127fd54e8",
   "metadata": {},
   "source": [
    "**Finding Correlations between the different variables in the dataset**"
   ]
  },
  {
   "cell_type": "code",
   "execution_count": 505,
   "id": "d06c50bf-748a-44f9-8247-9412e3acb173",
   "metadata": {},
   "outputs": [
    {
     "data": {
      "text/html": [
       "<div>\n",
       "<style scoped>\n",
       "    .dataframe tbody tr th:only-of-type {\n",
       "        vertical-align: middle;\n",
       "    }\n",
       "\n",
       "    .dataframe tbody tr th {\n",
       "        vertical-align: top;\n",
       "    }\n",
       "\n",
       "    .dataframe thead th {\n",
       "        text-align: right;\n",
       "    }\n",
       "</style>\n",
       "<table border=\"1\" class=\"dataframe\">\n",
       "  <thead>\n",
       "    <tr style=\"text-align: right;\">\n",
       "      <th>Age_groups</th>\n",
       "      <th>&lt;30</th>\n",
       "      <th>30-40</th>\n",
       "      <th>40-50</th>\n",
       "      <th>50+</th>\n",
       "    </tr>\n",
       "    <tr>\n",
       "      <th>NAME_EDUCATION_TYPE</th>\n",
       "      <th></th>\n",
       "      <th></th>\n",
       "      <th></th>\n",
       "      <th></th>\n",
       "    </tr>\n",
       "  </thead>\n",
       "  <tbody>\n",
       "    <tr>\n",
       "      <th>Academic degree</th>\n",
       "      <td>638930.700000</td>\n",
       "      <td>733116.600000</td>\n",
       "      <td>785155.867347</td>\n",
       "      <td>776124.140625</td>\n",
       "    </tr>\n",
       "    <tr>\n",
       "      <th>Higher education</th>\n",
       "      <td>556246.024178</td>\n",
       "      <td>684606.163124</td>\n",
       "      <td>759212.339752</td>\n",
       "      <td>779087.141761</td>\n",
       "    </tr>\n",
       "    <tr>\n",
       "      <th>Incomplete higher</th>\n",
       "      <td>468012.722746</td>\n",
       "      <td>616568.681073</td>\n",
       "      <td>688542.026265</td>\n",
       "      <td>688588.680152</td>\n",
       "    </tr>\n",
       "    <tr>\n",
       "      <th>Lower secondary</th>\n",
       "      <td>425855.906757</td>\n",
       "      <td>508221.568228</td>\n",
       "      <td>566931.477273</td>\n",
       "      <td>534692.008312</td>\n",
       "    </tr>\n",
       "    <tr>\n",
       "      <th>Secondary / secondary special</th>\n",
       "      <td>445970.423090</td>\n",
       "      <td>563405.811988</td>\n",
       "      <td>626261.649781</td>\n",
       "      <td>615378.586001</td>\n",
       "    </tr>\n",
       "  </tbody>\n",
       "</table>\n",
       "</div>"
      ],
      "text/plain": [
       "Age_groups                               <30          30-40          40-50  \\\n",
       "NAME_EDUCATION_TYPE                                                          \n",
       "Academic degree                638930.700000  733116.600000  785155.867347   \n",
       "Higher education               556246.024178  684606.163124  759212.339752   \n",
       "Incomplete higher              468012.722746  616568.681073  688542.026265   \n",
       "Lower secondary                425855.906757  508221.568228  566931.477273   \n",
       "Secondary / secondary special  445970.423090  563405.811988  626261.649781   \n",
       "\n",
       "Age_groups                               50+  \n",
       "NAME_EDUCATION_TYPE                           \n",
       "Academic degree                776124.140625  \n",
       "Higher education               779087.141761  \n",
       "Incomplete higher              688588.680152  \n",
       "Lower secondary                534692.008312  \n",
       "Secondary / secondary special  615378.586001  "
      ]
     },
     "execution_count": 505,
     "metadata": {},
     "output_type": "execute_result"
    }
   ],
   "source": [
    "#Education vs Age_groups vs Loan Amount taken\n",
    "res=pd.pivot_table(data=inp0,index='NAME_EDUCATION_TYPE',columns='Age_groups',values='AMT_CREDIT')\n",
    "res"
   ]
  },
  {
   "cell_type": "code",
   "execution_count": 506,
   "id": "8a68ccb7-c52c-4dc2-a7f0-4d97327b9c73",
   "metadata": {},
   "outputs": [
    {
     "data": {
      "image/png": "[encoded data removed]",
      "text/plain": [
       "<Figure size 640x480 with 2 Axes>"
      ]
     },
     "metadata": {},
     "output_type": "display_data"
    }
   ],
   "source": [
    "sns.heatmap(res,annot=True,cmap='RdYlGn')\n",
    "plt.show()"
   ]
  },
  {
   "cell_type": "markdown",
   "id": "98a8dde0-5643-46fb-bf16-14eb461ef289",
   "metadata": {},
   "source": [
    "From the heatmap, we can infer that:\n",
    "\n",
    "1.Customers who are 50+ in age and possess academic degrees are more likely to take higher loan amounts.We conclude this due to a high correlation coefficent from the heatmap. \n",
    "These customers are also high earners as well, as seen in the bivariate analysis\n",
    "\n",
    "2.Customers in the age groups of <30 years are less likely to take high ticket loans. These customers are only educated upto the secondary class."
   ]
  },
  {
   "cell_type": "code",
   "execution_count": 508,
   "id": "caae7cb6-cb92-42b5-a68f-f638333ab53a",
   "metadata": {},
   "outputs": [
    {
     "data": {
      "text/html": [
       "<div>\n",
       "<style scoped>\n",
       "    .dataframe tbody tr th:only-of-type {\n",
       "        vertical-align: middle;\n",
       "    }\n",
       "\n",
       "    .dataframe tbody tr th {\n",
       "        vertical-align: top;\n",
       "    }\n",
       "\n",
       "    .dataframe thead th {\n",
       "        text-align: right;\n",
       "    }\n",
       "</style>\n",
       "<table border=\"1\" class=\"dataframe\">\n",
       "  <thead>\n",
       "    <tr style=\"text-align: right;\">\n",
       "      <th>Age_groups</th>\n",
       "      <th>&lt;30</th>\n",
       "      <th>30-40</th>\n",
       "      <th>40-50</th>\n",
       "      <th>50+</th>\n",
       "    </tr>\n",
       "    <tr>\n",
       "      <th>NAME_FAMILY_STATUS</th>\n",
       "      <th></th>\n",
       "      <th></th>\n",
       "      <th></th>\n",
       "      <th></th>\n",
       "    </tr>\n",
       "  </thead>\n",
       "  <tbody>\n",
       "    <tr>\n",
       "      <th>Civil marriage</th>\n",
       "      <td>0.120135</td>\n",
       "      <td>0.113448</td>\n",
       "      <td>0.096234</td>\n",
       "      <td>0.073535</td>\n",
       "    </tr>\n",
       "    <tr>\n",
       "      <th>Married</th>\n",
       "      <td>0.109770</td>\n",
       "      <td>0.089715</td>\n",
       "      <td>0.071173</td>\n",
       "      <td>0.057450</td>\n",
       "    </tr>\n",
       "    <tr>\n",
       "      <th>Separated</th>\n",
       "      <td>0.135409</td>\n",
       "      <td>0.099704</td>\n",
       "      <td>0.080624</td>\n",
       "      <td>0.066730</td>\n",
       "    </tr>\n",
       "    <tr>\n",
       "      <th>Single / not married</th>\n",
       "      <td>0.118496</td>\n",
       "      <td>0.111583</td>\n",
       "      <td>0.089688</td>\n",
       "      <td>0.072553</td>\n",
       "    </tr>\n",
       "    <tr>\n",
       "      <th>Unknown</th>\n",
       "      <td>NaN</td>\n",
       "      <td>0.000000</td>\n",
       "      <td>NaN</td>\n",
       "      <td>NaN</td>\n",
       "    </tr>\n",
       "    <tr>\n",
       "      <th>Widow</th>\n",
       "      <td>0.077922</td>\n",
       "      <td>0.090747</td>\n",
       "      <td>0.067892</td>\n",
       "      <td>0.060636</td>\n",
       "    </tr>\n",
       "  </tbody>\n",
       "</table>\n",
       "</div>"
      ],
      "text/plain": [
       "Age_groups                 <30     30-40     40-50       50+\n",
       "NAME_FAMILY_STATUS                                          \n",
       "Civil marriage        0.120135  0.113448  0.096234  0.073535\n",
       "Married               0.109770  0.089715  0.071173  0.057450\n",
       "Separated             0.135409  0.099704  0.080624  0.066730\n",
       "Single / not married  0.118496  0.111583  0.089688  0.072553\n",
       "Unknown                    NaN  0.000000       NaN       NaN\n",
       "Widow                 0.077922  0.090747  0.067892  0.060636"
      ]
     },
     "execution_count": 508,
     "metadata": {},
     "output_type": "execute_result"
    }
   ],
   "source": [
    "#Family Status vs Age Groups Vs Target variable\n",
    "res2 = pd.pivot_table(data=inp0,index='NAME_FAMILY_STATUS',columns='Age_groups',values='TARGET')\n",
    "res2\n"
   ]
  },
  {
   "cell_type": "code",
   "execution_count": 509,
   "id": "917dfcda-2a11-4f31-97c9-8ecc2f84f94f",
   "metadata": {},
   "outputs": [
    {
     "data": {
      "image/png": "[encoded data removed]",
      "text/plain": [
       "<Figure size 640x480 with 2 Axes>"
      ]
     },
     "metadata": {},
     "output_type": "display_data"
    }
   ],
   "source": [
    "sns.heatmap(res2,annot=True,cmap='RdYlGn')\n",
    "plt.show()"
   ]
  },
  {
   "cell_type": "markdown",
   "id": "1c0a1bfc-9e37-40a2-bb00-5a2dadf9dd44",
   "metadata": {},
   "source": [
    "From this heatmap, we can conclude that those customers who are separated and are <30 years are more likely to face payment difficulties.\n",
    "On the other hand, the customers in the age groups of 40 and above are good customers who pay their loans on time."
   ]
  },
  {
   "cell_type": "code",
   "execution_count": 511,
   "id": "f48abca9-37af-49d0-a7a4-1b6d414a349b",
   "metadata": {},
   "outputs": [
    {
     "data": {
      "text/html": [
       "<div>\n",
       "<style scoped>\n",
       "    .dataframe tbody tr th:only-of-type {\n",
       "        vertical-align: middle;\n",
       "    }\n",
       "\n",
       "    .dataframe tbody tr th {\n",
       "        vertical-align: top;\n",
       "    }\n",
       "\n",
       "    .dataframe thead th {\n",
       "        text-align: right;\n",
       "    }\n",
       "</style>\n",
       "<table border=\"1\" class=\"dataframe\">\n",
       "  <thead>\n",
       "    <tr style=\"text-align: right;\">\n",
       "      <th>Age_groups</th>\n",
       "      <th>&lt;30</th>\n",
       "      <th>30-40</th>\n",
       "      <th>40-50</th>\n",
       "      <th>50+</th>\n",
       "    </tr>\n",
       "    <tr>\n",
       "      <th>Income_groups</th>\n",
       "      <th></th>\n",
       "      <th></th>\n",
       "      <th></th>\n",
       "      <th></th>\n",
       "    </tr>\n",
       "  </thead>\n",
       "  <tbody>\n",
       "    <tr>\n",
       "      <th>&lt;100000</th>\n",
       "      <td>317199.978747</td>\n",
       "      <td>387097.853458</td>\n",
       "      <td>424351.014719</td>\n",
       "      <td>4.218038e+05</td>\n",
       "    </tr>\n",
       "    <tr>\n",
       "      <th>100000-200000</th>\n",
       "      <td>459045.791029</td>\n",
       "      <td>555968.518660</td>\n",
       "      <td>611554.685187</td>\n",
       "      <td>6.240315e+05</td>\n",
       "    </tr>\n",
       "    <tr>\n",
       "      <th>300000-400000</th>\n",
       "      <td>634497.764540</td>\n",
       "      <td>732481.607187</td>\n",
       "      <td>788964.373269</td>\n",
       "      <td>8.207750e+05</td>\n",
       "    </tr>\n",
       "    <tr>\n",
       "      <th>&gt;400000</th>\n",
       "      <td>820617.370313</td>\n",
       "      <td>921815.056553</td>\n",
       "      <td>982125.781884</td>\n",
       "      <td>1.028921e+06</td>\n",
       "    </tr>\n",
       "  </tbody>\n",
       "</table>\n",
       "</div>"
      ],
      "text/plain": [
       "Age_groups               <30          30-40          40-50           50+\n",
       "Income_groups                                                           \n",
       "<100000        317199.978747  387097.853458  424351.014719  4.218038e+05\n",
       "100000-200000  459045.791029  555968.518660  611554.685187  6.240315e+05\n",
       "300000-400000  634497.764540  732481.607187  788964.373269  8.207750e+05\n",
       ">400000        820617.370313  921815.056553  982125.781884  1.028921e+06"
      ]
     },
     "execution_count": 511,
     "metadata": {},
     "output_type": "execute_result"
    }
   ],
   "source": [
    "#Correlation between Income Groups vs Age group vs Loan value taken\n",
    "res3 = pd.pivot_table(data=inp0, index='Income_groups',columns='Age_groups',values='AMT_CREDIT')\n",
    "res3\n"
   ]
  },
  {
   "cell_type": "code",
   "execution_count": 512,
   "id": "1164b3a2-18bb-40bb-ab32-693af2a4e887",
   "metadata": {},
   "outputs": [
    {
     "data": {
      "image/png": "[encoded data removed]",
      "text/plain": [
       "<Figure size 640x480 with 2 Axes>"
      ]
     },
     "metadata": {},
     "output_type": "display_data"
    }
   ],
   "source": [
    "sns.heatmap(res3,annot=True,cmap='RdYlGn')\n",
    "plt.show()"
   ]
  },
  {
   "cell_type": "markdown",
   "id": "81cbd157-2dee-4b12-aa7f-b67b44f56a63",
   "metadata": {},
   "source": [
    "The customers above the ages of 40 and income of >400000 are able to take loans of a higher ticket size. Their default rates are also lesser, so targeting the 40+ age groups for loans can increase the bank's revenue."
   ]
  },
  {
   "cell_type": "code",
   "execution_count": null,
   "id": "a95dcd5e-cba7-4ccd-b70c-28812b5e33f0",
   "metadata": {},
   "outputs": [],
   "source": []
  }
 ],
 "metadata": {
  "kernelspec": {
   "display_name": "Python 3 (ipykernel)",
   "language": "python",
   "name": "python3"
  },
  "language_info": {
   "codemirror_mode": {
    "name": "ipython",
    "version": 3
   },
   "file_extension": ".py",
   "mimetype": "text/x-python",
   "name": "python",
   "nbconvert_exporter": "python",
   "pygments_lexer": "ipython3",
   "version": "3.12.4"
  }
 },
 "nbformat": 4,
 "nbformat_minor": 5
}
